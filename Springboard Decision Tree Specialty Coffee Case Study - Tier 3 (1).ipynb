{
 "cells": [
  {
   "cell_type": "markdown",
   "metadata": {
    "colab_type": "text",
    "id": "Jm0w3zN4DuVK"
   },
   "source": [
    "# **Springboard Decision Tree Specialty Coffee Case Study - Tier 3**\n",
    "\n",
    "\n"
   ]
  },
  {
   "cell_type": "markdown",
   "metadata": {
    "colab_type": "text",
    "id": "BhqpAY7GDuVN"
   },
   "source": [
    "# The Scenario\n",
    "\n",
    "Imagine you've just finished the Springboard Data Science Career Track course, and have been hired by a rising popular specialty coffee company - RR Diner Coffee - as a data scientist. Congratulations!\n",
    "\n",
    "RR Diner Coffee sells two types of item:\n",
    "- specialty coffee beans, in bulk (by the kilogram only) \n",
    "- coffee equipment and merchandise (grinders, brewing equipment, mugs, books, t-shirts)\n",
    "\n",
    "RR Diner Coffee has three stores, two in Europe and one in the United States. The flagshap store is in the US, and everything is quality assessed there, before being shipped out. Customers further away from the US flagship store have higher shipping charges. \n",
    "\n",
    "You've been taken on at RR Diner Coffee because the company is turning towards using data science and machine learning to systematically make decisions about which coffee farmers they should strike deals with. \n",
    "\n",
    "RR Diner Coffee typically buys coffee from farmers, processes it on site, brings it back to the US, roasts it, packages it, markets it, and ships it (only in bulk, and after quality assurance) to customers internationally. These customers all own coffee shops in major cities like New York, Paris, London, Hong Kong, Tokyo, and Berlin. \n",
    "\n",
    "Now, RR Diner Coffee has a decision about whether to strike a deal with a legendary coffee farm (known as the **Hidden Farm**) in rural China: there are rumors their coffee tastes of lychee and dark chocolate, while also being as sweet as apple juice. \n",
    "\n",
    "It's a risky decision, as the deal will be expensive, and the coffee might not be bought by customers. The stakes are high: times are tough, stocks are low, farmers are reverting to old deals with the larger enterprises and the publicity of selling *Hidden Farm* coffee could save the RR Diner Coffee business. \n",
    "\n",
    "Your first job, then, is ***to build a decision tree to predict how many units of the Hidden Farm Chinese coffee will be purchased by RR Diner Coffee's most loyal customers.*** \n",
    "\n",
    "To this end, you and your team have conducted a survey of 710 of the most loyal RR Diner Coffee customers, collecting data on the customers':\n",
    "- age\n",
    "- gender \n",
    "- salary \n",
    "- whether they have bought at least one RR Diner Coffee product online\n",
    "- their distance from the flagship store in the US (standardized to a number between 0 and 11) \n",
    "- how much they spent on RR Diner Coffee products on the week of the survey \n",
    "- how much they spent on RR Diner Coffee products in the month preceding the survey\n",
    "- the number of RR Diner coffee bean shipments each customer has ordered over the preceding year. \n",
    "\n",
    "You also asked each customer participating in the survey whether they would buy the Hidden Farm coffee, and some (but not all) of the customers gave responses to that question. \n",
    "\n",
    "You sit back and think: if more than 70% of the interviewed customers are likely to buy the Hidden Farm coffee, you will strike the deal with the local Hidden Farm farmers and sell the coffee. Otherwise, you won't strike the deal and the Hidden Farm coffee will remain in legends only. There's some doubt in your mind about whether 70% is a reasonable threshold, but it'll do for the moment. \n",
    "\n",
    "To solve the problem, then, you will build a decision tree to implement a classification solution. \n",
    "\n",
    "\n",
    "-------------------------------\n",
    "As with other case studies in this course, this notebook is **tiered**, meaning you can elect the tier that is right for your confidence and skill level. There are 3 tiers, with tier 1 being the easiest and tier 3 being the hardest. This is ***tier 3***. \n",
    "\n",
    "**1. Sourcing and loading** \n",
    "- Import packages\n",
    "- Load data\n",
    "- Explore the data\n",
    "\n",
    " \n",
    "**2. Cleaning, transforming, and visualizing**\n",
    "- Cleaning the data\n",
    "- Train/test split\n",
    "  \n",
    "  \n",
    "**3. Modeling** \n",
    "- Model 1: Entropy model - no max_depth\n",
    "- Model 2: Gini impurity model - no max_depth\n",
    "- Model 3: Entropy model - max depth 3\n",
    "- Model 4: Gini impurity model - max depth 3\n",
    "\n",
    "\n",
    "**4. Evaluating and concluding** \n",
    "- How many customers will buy Hidden Farm coffee?\n",
    "- Decision\n",
    "\n",
    "**5. Random Forest** \n",
    "- Import necessary modules\n",
    "- Model\n",
    "- Revise conclusion\n",
    "    "
   ]
  },
  {
   "cell_type": "markdown",
   "metadata": {
    "colab_type": "text",
    "id": "nciXGXtCDuVO"
   },
   "source": [
    "# 0. Overview\n",
    "\n",
    "This notebook uses decision trees to determine whether the factors listed above (salary, gender, age, how much money the customer spent last week and during the preceding month on RR Diner Coffee products, how many kilogram coffee bags the customer bought over the last year, whether they have bought at least one RR Diner Coffee product online, and their distance from the flagship store in the USA), could predict whether customers would purchase the Hidden Farm coffee if a deal with its farmers were struck. "
   ]
  },
  {
   "cell_type": "markdown",
   "metadata": {
    "colab_type": "text",
    "id": "5fSgD2h9DuVP"
   },
   "source": [
    "# 1. Sourcing and loading\n",
    "## 1a. Import Packages"
   ]
  },
  {
   "cell_type": "code",
   "execution_count": 2,
   "metadata": {},
   "outputs": [
    {
     "name": "stdout",
     "output_type": "stream",
     "text": [
      "Collecting scikit-learn==0.20.3\n",
      "  Downloading scikit_learn-0.20.3-cp37-cp37m-macosx_10_6_intel.macosx_10_9_intel.macosx_10_9_x86_64.macosx_10_10_intel.macosx_10_10_x86_64.whl (8.0 MB)\n",
      "\u001b[K     |████████████████████████████████| 8.0 MB 1.4 MB/s eta 0:00:01\n",
      "\u001b[?25hRequirement already satisfied, skipping upgrade: numpy>=1.8.2 in ./opt/anaconda3/lib/python3.7/site-packages (from scikit-learn==0.20.3) (1.19.1)\n",
      "Requirement already satisfied, skipping upgrade: scipy>=0.13.3 in ./opt/anaconda3/lib/python3.7/site-packages (from scikit-learn==0.20.3) (1.5.0)\n",
      "Installing collected packages: scikit-learn\n",
      "  Attempting uninstall: scikit-learn\n",
      "    Found existing installation: scikit-learn 0.23.1\n",
      "    Uninstalling scikit-learn-0.23.1:\n",
      "      Successfully uninstalled scikit-learn-0.23.1\n",
      "\u001b[31mERROR: After October 2020 you may experience errors when installing or updating packages. This is because pip will change the way that it resolves dependency conflicts.\n",
      "\n",
      "We recommend you use --use-feature=2020-resolver to test your packages with the new resolver before it becomes the default.\n",
      "\n",
      "orange3 3.26.0 requires scikit-learn!=0.23.0,>=0.22.0, but you'll have scikit-learn 0.20.3 which is incompatible.\u001b[0m\n",
      "Successfully installed scikit-learn-0.20.3\n",
      "Note: you may need to restart the kernel to use updated packages.\n"
     ]
    }
   ],
   "source": [
    "pip install --upgrade scikit-learn==0.20.3"
   ]
  },
  {
   "cell_type": "code",
   "execution_count": 5,
   "metadata": {},
   "outputs": [
    {
     "name": "stdout",
     "output_type": "stream",
     "text": [
      "Collecting pydotplus\n",
      "  Downloading pydotplus-2.0.2.tar.gz (278 kB)\n",
      "\u001b[K     |████████████████████████████████| 278 kB 1.3 MB/s eta 0:00:01\n",
      "\u001b[?25hRequirement already satisfied: pyparsing>=2.0.1 in ./opt/anaconda3/lib/python3.7/site-packages (from pydotplus) (2.4.7)\n",
      "Building wheels for collected packages: pydotplus\n",
      "  Building wheel for pydotplus (setup.py) ... \u001b[?25ldone\n",
      "\u001b[?25h  Created wheel for pydotplus: filename=pydotplus-2.0.2-py3-none-any.whl size=24566 sha256=1561cf8480d95bd8bc6c68eb9ffaeaa0005fed80cbabc9eb4862c7964eab13dd\n",
      "  Stored in directory: /Users/josevans/Library/Caches/pip/wheels/1e/7b/04/7387cf6cc9e48b4a96e361b0be812f0708b394b821bf8c9c50\n",
      "Successfully built pydotplus\n",
      "Installing collected packages: pydotplus\n",
      "Successfully installed pydotplus-2.0.2\n",
      "Note: you may need to restart the kernel to use updated packages.\n"
     ]
    }
   ],
   "source": [
    "pip install pydotplus"
   ]
  },
  {
   "cell_type": "code",
   "execution_count": 1,
   "metadata": {
    "colab": {},
    "colab_type": "code",
    "id": "CfGkTcLvDuVQ"
   },
   "outputs": [],
   "source": [
    "import pandas as pd\n",
    "import numpy as np\n",
    "from sklearn import tree, metrics\n",
    "from sklearn.model_selection import train_test_split\n",
    "import seaborn as sns\n",
    "import matplotlib.pyplot as plt\n",
    "from sklearn.externals.six import StringIO  \n",
    "from IPython.display import Image  \n",
    "import pydotplus"
   ]
  },
  {
   "cell_type": "markdown",
   "metadata": {
    "colab_type": "text",
    "id": "ZLgxyhNrDuVT"
   },
   "source": [
    "## 1b. Load data "
   ]
  },
  {
   "cell_type": "code",
   "execution_count": 2,
   "metadata": {
    "colab": {},
    "colab_type": "code",
    "id": "chW2ozlnDuVU"
   },
   "outputs": [],
   "source": [
    "# Read in the data to a variable called coffeeData\n",
    "coffeeData = pd.read_csv('/Users/josevans/Downloads/RR Diner Case Study/RRDinerCoffeeData.csv')"
   ]
  },
  {
   "cell_type": "markdown",
   "metadata": {
    "colab_type": "text",
    "id": "qnMVYf2NDuVW"
   },
   "source": [
    "## 1c. Explore the data"
   ]
  },
  {
   "cell_type": "markdown",
   "metadata": {
    "colab_type": "text",
    "id": "U5Qm4obyDuVX"
   },
   "source": [
    "As we've seen, exploration entails doing things like checking out the **initial appearance** of the data with head(), the **dimensions** of our data with .shape, the **data types** of the variables with .info(), the **number of non-null values**, how much **memory** is being used to store the data, and finally the major summary statistcs capturing **central tendancy, dispersion and the null-excluding shape of the dataset's distribution**. \n",
    "\n",
    "How much of this can you do yourself by this point in the course? Have a real go. "
   ]
  },
  {
   "cell_type": "code",
   "execution_count": 3,
   "metadata": {
    "colab": {},
    "colab_type": "code",
    "id": "cHEKFT4SDuVY"
   },
   "outputs": [
    {
     "data": {
      "text/html": [
       "<div>\n",
       "<style scoped>\n",
       "    .dataframe tbody tr th:only-of-type {\n",
       "        vertical-align: middle;\n",
       "    }\n",
       "\n",
       "    .dataframe tbody tr th {\n",
       "        vertical-align: top;\n",
       "    }\n",
       "\n",
       "    .dataframe thead th {\n",
       "        text-align: right;\n",
       "    }\n",
       "</style>\n",
       "<table border=\"1\" class=\"dataframe\">\n",
       "  <thead>\n",
       "    <tr style=\"text-align: right;\">\n",
       "      <th></th>\n",
       "      <th>Age</th>\n",
       "      <th>Gender</th>\n",
       "      <th>num_coffeeBags_per_year</th>\n",
       "      <th>spent_week</th>\n",
       "      <th>spent_month</th>\n",
       "      <th>SlrAY</th>\n",
       "      <th>Distance</th>\n",
       "      <th>Online</th>\n",
       "      <th>Decision</th>\n",
       "    </tr>\n",
       "  </thead>\n",
       "  <tbody>\n",
       "    <tr>\n",
       "      <th>0</th>\n",
       "      <td>36</td>\n",
       "      <td>Female</td>\n",
       "      <td>0</td>\n",
       "      <td>24</td>\n",
       "      <td>73</td>\n",
       "      <td>42789</td>\n",
       "      <td>0.003168</td>\n",
       "      <td>0</td>\n",
       "      <td>1.0</td>\n",
       "    </tr>\n",
       "    <tr>\n",
       "      <th>1</th>\n",
       "      <td>24</td>\n",
       "      <td>Male</td>\n",
       "      <td>0</td>\n",
       "      <td>44</td>\n",
       "      <td>164</td>\n",
       "      <td>74035</td>\n",
       "      <td>0.520906</td>\n",
       "      <td>0</td>\n",
       "      <td>NaN</td>\n",
       "    </tr>\n",
       "    <tr>\n",
       "      <th>2</th>\n",
       "      <td>24</td>\n",
       "      <td>Male</td>\n",
       "      <td>0</td>\n",
       "      <td>39</td>\n",
       "      <td>119</td>\n",
       "      <td>30563</td>\n",
       "      <td>0.916005</td>\n",
       "      <td>1</td>\n",
       "      <td>1.0</td>\n",
       "    </tr>\n",
       "    <tr>\n",
       "      <th>3</th>\n",
       "      <td>20</td>\n",
       "      <td>Male</td>\n",
       "      <td>0</td>\n",
       "      <td>30</td>\n",
       "      <td>107</td>\n",
       "      <td>13166</td>\n",
       "      <td>0.932098</td>\n",
       "      <td>1</td>\n",
       "      <td>NaN</td>\n",
       "    </tr>\n",
       "    <tr>\n",
       "      <th>4</th>\n",
       "      <td>24</td>\n",
       "      <td>Female</td>\n",
       "      <td>0</td>\n",
       "      <td>20</td>\n",
       "      <td>36</td>\n",
       "      <td>14244</td>\n",
       "      <td>0.965881</td>\n",
       "      <td>0</td>\n",
       "      <td>1.0</td>\n",
       "    </tr>\n",
       "  </tbody>\n",
       "</table>\n",
       "</div>"
      ],
      "text/plain": [
       "   Age  Gender  num_coffeeBags_per_year  spent_week  spent_month  SlrAY  \\\n",
       "0   36  Female                        0          24           73  42789   \n",
       "1   24    Male                        0          44          164  74035   \n",
       "2   24    Male                        0          39          119  30563   \n",
       "3   20    Male                        0          30          107  13166   \n",
       "4   24  Female                        0          20           36  14244   \n",
       "\n",
       "   Distance  Online  Decision  \n",
       "0  0.003168       0       1.0  \n",
       "1  0.520906       0       NaN  \n",
       "2  0.916005       1       1.0  \n",
       "3  0.932098       1       NaN  \n",
       "4  0.965881       0       1.0  "
      ]
     },
     "execution_count": 3,
     "metadata": {},
     "output_type": "execute_result"
    }
   ],
   "source": [
    "# Call head() on your data \n",
    "coffeeData.head()"
   ]
  },
  {
   "cell_type": "code",
   "execution_count": 4,
   "metadata": {
    "colab": {},
    "colab_type": "code",
    "id": "rDshwA7tDuVa"
   },
   "outputs": [
    {
     "data": {
      "text/plain": [
       "(702, 9)"
      ]
     },
     "execution_count": 4,
     "metadata": {},
     "output_type": "execute_result"
    }
   ],
   "source": [
    "# Call .shape on your data\n",
    "coffeeData.shape"
   ]
  },
  {
   "cell_type": "code",
   "execution_count": 5,
   "metadata": {
    "colab": {},
    "colab_type": "code",
    "id": "iCxo0tomDuVc"
   },
   "outputs": [
    {
     "name": "stdout",
     "output_type": "stream",
     "text": [
      "<class 'pandas.core.frame.DataFrame'>\n",
      "RangeIndex: 702 entries, 0 to 701\n",
      "Data columns (total 9 columns):\n",
      " #   Column                   Non-Null Count  Dtype  \n",
      "---  ------                   --------------  -----  \n",
      " 0   Age                      702 non-null    int64  \n",
      " 1   Gender                   702 non-null    object \n",
      " 2   num_coffeeBags_per_year  702 non-null    int64  \n",
      " 3   spent_week               702 non-null    int64  \n",
      " 4   spent_month              702 non-null    int64  \n",
      " 5   SlrAY                    702 non-null    int64  \n",
      " 6   Distance                 702 non-null    float64\n",
      " 7   Online                   702 non-null    int64  \n",
      " 8   Decision                 474 non-null    float64\n",
      "dtypes: float64(2), int64(6), object(1)\n",
      "memory usage: 49.5+ KB\n"
     ]
    }
   ],
   "source": [
    "# Call info() on your data\n",
    "coffeeData.info()"
   ]
  },
  {
   "cell_type": "code",
   "execution_count": 6,
   "metadata": {
    "colab": {},
    "colab_type": "code",
    "id": "t0ZdmaUeDuVe"
   },
   "outputs": [
    {
     "data": {
      "text/html": [
       "<div>\n",
       "<style scoped>\n",
       "    .dataframe tbody tr th:only-of-type {\n",
       "        vertical-align: middle;\n",
       "    }\n",
       "\n",
       "    .dataframe tbody tr th {\n",
       "        vertical-align: top;\n",
       "    }\n",
       "\n",
       "    .dataframe thead th {\n",
       "        text-align: right;\n",
       "    }\n",
       "</style>\n",
       "<table border=\"1\" class=\"dataframe\">\n",
       "  <thead>\n",
       "    <tr style=\"text-align: right;\">\n",
       "      <th></th>\n",
       "      <th>Age</th>\n",
       "      <th>num_coffeeBags_per_year</th>\n",
       "      <th>spent_week</th>\n",
       "      <th>spent_month</th>\n",
       "      <th>SlrAY</th>\n",
       "      <th>Distance</th>\n",
       "      <th>Online</th>\n",
       "      <th>Decision</th>\n",
       "    </tr>\n",
       "  </thead>\n",
       "  <tbody>\n",
       "    <tr>\n",
       "      <th>count</th>\n",
       "      <td>702.000000</td>\n",
       "      <td>702.000000</td>\n",
       "      <td>702.000000</td>\n",
       "      <td>702.000000</td>\n",
       "      <td>702.000000</td>\n",
       "      <td>702.000000</td>\n",
       "      <td>702.000000</td>\n",
       "      <td>474.000000</td>\n",
       "    </tr>\n",
       "    <tr>\n",
       "      <th>mean</th>\n",
       "      <td>34.243590</td>\n",
       "      <td>2.710826</td>\n",
       "      <td>32.853276</td>\n",
       "      <td>107.923077</td>\n",
       "      <td>43819.843305</td>\n",
       "      <td>4.559186</td>\n",
       "      <td>0.531339</td>\n",
       "      <td>0.639241</td>\n",
       "    </tr>\n",
       "    <tr>\n",
       "      <th>std</th>\n",
       "      <td>13.927945</td>\n",
       "      <td>1.593629</td>\n",
       "      <td>15.731878</td>\n",
       "      <td>55.348485</td>\n",
       "      <td>26192.626943</td>\n",
       "      <td>3.116275</td>\n",
       "      <td>0.499373</td>\n",
       "      <td>0.480728</td>\n",
       "    </tr>\n",
       "    <tr>\n",
       "      <th>min</th>\n",
       "      <td>16.000000</td>\n",
       "      <td>0.000000</td>\n",
       "      <td>0.000000</td>\n",
       "      <td>0.000000</td>\n",
       "      <td>1617.000000</td>\n",
       "      <td>0.003168</td>\n",
       "      <td>0.000000</td>\n",
       "      <td>0.000000</td>\n",
       "    </tr>\n",
       "    <tr>\n",
       "      <th>25%</th>\n",
       "      <td>23.000000</td>\n",
       "      <td>1.000000</td>\n",
       "      <td>24.250000</td>\n",
       "      <td>62.000000</td>\n",
       "      <td>22812.250000</td>\n",
       "      <td>1.877812</td>\n",
       "      <td>0.000000</td>\n",
       "      <td>0.000000</td>\n",
       "    </tr>\n",
       "    <tr>\n",
       "      <th>50%</th>\n",
       "      <td>28.000000</td>\n",
       "      <td>3.000000</td>\n",
       "      <td>36.000000</td>\n",
       "      <td>113.500000</td>\n",
       "      <td>41975.000000</td>\n",
       "      <td>4.196167</td>\n",
       "      <td>1.000000</td>\n",
       "      <td>1.000000</td>\n",
       "    </tr>\n",
       "    <tr>\n",
       "      <th>75%</th>\n",
       "      <td>46.000000</td>\n",
       "      <td>4.000000</td>\n",
       "      <td>43.000000</td>\n",
       "      <td>150.750000</td>\n",
       "      <td>60223.000000</td>\n",
       "      <td>6.712022</td>\n",
       "      <td>1.000000</td>\n",
       "      <td>1.000000</td>\n",
       "    </tr>\n",
       "    <tr>\n",
       "      <th>max</th>\n",
       "      <td>90.000000</td>\n",
       "      <td>5.000000</td>\n",
       "      <td>62.000000</td>\n",
       "      <td>210.000000</td>\n",
       "      <td>182058.000000</td>\n",
       "      <td>10.986203</td>\n",
       "      <td>1.000000</td>\n",
       "      <td>1.000000</td>\n",
       "    </tr>\n",
       "  </tbody>\n",
       "</table>\n",
       "</div>"
      ],
      "text/plain": [
       "              Age  num_coffeeBags_per_year  spent_week  spent_month  \\\n",
       "count  702.000000               702.000000  702.000000   702.000000   \n",
       "mean    34.243590                 2.710826   32.853276   107.923077   \n",
       "std     13.927945                 1.593629   15.731878    55.348485   \n",
       "min     16.000000                 0.000000    0.000000     0.000000   \n",
       "25%     23.000000                 1.000000   24.250000    62.000000   \n",
       "50%     28.000000                 3.000000   36.000000   113.500000   \n",
       "75%     46.000000                 4.000000   43.000000   150.750000   \n",
       "max     90.000000                 5.000000   62.000000   210.000000   \n",
       "\n",
       "               SlrAY    Distance      Online    Decision  \n",
       "count     702.000000  702.000000  702.000000  474.000000  \n",
       "mean    43819.843305    4.559186    0.531339    0.639241  \n",
       "std     26192.626943    3.116275    0.499373    0.480728  \n",
       "min      1617.000000    0.003168    0.000000    0.000000  \n",
       "25%     22812.250000    1.877812    0.000000    0.000000  \n",
       "50%     41975.000000    4.196167    1.000000    1.000000  \n",
       "75%     60223.000000    6.712022    1.000000    1.000000  \n",
       "max    182058.000000   10.986203    1.000000    1.000000  "
      ]
     },
     "execution_count": 6,
     "metadata": {},
     "output_type": "execute_result"
    }
   ],
   "source": [
    "# Call describe() on your data to get the relevant summary statistics for your data \n",
    "coffeeData.describe()"
   ]
  },
  {
   "cell_type": "markdown",
   "metadata": {
    "colab_type": "text",
    "id": "INkujJ6QDuVg"
   },
   "source": [
    "# 2. Cleaning, transforming, and visualizing\n",
    "## 2a. Cleaning the data"
   ]
  },
  {
   "cell_type": "markdown",
   "metadata": {
    "colab_type": "text",
    "id": "wIMW_rbdDuVh"
   },
   "source": [
    "Some datasets don't require any cleaning, but almost all do. This one does. We need to replace '1.0' and '0.0' in the 'Decision' column by 'YES' and 'NO' respectively, clean up the values of the 'gender' column, and change the column names to words which maximize meaning and clarity. "
   ]
  },
  {
   "cell_type": "markdown",
   "metadata": {
    "colab_type": "text",
    "id": "EEXdBALeDuVi"
   },
   "source": [
    "First, let's change the name of `spent_week`, `spent_month`, and `SlrAY` to `spent_last_week` and `spent_last_month` and `salary` respectively."
   ]
  },
  {
   "cell_type": "code",
   "execution_count": 7,
   "metadata": {
    "colab": {},
    "colab_type": "code",
    "id": "rhxy23pbDuVi"
   },
   "outputs": [
    {
     "data": {
      "text/plain": [
       "Index(['Age', 'Gender', 'num_coffeeBags_per_year', 'spent_week', 'spent_month',\n",
       "       'SlrAY', 'Distance', 'Online', 'Decision'],\n",
       "      dtype='object')"
      ]
     },
     "execution_count": 7,
     "metadata": {},
     "output_type": "execute_result"
    }
   ],
   "source": [
    "# Check out the names of our data's columns \n",
    "coffeeData.columns"
   ]
  },
  {
   "cell_type": "code",
   "execution_count": 8,
   "metadata": {
    "colab": {},
    "colab_type": "code",
    "id": "C_D1m6ryDuVk"
   },
   "outputs": [],
   "source": [
    "# Make the relevant name changes to spent_week and spent_per_week.\n",
    "coffeeData.rename(columns={'spent_week':'spent_last_week', 'spent_month':'spent_last_month', 'SlrAY':'salary'}, inplace=True)"
   ]
  },
  {
   "cell_type": "code",
   "execution_count": 9,
   "metadata": {
    "colab": {},
    "colab_type": "code",
    "id": "3cmdaeg8DuVm"
   },
   "outputs": [
    {
     "data": {
      "text/plain": [
       "Index(['Age', 'Gender', 'num_coffeeBags_per_year', 'spent_last_week',\n",
       "       'spent_last_month', 'salary', 'Distance', 'Online', 'Decision'],\n",
       "      dtype='object')"
      ]
     },
     "execution_count": 9,
     "metadata": {},
     "output_type": "execute_result"
    }
   ],
   "source": [
    "# Check out the column names\n",
    "coffeeData.columns"
   ]
  },
  {
   "cell_type": "code",
   "execution_count": 10,
   "metadata": {
    "colab": {},
    "colab_type": "code",
    "id": "XJK-wbfODuVp"
   },
   "outputs": [
    {
     "data": {
      "text/plain": [
       "Male      355\n",
       "Female    340\n",
       "MALE        1\n",
       "female      1\n",
       "f           1\n",
       "M           1\n",
       "F           1\n",
       "male        1\n",
       "FEMALE      1\n",
       "Name: Gender, dtype: int64"
      ]
     },
     "execution_count": 10,
     "metadata": {},
     "output_type": "execute_result"
    }
   ],
   "source": [
    "# Let's have a closer look at the gender column. Its values need cleaning.\n",
    "coffeeData.Gender.value_counts()"
   ]
  },
  {
   "cell_type": "code",
   "execution_count": 11,
   "metadata": {
    "colab": {},
    "colab_type": "code",
    "id": "88bITtgzDuVr"
   },
   "outputs": [
    {
     "data": {
      "text/plain": [
       "array(['Female', 'Male', 'female', 'F', 'f ', 'FEMALE', 'MALE', 'male',\n",
       "       'M'], dtype=object)"
      ]
     },
     "execution_count": 11,
     "metadata": {},
     "output_type": "execute_result"
    }
   ],
   "source": [
    "# See the gender column's unique values \n",
    "coffeeData.Gender.unique()"
   ]
  },
  {
   "cell_type": "markdown",
   "metadata": {
    "colab_type": "text",
    "id": "-eGzgGR1DuVt"
   },
   "source": [
    "We can see a bunch of inconsistency here.\n",
    "\n",
    "Use replace() to make the values of the `gender` column just `Female` and `Male`."
   ]
  },
  {
   "cell_type": "code",
   "execution_count": 12,
   "metadata": {
    "colab": {},
    "colab_type": "code",
    "id": "h0FOX3I3DuVu"
   },
   "outputs": [],
   "source": [
    "# Replace all alternate values for the Female entry with 'Female'\n",
    "coffeeData.Gender.replace(dict.fromkeys(['F', 'f ', 'FEMALE', 'female'], 'Female'), inplace=True)"
   ]
  },
  {
   "cell_type": "code",
   "execution_count": 13,
   "metadata": {
    "colab": {},
    "colab_type": "code",
    "id": "5TThfHgCDuVw"
   },
   "outputs": [
    {
     "data": {
      "text/plain": [
       "array(['Female', 'Male', 'MALE', 'male', 'M'], dtype=object)"
      ]
     },
     "execution_count": 13,
     "metadata": {},
     "output_type": "execute_result"
    }
   ],
   "source": [
    "# Check out the unique values for the 'gender' column\n",
    "coffeeData.Gender.unique()"
   ]
  },
  {
   "cell_type": "code",
   "execution_count": 14,
   "metadata": {
    "colab": {},
    "colab_type": "code",
    "id": "4wRKBvSHDuVy"
   },
   "outputs": [],
   "source": [
    "# Replace all alternate values with \"Male\"\n",
    "coffeeData.Gender.replace(dict.fromkeys(['M', 'MALE', 'male'], 'Male'), inplace=True)"
   ]
  },
  {
   "cell_type": "code",
   "execution_count": 15,
   "metadata": {
    "colab": {},
    "colab_type": "code",
    "id": "nhBUkXIADuV0"
   },
   "outputs": [
    {
     "data": {
      "text/plain": [
       "array(['Female', 'Male'], dtype=object)"
      ]
     },
     "execution_count": 15,
     "metadata": {},
     "output_type": "execute_result"
    }
   ],
   "source": [
    "# Let's check the unique values of the column \"gender\"\n",
    "coffeeData.Gender.unique()"
   ]
  },
  {
   "cell_type": "code",
   "execution_count": 16,
   "metadata": {
    "colab": {},
    "colab_type": "code",
    "id": "AdhhO4WHDuV2"
   },
   "outputs": [
    {
     "data": {
      "text/plain": [
       "array([ 1., nan,  0.])"
      ]
     },
     "execution_count": 16,
     "metadata": {},
     "output_type": "execute_result"
    }
   ],
   "source": [
    "# Check out the unique values of the column 'Decision'\n",
    "coffeeData.Decision.unique()"
   ]
  },
  {
   "cell_type": "markdown",
   "metadata": {
    "colab_type": "text",
    "id": "m1JuiY-iDuV5"
   },
   "source": [
    "We now want to replace `1.0` and `0.0` in the `Decision` column by `YES` and `NO` respectively."
   ]
  },
  {
   "cell_type": "code",
   "execution_count": 17,
   "metadata": {
    "colab": {},
    "colab_type": "code",
    "id": "QsK6gYPgDuV5"
   },
   "outputs": [],
   "source": [
    "# Replace 'Yes' and 'No' by 1 and 0\n",
    "coffeeData.Decision.replace(1.0, 'YES', inplace=True)\n",
    "coffeeData.Decision.replace(0.0, 'NO', inplace=True)"
   ]
  },
  {
   "cell_type": "code",
   "execution_count": 18,
   "metadata": {
    "colab": {},
    "colab_type": "code",
    "id": "YtHnTZuWDuV9"
   },
   "outputs": [
    {
     "data": {
      "text/plain": [
       "array(['YES', nan, 'NO'], dtype=object)"
      ]
     },
     "execution_count": 18,
     "metadata": {},
     "output_type": "execute_result"
    }
   ],
   "source": [
    "# Check that our replacing those values with 'YES' and 'NO' worked, with unique()\n",
    "coffeeData.Decision.unique()"
   ]
  },
  {
   "cell_type": "markdown",
   "metadata": {
    "colab_type": "text",
    "id": "CKCt-fBlDuWB"
   },
   "source": [
    "## 2b. Train/test split\n",
    "To execute the train/test split properly, we need to do five things: \n",
    "1. Drop all rows with a null value in the `Decision` column, and save the result as NOPrediction: a dataset that will contain all known values for the decision \n",
    "2. Visualize the data using scatter and boxplots of several variables in the y-axis and the decision on the x-axis\n",
    "3. Get the subset of coffeeData with null values in the `Decision` column, and save that subset as Prediction\n",
    "4. Divide the NOPrediction subset into X and y, and then further divide those subsets into train and test subsets for X and y respectively\n",
    "5. Create dummy variables to deal with categorical inputs"
   ]
  },
  {
   "cell_type": "markdown",
   "metadata": {
    "colab_type": "text",
    "id": "ysHdkIaQDuWB"
   },
   "source": [
    "### 1. Drop all null values within the `Decision` column, and save the result as NoPrediction"
   ]
  },
  {
   "cell_type": "code",
   "execution_count": 19,
   "metadata": {
    "colab": {},
    "colab_type": "code",
    "id": "pvgH6SM4DuWC"
   },
   "outputs": [
    {
     "data": {
      "text/plain": [
       "count     474\n",
       "unique      2\n",
       "top       YES\n",
       "freq      303\n",
       "Name: Decision, dtype: object"
      ]
     },
     "execution_count": 19,
     "metadata": {},
     "output_type": "execute_result"
    }
   ],
   "source": [
    "# NoPrediction will contain all known values for the decision\n",
    "# Call dropna() on coffeeData, and store the result in a variable NOPrediction \n",
    "# Call describe() on the Decision column of NoPrediction after calling dropna() on coffeeData\n",
    "NoPrediction = coffeeData.dropna()\n",
    "NoPrediction.Decision.describe()"
   ]
  },
  {
   "cell_type": "markdown",
   "metadata": {
    "colab_type": "text",
    "id": "XfTK5Ec6DuWE"
   },
   "source": [
    "### 2. Visualize the data using scatter and boxplots of several variables in the y-axis and the decision on the x-axis"
   ]
  },
  {
   "cell_type": "code",
   "execution_count": 20,
   "metadata": {
    "colab": {},
    "colab_type": "code",
    "id": "5O-M-t3tDuWE"
   },
   "outputs": [
    {
     "data": {
      "image/png": "[encoded data removed]",
      "text/plain": [
       "<Figure size 432x288 with 1 Axes>"
      ]
     },
     "metadata": {
      "needs_background": "light"
     },
     "output_type": "display_data"
    }
   ],
   "source": [
    "# Exploring our new NOPrediction dataset\n",
    "# Make a boxplot on NOPrediction where the x axis is Decision, and the y axis is spent_today\n",
    "ax = sns.scatterplot('Decision', 'spent_last_week', data=NoPrediction)\n",
    "plt.show()"
   ]
  },
  {
   "cell_type": "markdown",
   "metadata": {
    "colab_type": "text",
    "id": "mVqg_HI7DuWG"
   },
   "source": [
    "Can you admissibly conclude anything from this boxplot? Write your answer here:\n",
    "\n",
    "It looks like those who spend greater than about $45 in a week are more likely to say yes."
   ]
  },
  {
   "cell_type": "code",
   "execution_count": 21,
   "metadata": {},
   "outputs": [
    {
     "data": {
      "text/html": [
       "<div>\n",
       "<style scoped>\n",
       "    .dataframe tbody tr th:only-of-type {\n",
       "        vertical-align: middle;\n",
       "    }\n",
       "\n",
       "    .dataframe tbody tr th {\n",
       "        vertical-align: top;\n",
       "    }\n",
       "\n",
       "    .dataframe thead th {\n",
       "        text-align: right;\n",
       "    }\n",
       "</style>\n",
       "<table border=\"1\" class=\"dataframe\">\n",
       "  <thead>\n",
       "    <tr style=\"text-align: right;\">\n",
       "      <th></th>\n",
       "      <th>Age</th>\n",
       "      <th>Gender</th>\n",
       "      <th>num_coffeeBags_per_year</th>\n",
       "      <th>spent_last_week</th>\n",
       "      <th>spent_last_month</th>\n",
       "      <th>salary</th>\n",
       "      <th>Distance</th>\n",
       "      <th>Online</th>\n",
       "      <th>Decision</th>\n",
       "    </tr>\n",
       "  </thead>\n",
       "  <tbody>\n",
       "    <tr>\n",
       "      <th>0</th>\n",
       "      <td>36</td>\n",
       "      <td>Female</td>\n",
       "      <td>0</td>\n",
       "      <td>24</td>\n",
       "      <td>73</td>\n",
       "      <td>42789</td>\n",
       "      <td>0.003168</td>\n",
       "      <td>0</td>\n",
       "      <td>YES</td>\n",
       "    </tr>\n",
       "    <tr>\n",
       "      <th>2</th>\n",
       "      <td>24</td>\n",
       "      <td>Male</td>\n",
       "      <td>0</td>\n",
       "      <td>39</td>\n",
       "      <td>119</td>\n",
       "      <td>30563</td>\n",
       "      <td>0.916005</td>\n",
       "      <td>1</td>\n",
       "      <td>YES</td>\n",
       "    </tr>\n",
       "    <tr>\n",
       "      <th>4</th>\n",
       "      <td>24</td>\n",
       "      <td>Female</td>\n",
       "      <td>0</td>\n",
       "      <td>20</td>\n",
       "      <td>36</td>\n",
       "      <td>14244</td>\n",
       "      <td>0.965881</td>\n",
       "      <td>0</td>\n",
       "      <td>YES</td>\n",
       "    </tr>\n",
       "    <tr>\n",
       "      <th>5</th>\n",
       "      <td>20</td>\n",
       "      <td>Female</td>\n",
       "      <td>0</td>\n",
       "      <td>23</td>\n",
       "      <td>28</td>\n",
       "      <td>14293</td>\n",
       "      <td>1.036346</td>\n",
       "      <td>1</td>\n",
       "      <td>YES</td>\n",
       "    </tr>\n",
       "    <tr>\n",
       "      <th>6</th>\n",
       "      <td>34</td>\n",
       "      <td>Female</td>\n",
       "      <td>0</td>\n",
       "      <td>55</td>\n",
       "      <td>202</td>\n",
       "      <td>91035</td>\n",
       "      <td>1.134851</td>\n",
       "      <td>0</td>\n",
       "      <td>YES</td>\n",
       "    </tr>\n",
       "  </tbody>\n",
       "</table>\n",
       "</div>"
      ],
      "text/plain": [
       "   Age  Gender  num_coffeeBags_per_year  spent_last_week  spent_last_month  \\\n",
       "0   36  Female                        0               24                73   \n",
       "2   24    Male                        0               39               119   \n",
       "4   24  Female                        0               20                36   \n",
       "5   20  Female                        0               23                28   \n",
       "6   34  Female                        0               55               202   \n",
       "\n",
       "   salary  Distance  Online Decision  \n",
       "0   42789  0.003168       0      YES  \n",
       "2   30563  0.916005       1      YES  \n",
       "4   14244  0.965881       0      YES  \n",
       "5   14293  1.036346       1      YES  \n",
       "6   91035  1.134851       0      YES  "
      ]
     },
     "execution_count": 21,
     "metadata": {},
     "output_type": "execute_result"
    }
   ],
   "source": [
    "NoPrediction.head()"
   ]
  },
  {
   "cell_type": "code",
   "execution_count": 22,
   "metadata": {
    "colab": {},
    "colab_type": "code",
    "id": "q-AyXWSxDuWH"
   },
   "outputs": [
    {
     "data": {
      "image/png": "[encoded data removed]",
      "text/plain": [
       "<Figure size 432x288 with 1 Axes>"
      ]
     },
     "metadata": {
      "needs_background": "light"
     },
     "output_type": "display_data"
    }
   ],
   "source": [
    "# Make a scatterplot on NOPrediction, where x is distance, y is spent_last_month and hue is Decision \n",
    "ax = sns.scatterplot(x='Distance', y='spent_last_month', data=NoPrediction, hue=NoPrediction.Decision.tolist())\n",
    "ax.legend(title='Decision')\n",
    "plt.show()"
   ]
  },
  {
   "cell_type": "markdown",
   "metadata": {
    "colab_type": "text",
    "id": "I_nr36yZDuWJ"
   },
   "source": [
    "Can you admissibly conclude anything from this scatterplot? Remember: we are trying to build a tree to classify unseen examples. Write your answer here:\n",
    "\n",
    "It looks like there is a good relationship between both proximity to flagship store and amount regularly spent with RR and whether or not the client would try a new flavour.  Those spending more are likely to try, anf those closer to the flaghship are also likely to try, regardless of spend."
   ]
  },
  {
   "cell_type": "markdown",
   "metadata": {
    "colab_type": "text",
    "id": "oQBPyvehDuWK"
   },
   "source": [
    "### 3. Get the subset of coffeeData with null values in the Decision column, and save that subset as Prediction"
   ]
  },
  {
   "cell_type": "code",
   "execution_count": 23,
   "metadata": {
    "colab": {},
    "colab_type": "code",
    "id": "vcCednqUDuWL"
   },
   "outputs": [
    {
     "data": {
      "text/html": [
       "<div>\n",
       "<style scoped>\n",
       "    .dataframe tbody tr th:only-of-type {\n",
       "        vertical-align: middle;\n",
       "    }\n",
       "\n",
       "    .dataframe tbody tr th {\n",
       "        vertical-align: top;\n",
       "    }\n",
       "\n",
       "    .dataframe thead th {\n",
       "        text-align: right;\n",
       "    }\n",
       "</style>\n",
       "<table border=\"1\" class=\"dataframe\">\n",
       "  <thead>\n",
       "    <tr style=\"text-align: right;\">\n",
       "      <th></th>\n",
       "      <th>Age</th>\n",
       "      <th>Gender</th>\n",
       "      <th>num_coffeeBags_per_year</th>\n",
       "      <th>spent_last_week</th>\n",
       "      <th>spent_last_month</th>\n",
       "      <th>salary</th>\n",
       "      <th>Distance</th>\n",
       "      <th>Online</th>\n",
       "      <th>Decision</th>\n",
       "    </tr>\n",
       "  </thead>\n",
       "  <tbody>\n",
       "    <tr>\n",
       "      <th>1</th>\n",
       "      <td>24</td>\n",
       "      <td>Male</td>\n",
       "      <td>0</td>\n",
       "      <td>44</td>\n",
       "      <td>164</td>\n",
       "      <td>74035</td>\n",
       "      <td>0.520906</td>\n",
       "      <td>0</td>\n",
       "      <td>NaN</td>\n",
       "    </tr>\n",
       "    <tr>\n",
       "      <th>3</th>\n",
       "      <td>20</td>\n",
       "      <td>Male</td>\n",
       "      <td>0</td>\n",
       "      <td>30</td>\n",
       "      <td>107</td>\n",
       "      <td>13166</td>\n",
       "      <td>0.932098</td>\n",
       "      <td>1</td>\n",
       "      <td>NaN</td>\n",
       "    </tr>\n",
       "    <tr>\n",
       "      <th>7</th>\n",
       "      <td>24</td>\n",
       "      <td>Female</td>\n",
       "      <td>0</td>\n",
       "      <td>20</td>\n",
       "      <td>34</td>\n",
       "      <td>17425</td>\n",
       "      <td>1.193188</td>\n",
       "      <td>0</td>\n",
       "      <td>NaN</td>\n",
       "    </tr>\n",
       "    <tr>\n",
       "      <th>11</th>\n",
       "      <td>24</td>\n",
       "      <td>Female</td>\n",
       "      <td>0</td>\n",
       "      <td>40</td>\n",
       "      <td>153</td>\n",
       "      <td>84803</td>\n",
       "      <td>1.655096</td>\n",
       "      <td>1</td>\n",
       "      <td>NaN</td>\n",
       "    </tr>\n",
       "    <tr>\n",
       "      <th>12</th>\n",
       "      <td>21</td>\n",
       "      <td>Female</td>\n",
       "      <td>0</td>\n",
       "      <td>38</td>\n",
       "      <td>122</td>\n",
       "      <td>42338</td>\n",
       "      <td>1.714179</td>\n",
       "      <td>1</td>\n",
       "      <td>NaN</td>\n",
       "    </tr>\n",
       "  </tbody>\n",
       "</table>\n",
       "</div>"
      ],
      "text/plain": [
       "    Age  Gender  num_coffeeBags_per_year  spent_last_week  spent_last_month  \\\n",
       "1    24    Male                        0               44               164   \n",
       "3    20    Male                        0               30               107   \n",
       "7    24  Female                        0               20                34   \n",
       "11   24  Female                        0               40               153   \n",
       "12   21  Female                        0               38               122   \n",
       "\n",
       "    salary  Distance  Online Decision  \n",
       "1    74035  0.520906       0      NaN  \n",
       "3    13166  0.932098       1      NaN  \n",
       "7    17425  1.193188       0      NaN  \n",
       "11   84803  1.655096       1      NaN  \n",
       "12   42338  1.714179       1      NaN  "
      ]
     },
     "execution_count": 23,
     "metadata": {},
     "output_type": "execute_result"
    }
   ],
   "source": [
    "# Get just those rows whose value for the Decision column is null  \n",
    "Prediction = coffeeData[coffeeData.Decision.isna() == True]\n",
    "Prediction.head()"
   ]
  },
  {
   "cell_type": "code",
   "execution_count": 24,
   "metadata": {
    "colab": {},
    "colab_type": "code",
    "id": "aenlmp9NDuWM"
   },
   "outputs": [
    {
     "data": {
      "text/html": [
       "<div>\n",
       "<style scoped>\n",
       "    .dataframe tbody tr th:only-of-type {\n",
       "        vertical-align: middle;\n",
       "    }\n",
       "\n",
       "    .dataframe tbody tr th {\n",
       "        vertical-align: top;\n",
       "    }\n",
       "\n",
       "    .dataframe thead th {\n",
       "        text-align: right;\n",
       "    }\n",
       "</style>\n",
       "<table border=\"1\" class=\"dataframe\">\n",
       "  <thead>\n",
       "    <tr style=\"text-align: right;\">\n",
       "      <th></th>\n",
       "      <th>Age</th>\n",
       "      <th>num_coffeeBags_per_year</th>\n",
       "      <th>spent_last_week</th>\n",
       "      <th>spent_last_month</th>\n",
       "      <th>salary</th>\n",
       "      <th>Distance</th>\n",
       "      <th>Online</th>\n",
       "    </tr>\n",
       "  </thead>\n",
       "  <tbody>\n",
       "    <tr>\n",
       "      <th>count</th>\n",
       "      <td>228.000000</td>\n",
       "      <td>228.000000</td>\n",
       "      <td>228.000000</td>\n",
       "      <td>228.000000</td>\n",
       "      <td>228.000000</td>\n",
       "      <td>228.000000</td>\n",
       "      <td>228.000000</td>\n",
       "    </tr>\n",
       "    <tr>\n",
       "      <th>mean</th>\n",
       "      <td>31.802632</td>\n",
       "      <td>2.960526</td>\n",
       "      <td>33.394737</td>\n",
       "      <td>110.407895</td>\n",
       "      <td>41923.741228</td>\n",
       "      <td>3.428836</td>\n",
       "      <td>0.570175</td>\n",
       "    </tr>\n",
       "    <tr>\n",
       "      <th>std</th>\n",
       "      <td>14.302293</td>\n",
       "      <td>1.585514</td>\n",
       "      <td>15.697930</td>\n",
       "      <td>53.786536</td>\n",
       "      <td>27406.768360</td>\n",
       "      <td>2.153102</td>\n",
       "      <td>0.496140</td>\n",
       "    </tr>\n",
       "    <tr>\n",
       "      <th>min</th>\n",
       "      <td>16.000000</td>\n",
       "      <td>0.000000</td>\n",
       "      <td>0.000000</td>\n",
       "      <td>0.000000</td>\n",
       "      <td>1617.000000</td>\n",
       "      <td>0.010048</td>\n",
       "      <td>0.000000</td>\n",
       "    </tr>\n",
       "    <tr>\n",
       "      <th>25%</th>\n",
       "      <td>22.000000</td>\n",
       "      <td>2.000000</td>\n",
       "      <td>25.750000</td>\n",
       "      <td>65.000000</td>\n",
       "      <td>15911.500000</td>\n",
       "      <td>1.699408</td>\n",
       "      <td>0.000000</td>\n",
       "    </tr>\n",
       "    <tr>\n",
       "      <th>50%</th>\n",
       "      <td>25.000000</td>\n",
       "      <td>3.000000</td>\n",
       "      <td>37.000000</td>\n",
       "      <td>113.500000</td>\n",
       "      <td>40987.500000</td>\n",
       "      <td>3.208673</td>\n",
       "      <td>1.000000</td>\n",
       "    </tr>\n",
       "    <tr>\n",
       "      <th>75%</th>\n",
       "      <td>39.000000</td>\n",
       "      <td>4.000000</td>\n",
       "      <td>44.000000</td>\n",
       "      <td>151.250000</td>\n",
       "      <td>58537.000000</td>\n",
       "      <td>5.261184</td>\n",
       "      <td>1.000000</td>\n",
       "    </tr>\n",
       "    <tr>\n",
       "      <th>max</th>\n",
       "      <td>67.000000</td>\n",
       "      <td>5.000000</td>\n",
       "      <td>62.000000</td>\n",
       "      <td>210.000000</td>\n",
       "      <td>182058.000000</td>\n",
       "      <td>10.871566</td>\n",
       "      <td>1.000000</td>\n",
       "    </tr>\n",
       "  </tbody>\n",
       "</table>\n",
       "</div>"
      ],
      "text/plain": [
       "              Age  num_coffeeBags_per_year  spent_last_week  spent_last_month  \\\n",
       "count  228.000000               228.000000       228.000000        228.000000   \n",
       "mean    31.802632                 2.960526        33.394737        110.407895   \n",
       "std     14.302293                 1.585514        15.697930         53.786536   \n",
       "min     16.000000                 0.000000         0.000000          0.000000   \n",
       "25%     22.000000                 2.000000        25.750000         65.000000   \n",
       "50%     25.000000                 3.000000        37.000000        113.500000   \n",
       "75%     39.000000                 4.000000        44.000000        151.250000   \n",
       "max     67.000000                 5.000000        62.000000        210.000000   \n",
       "\n",
       "              salary    Distance      Online  \n",
       "count     228.000000  228.000000  228.000000  \n",
       "mean    41923.741228    3.428836    0.570175  \n",
       "std     27406.768360    2.153102    0.496140  \n",
       "min      1617.000000    0.010048    0.000000  \n",
       "25%     15911.500000    1.699408    0.000000  \n",
       "50%     40987.500000    3.208673    1.000000  \n",
       "75%     58537.000000    5.261184    1.000000  \n",
       "max    182058.000000   10.871566    1.000000  "
      ]
     },
     "execution_count": 24,
     "metadata": {},
     "output_type": "execute_result"
    }
   ],
   "source": [
    "# Call describe() on Prediction\n",
    "Prediction.describe()"
   ]
  },
  {
   "cell_type": "markdown",
   "metadata": {
    "colab_type": "text",
    "id": "zmN_BPwFDuWO"
   },
   "source": [
    "### 4. Divide the NOPrediction subset into X and y"
   ]
  },
  {
   "cell_type": "code",
   "execution_count": 25,
   "metadata": {
    "colab": {},
    "colab_type": "code",
    "id": "00WtPVYSDuWP"
   },
   "outputs": [
    {
     "data": {
      "text/plain": [
       "Index(['Age', 'Gender', 'num_coffeeBags_per_year', 'spent_last_week',\n",
       "       'spent_last_month', 'salary', 'Distance', 'Online', 'Decision'],\n",
       "      dtype='object')"
      ]
     },
     "execution_count": 25,
     "metadata": {},
     "output_type": "execute_result"
    }
   ],
   "source": [
    "# Check the names of the columns of NOPrediction\n",
    "NoPrediction.columns"
   ]
  },
  {
   "cell_type": "code",
   "execution_count": 26,
   "metadata": {
    "colab": {},
    "colab_type": "code",
    "id": "oPi2gMLfDuWQ"
   },
   "outputs": [],
   "source": [
    "# Let's do our feature selection.\n",
    "# Make a variable called 'features', and a list containing the strings of every column except \"Decision\"\n",
    "features = [column for column in NoPrediction.columns if column != 'Decision']\n",
    "\n",
    "# Make an explanatory variable called X, and assign it: NoPrediction[features]\n",
    "X = NoPrediction[features]\n",
    "# Make a dependent variable called y, and assign it: NoPrediction.Decision\n",
    "y = NoPrediction.Decision"
   ]
  },
  {
   "cell_type": "markdown",
   "metadata": {
    "colab_type": "text",
    "id": "Jdn_dHlkDuWS"
   },
   "source": [
    "### 4. Further divide those subsets into train and test subsets for X and y respectively: X_train, X_test, y_train, y_test"
   ]
  },
  {
   "cell_type": "code",
   "execution_count": 68,
   "metadata": {
    "colab": {},
    "colab_type": "code",
    "id": "RqbHQza-DuWT"
   },
   "outputs": [],
   "source": [
    "# Call train_test_split on X, y. Make the test_size = 0.25, and random_state = 246\n",
    "X_train, X_test, y_train, y_test = train_test_split(X, y, test_size = 0.25, random_state = 246)"
   ]
  },
  {
   "cell_type": "markdown",
   "metadata": {
    "colab_type": "text",
    "id": "R-d3XOv8DuWW"
   },
   "source": [
    "### 5. Create dummy variables to deal with categorical inputs\n",
    "One-hot encoding replaces each unique value of a given column with a new column, and puts a 1 in the new column for a given row just if its initial value for the original column matches the new column. Check out [this resource](https://hackernoon.com/what-is-one-hot-encoding-why-and-when-do-you-have-to-use-it-e3c6186d008f) if you haven't seen one-hot-encoding before. "
   ]
  },
  {
   "cell_type": "code",
   "execution_count": 69,
   "metadata": {
    "colab": {},
    "colab_type": "code",
    "id": "xXHGDZkZDuWW"
   },
   "outputs": [],
   "source": [
    "# One-hot encode all features in training set.\n",
    "X_train = pd.get_dummies(X_train)\n",
    "\n",
    "# Do the same, but for X_test\n",
    "X_test = pd.get_dummies(X_test)\n"
   ]
  },
  {
   "cell_type": "markdown",
   "metadata": {
    "colab_type": "text",
    "id": "nqvyCX-6DuWb"
   },
   "source": [
    "# 3. Modeling\n",
    "It's useful to look at the scikit-learn documentation on decision trees https://scikit-learn.org/stable/modules/tree.html before launching into applying them. If you haven't seen them before, take a look at that link, in particular the section `1.10.5.` "
   ]
  },
  {
   "cell_type": "markdown",
   "metadata": {
    "colab_type": "text",
    "id": "RIm9IN5HDuWc"
   },
   "source": [
    "## Model 1: Entropy model - no max_depth\n",
    "\n",
    "We'll give you a little more guidance here, as the Python is hard to deduce, and scikitlearn takes some getting used to.\n",
    "\n",
    "Theoretically, let's remind ourselves of what's going on with a decision tree implementing an entropy model.\n",
    "\n",
    "Ross Quinlan's **ID3 Algorithm** was one of the first, and one of the most basic, to use entropy as a metric.\n",
    "\n",
    "**Entropy** is a measure of how uncertain we are about which category the data-points fall into at a given point in the tree. The **Information gain** of a specific feature with a threshold (such as 'spent_last_month <= 138.0') is the difference in entropy that exists before and after splitting on that feature; i.e., the information we gain about the categories of the data-points by splitting on that feature and that threshold. \n",
    "\n",
    "Naturally, we want to minimize entropy and maximize information gain. Quinlan's ID3 algorithm is designed to output a tree such that the features at each node, starting from the root, and going all the way down to the leaves, have maximial information gain. We want a tree whose leaves have elements that are *homogeneous*, that is, all of the same category. \n",
    "\n",
    "The first model will be the hardest. Persevere and you'll reap the rewards: you can use almost exactly the same code for the other models. "
   ]
  },
  {
   "cell_type": "code",
   "execution_count": 82,
   "metadata": {
    "colab": {},
    "colab_type": "code",
    "id": "8-gelLDgDuWc"
   },
   "outputs": [
    {
     "data": {
      "text/plain": [
       "DecisionTreeClassifier(random_state=9877)"
      ]
     },
     "execution_count": 82,
     "metadata": {},
     "output_type": "execute_result"
    }
   ],
   "source": [
    "# Declare a variable called entr_model and use tree.DecisionTreeClassifier. \n",
    "entr_model = tree.DecisionTreeClassifier(random_state = 9877)\n",
    "\n",
    "# Call fit() on entr_model\n",
    "entr_model.fit(X_train, y_train)\n",
    "\n",
    "# Call predict() on entr_model with X_test passed to it, and assign the result to a variable y_pred \n",
    "y_pred = entr_model.predict(X_test)\n",
    "\n",
    "# Call Series on our y_pred variable with the following: pd.Series(y_pred)\n",
    "y_pred = pd.Series(y_pred)\n",
    "\n",
    "# Check out entr_model\n",
    "entr_model"
   ]
  },
  {
   "cell_type": "code",
   "execution_count": 87,
   "metadata": {},
   "outputs": [
    {
     "name": "stdout",
     "output_type": "stream",
     "text": [
      "Collecting graphviz\n",
      "  Downloading graphviz-0.14.1-py2.py3-none-any.whl (18 kB)\n",
      "Installing collected packages: graphviz\n",
      "Successfully installed graphviz-0.14.1\n",
      "Note: you may need to restart the kernel to use updated packages.\n"
     ]
    }
   ],
   "source": [
    "pip install graphviz"
   ]
  },
  {
   "cell_type": "code",
   "execution_count": 72,
   "metadata": {
    "colab": {},
    "colab_type": "code",
    "id": "S4FbHfWnDuWe"
   },
   "outputs": [
    {
     "data": {
      "image/svg+xml": [
       "<?xml version=\"1.0\" encoding=\"UTF-8\" standalone=\"no\"?>\n",
       "<!DOCTYPE svg PUBLIC \"-//W3C//DTD SVG 1.1//EN\"\n",
       " \"http://www.w3.org/Graphics/SVG/1.1/DTD/svg11.dtd\">\n",
       "<!-- Generated by graphviz version 2.42.3 (20191010.1750)\n",
       " -->\n",
       "<!-- Title: Tree Pages: 1 -->\n",
       "<svg width=\"784pt\" height=\"756pt\"\n",
       " viewBox=\"0.00 0.00 784.34 756.00\" xmlns=\"http://www.w3.org/2000/svg\" xmlns:xlink=\"http://www.w3.org/1999/xlink\">\n",
       "<g id=\"graph0\" class=\"graph\" transform=\"scale(1 1) rotate(0) translate(4 752)\">\n",
       "<title>Tree</title>\n",
       "<polygon fill=\"white\" stroke=\"transparent\" points=\"-4,4 -4,-752 780.34,-752 780.34,4 -4,4\"/>\n",
       "<!-- 0 -->\n",
       "<g id=\"node1\" class=\"node\">\n",
       "<title>0</title>\n",
       "<path fill=\"#abd6f4\" stroke=\"black\" d=\"M468.87,-748C468.87,-748 365.47,-748 365.47,-748 359.47,-748 353.47,-742 353.47,-736 353.47,-736 353.47,-682 353.47,-682 353.47,-676 359.47,-670 365.47,-670 365.47,-670 468.87,-670 468.87,-670 474.87,-670 480.87,-676 480.87,-682 480.87,-682 480.87,-736 480.87,-736 480.87,-742 474.87,-748 468.87,-748\"/>\n",
       "<text text-anchor=\"start\" x=\"383.36\" y=\"-733.8\" font-family=\"Helvetica,sans-Serif\" font-size=\"14.00\">X</text>\n",
       "<text text-anchor=\"start\" x=\"392.7\" y=\"-733.8\" font-family=\"Helvetica,sans-Serif\" baseline-shift=\"sub\" font-size=\"14.00\">3</text>\n",
       "<text text-anchor=\"start\" x=\"400.48\" y=\"-733.8\" font-family=\"Helvetica,sans-Serif\" font-size=\"14.00\"> ≤ 100.5</text>\n",
       "<text text-anchor=\"start\" x=\"380.78\" y=\"-719.8\" font-family=\"Helvetica,sans-Serif\" font-size=\"14.00\">gini = 0.464</text>\n",
       "<text text-anchor=\"start\" x=\"371.45\" y=\"-705.8\" font-family=\"Helvetica,sans-Serif\" font-size=\"14.00\">samples = 355</text>\n",
       "<text text-anchor=\"start\" x=\"361.32\" y=\"-691.8\" font-family=\"Helvetica,sans-Serif\" font-size=\"14.00\">value = [130, 225]</text>\n",
       "<text text-anchor=\"start\" x=\"379.36\" y=\"-677.8\" font-family=\"Helvetica,sans-Serif\" font-size=\"14.00\">class = YES</text>\n",
       "</g>\n",
       "<!-- 1 -->\n",
       "<g id=\"node2\" class=\"node\">\n",
       "<title>1</title>\n",
       "<path fill=\"#f0b48a\" stroke=\"black\" d=\"M396.08,-634C396.08,-634 300.26,-634 300.26,-634 294.26,-634 288.26,-628 288.26,-622 288.26,-622 288.26,-568 288.26,-568 288.26,-562 294.26,-556 300.26,-556 300.26,-556 396.08,-556 396.08,-556 402.08,-556 408.08,-562 408.08,-568 408.08,-568 408.08,-622 408.08,-622 408.08,-628 402.08,-634 396.08,-634\"/>\n",
       "<text text-anchor=\"start\" x=\"314.36\" y=\"-619.8\" font-family=\"Helvetica,sans-Serif\" font-size=\"14.00\">X</text>\n",
       "<text text-anchor=\"start\" x=\"323.7\" y=\"-619.8\" font-family=\"Helvetica,sans-Serif\" baseline-shift=\"sub\" font-size=\"14.00\">5</text>\n",
       "<text text-anchor=\"start\" x=\"331.48\" y=\"-619.8\" font-family=\"Helvetica,sans-Serif\" font-size=\"14.00\"> ≤ 3.754</text>\n",
       "<text text-anchor=\"start\" x=\"312.3\" y=\"-605.8\" font-family=\"Helvetica,sans-Serif\" font-size=\"14.00\">gini = 0.411</text>\n",
       "<text text-anchor=\"start\" x=\"302.45\" y=\"-591.8\" font-family=\"Helvetica,sans-Serif\" font-size=\"14.00\">samples = 152</text>\n",
       "<text text-anchor=\"start\" x=\"296.21\" y=\"-577.8\" font-family=\"Helvetica,sans-Serif\" font-size=\"14.00\">value = [108, 44]</text>\n",
       "<text text-anchor=\"start\" x=\"313.74\" y=\"-563.8\" font-family=\"Helvetica,sans-Serif\" font-size=\"14.00\">class = NO</text>\n",
       "</g>\n",
       "<!-- 0&#45;&gt;1 -->\n",
       "<g id=\"edge1\" class=\"edge\">\n",
       "<title>0&#45;&gt;1</title>\n",
       "<path fill=\"none\" stroke=\"black\" d=\"M393.62,-669.77C388.23,-661.03 382.45,-651.64 376.88,-642.6\"/>\n",
       "<polygon fill=\"black\" stroke=\"black\" points=\"379.84,-640.74 371.62,-634.06 373.88,-644.41 379.84,-640.74\"/>\n",
       "<text text-anchor=\"middle\" x=\"365.84\" y=\"-654.18\" font-family=\"Helvetica,sans-Serif\" font-size=\"14.00\">True</text>\n",
       "</g>\n",
       "<!-- 16 -->\n",
       "<g id=\"node17\" class=\"node\">\n",
       "<title>16</title>\n",
       "<path fill=\"#51a9e8\" stroke=\"black\" d=\"M534.08,-634C534.08,-634 438.26,-634 438.26,-634 432.26,-634 426.26,-628 426.26,-622 426.26,-622 426.26,-568 426.26,-568 426.26,-562 432.26,-556 438.26,-556 438.26,-556 534.08,-556 534.08,-556 540.08,-556 546.08,-562 546.08,-568 546.08,-568 546.08,-622 546.08,-622 546.08,-628 540.08,-634 534.08,-634\"/>\n",
       "<text text-anchor=\"start\" x=\"452.36\" y=\"-619.8\" font-family=\"Helvetica,sans-Serif\" font-size=\"14.00\">X</text>\n",
       "<text text-anchor=\"start\" x=\"461.7\" y=\"-619.8\" font-family=\"Helvetica,sans-Serif\" baseline-shift=\"sub\" font-size=\"14.00\">5</text>\n",
       "<text text-anchor=\"start\" x=\"469.48\" y=\"-619.8\" font-family=\"Helvetica,sans-Serif\" font-size=\"14.00\"> ≤ 8.047</text>\n",
       "<text text-anchor=\"start\" x=\"449.78\" y=\"-605.8\" font-family=\"Helvetica,sans-Serif\" font-size=\"14.00\">gini = 0.193</text>\n",
       "<text text-anchor=\"start\" x=\"440.45\" y=\"-591.8\" font-family=\"Helvetica,sans-Serif\" font-size=\"14.00\">samples = 203</text>\n",
       "<text text-anchor=\"start\" x=\"434.21\" y=\"-577.8\" font-family=\"Helvetica,sans-Serif\" font-size=\"14.00\">value = [22, 181]</text>\n",
       "<text text-anchor=\"start\" x=\"448.36\" y=\"-563.8\" font-family=\"Helvetica,sans-Serif\" font-size=\"14.00\">class = YES</text>\n",
       "</g>\n",
       "<!-- 0&#45;&gt;16 -->\n",
       "<g id=\"edge16\" class=\"edge\">\n",
       "<title>0&#45;&gt;16</title>\n",
       "<path fill=\"none\" stroke=\"black\" d=\"M440.72,-669.77C446.11,-661.03 451.89,-651.64 457.46,-642.6\"/>\n",
       "<polygon fill=\"black\" stroke=\"black\" points=\"460.46,-644.41 462.72,-634.06 454.5,-640.74 460.46,-644.41\"/>\n",
       "<text text-anchor=\"middle\" x=\"468.5\" y=\"-654.18\" font-family=\"Helvetica,sans-Serif\" font-size=\"14.00\">False</text>\n",
       "</g>\n",
       "<!-- 2 -->\n",
       "<g id=\"node3\" class=\"node\">\n",
       "<title>2</title>\n",
       "<path fill=\"#6cb6ec\" stroke=\"black\" d=\"M268.77,-520C268.77,-520 181.58,-520 181.58,-520 175.58,-520 169.58,-514 169.58,-508 169.58,-508 169.58,-454 169.58,-454 169.58,-448 175.58,-442 181.58,-442 181.58,-442 268.77,-442 268.77,-442 274.77,-442 280.77,-448 280.77,-454 280.77,-454 280.77,-508 280.77,-508 280.77,-514 274.77,-520 268.77,-520\"/>\n",
       "<text text-anchor=\"start\" x=\"195.25\" y=\"-505.8\" font-family=\"Helvetica,sans-Serif\" font-size=\"14.00\">X</text>\n",
       "<text text-anchor=\"start\" x=\"204.59\" y=\"-505.8\" font-family=\"Helvetica,sans-Serif\" baseline-shift=\"sub\" font-size=\"14.00\">3</text>\n",
       "<text text-anchor=\"start\" x=\"212.38\" y=\"-505.8\" font-family=\"Helvetica,sans-Serif\" font-size=\"14.00\"> ≤ 24.5</text>\n",
       "<text text-anchor=\"start\" x=\"188.78\" y=\"-491.8\" font-family=\"Helvetica,sans-Serif\" font-size=\"14.00\">gini = 0.324</text>\n",
       "<text text-anchor=\"start\" x=\"183.34\" y=\"-477.8\" font-family=\"Helvetica,sans-Serif\" font-size=\"14.00\">samples = 54</text>\n",
       "<text text-anchor=\"start\" x=\"177.62\" y=\"-463.8\" font-family=\"Helvetica,sans-Serif\" font-size=\"14.00\">value = [11, 43]</text>\n",
       "<text text-anchor=\"start\" x=\"187.36\" y=\"-449.8\" font-family=\"Helvetica,sans-Serif\" font-size=\"14.00\">class = YES</text>\n",
       "</g>\n",
       "<!-- 1&#45;&gt;2 -->\n",
       "<g id=\"edge2\" class=\"edge\">\n",
       "<title>1&#45;&gt;2</title>\n",
       "<path fill=\"none\" stroke=\"black\" d=\"M306.18,-555.77C295.99,-546.49 285,-536.48 274.51,-526.92\"/>\n",
       "<polygon fill=\"black\" stroke=\"black\" points=\"276.72,-524.2 266.97,-520.06 272,-529.38 276.72,-524.2\"/>\n",
       "</g>\n",
       "<!-- 11 -->\n",
       "<g id=\"node12\" class=\"node\">\n",
       "<title>11</title>\n",
       "<path fill=\"#e5823b\" stroke=\"black\" d=\"M391.51,-520C391.51,-520 310.83,-520 310.83,-520 304.83,-520 298.83,-514 298.83,-508 298.83,-508 298.83,-454 298.83,-454 298.83,-448 304.83,-442 310.83,-442 310.83,-442 391.51,-442 391.51,-442 397.51,-442 403.51,-448 403.51,-454 403.51,-454 403.51,-508 403.51,-508 403.51,-514 397.51,-520 391.51,-520\"/>\n",
       "<text text-anchor=\"start\" x=\"325.15\" y=\"-505.8\" font-family=\"Helvetica,sans-Serif\" font-size=\"14.00\">X</text>\n",
       "<text text-anchor=\"start\" x=\"334.48\" y=\"-505.8\" font-family=\"Helvetica,sans-Serif\" baseline-shift=\"sub\" font-size=\"14.00\">5</text>\n",
       "<text text-anchor=\"start\" x=\"342.27\" y=\"-505.8\" font-family=\"Helvetica,sans-Serif\" font-size=\"14.00\"> ≤ 4.0</text>\n",
       "<text text-anchor=\"start\" x=\"318.67\" y=\"-491.8\" font-family=\"Helvetica,sans-Serif\" font-size=\"14.00\">gini = 0.02</text>\n",
       "<text text-anchor=\"start\" x=\"309.34\" y=\"-477.8\" font-family=\"Helvetica,sans-Serif\" font-size=\"14.00\">samples = 98</text>\n",
       "<text text-anchor=\"start\" x=\"307\" y=\"-463.8\" font-family=\"Helvetica,sans-Serif\" font-size=\"14.00\">value = [97, 1]</text>\n",
       "<text text-anchor=\"start\" x=\"316.74\" y=\"-449.8\" font-family=\"Helvetica,sans-Serif\" font-size=\"14.00\">class = NO</text>\n",
       "</g>\n",
       "<!-- 1&#45;&gt;11 -->\n",
       "<g id=\"edge11\" class=\"edge\">\n",
       "<title>1&#45;&gt;11</title>\n",
       "<path fill=\"none\" stroke=\"black\" d=\"M349.19,-555.77C349.41,-547.57 349.65,-538.8 349.88,-530.28\"/>\n",
       "<polygon fill=\"black\" stroke=\"black\" points=\"353.38,-530.15 350.15,-520.06 346.38,-529.96 353.38,-530.15\"/>\n",
       "</g>\n",
       "<!-- 3 -->\n",
       "<g id=\"node4\" class=\"node\">\n",
       "<title>3</title>\n",
       "<path fill=\"#e58139\" stroke=\"black\" d=\"M146.23,-399C146.23,-399 74.11,-399 74.11,-399 68.11,-399 62.11,-393 62.11,-387 62.11,-387 62.11,-347 62.11,-347 62.11,-341 68.11,-335 74.11,-335 74.11,-335 146.23,-335 146.23,-335 152.23,-335 158.23,-341 158.23,-347 158.23,-347 158.23,-387 158.23,-387 158.23,-393 152.23,-399 146.23,-399\"/>\n",
       "<text text-anchor=\"start\" x=\"81.57\" y=\"-383.8\" font-family=\"Helvetica,sans-Serif\" font-size=\"14.00\">gini = 0.0</text>\n",
       "<text text-anchor=\"start\" x=\"72.23\" y=\"-369.8\" font-family=\"Helvetica,sans-Serif\" font-size=\"14.00\">samples = 8</text>\n",
       "<text text-anchor=\"start\" x=\"69.89\" y=\"-355.8\" font-family=\"Helvetica,sans-Serif\" font-size=\"14.00\">value = [8, 0]</text>\n",
       "<text text-anchor=\"start\" x=\"75.74\" y=\"-341.8\" font-family=\"Helvetica,sans-Serif\" font-size=\"14.00\">class = NO</text>\n",
       "</g>\n",
       "<!-- 2&#45;&gt;3 -->\n",
       "<g id=\"edge3\" class=\"edge\">\n",
       "<title>2&#45;&gt;3</title>\n",
       "<path fill=\"none\" stroke=\"black\" d=\"M185.92,-441.77C174.06,-430.22 161.05,-417.55 149.21,-406.02\"/>\n",
       "<polygon fill=\"black\" stroke=\"black\" points=\"151.62,-403.48 142.01,-399.01 146.73,-408.49 151.62,-403.48\"/>\n",
       "</g>\n",
       "<!-- 4 -->\n",
       "<g id=\"node5\" class=\"node\">\n",
       "<title>4</title>\n",
       "<path fill=\"#47a4e7\" stroke=\"black\" d=\"M268.51,-406C268.51,-406 187.83,-406 187.83,-406 181.83,-406 175.83,-400 175.83,-394 175.83,-394 175.83,-340 175.83,-340 175.83,-334 181.83,-328 187.83,-328 187.83,-328 268.51,-328 268.51,-328 274.51,-328 280.51,-334 280.51,-340 280.51,-340 280.51,-394 280.51,-394 280.51,-400 274.51,-406 268.51,-406\"/>\n",
       "<text text-anchor=\"start\" x=\"198.25\" y=\"-391.8\" font-family=\"Helvetica,sans-Serif\" font-size=\"14.00\">X</text>\n",
       "<text text-anchor=\"start\" x=\"207.59\" y=\"-391.8\" font-family=\"Helvetica,sans-Serif\" baseline-shift=\"sub\" font-size=\"14.00\">0</text>\n",
       "<text text-anchor=\"start\" x=\"215.38\" y=\"-391.8\" font-family=\"Helvetica,sans-Serif\" font-size=\"14.00\"> ≤ 57.5</text>\n",
       "<text text-anchor=\"start\" x=\"191.78\" y=\"-377.8\" font-family=\"Helvetica,sans-Serif\" font-size=\"14.00\">gini = 0.122</text>\n",
       "<text text-anchor=\"start\" x=\"186.34\" y=\"-363.8\" font-family=\"Helvetica,sans-Serif\" font-size=\"14.00\">samples = 46</text>\n",
       "<text text-anchor=\"start\" x=\"184\" y=\"-349.8\" font-family=\"Helvetica,sans-Serif\" font-size=\"14.00\">value = [3, 43]</text>\n",
       "<text text-anchor=\"start\" x=\"190.36\" y=\"-335.8\" font-family=\"Helvetica,sans-Serif\" font-size=\"14.00\">class = YES</text>\n",
       "</g>\n",
       "<!-- 2&#45;&gt;4 -->\n",
       "<g id=\"edge4\" class=\"edge\">\n",
       "<title>2&#45;&gt;4</title>\n",
       "<path fill=\"none\" stroke=\"black\" d=\"M226.19,-441.77C226.41,-433.57 226.65,-424.8 226.88,-416.28\"/>\n",
       "<polygon fill=\"black\" stroke=\"black\" points=\"230.38,-416.15 227.15,-406.06 223.38,-415.96 230.38,-416.15\"/>\n",
       "</g>\n",
       "<!-- 5 -->\n",
       "<g id=\"node6\" class=\"node\">\n",
       "<title>5</title>\n",
       "<path fill=\"#3e9fe6\" stroke=\"black\" d=\"M151.51,-292C151.51,-292 70.83,-292 70.83,-292 64.83,-292 58.83,-286 58.83,-280 58.83,-280 58.83,-226 58.83,-226 58.83,-220 64.83,-214 70.83,-214 70.83,-214 151.51,-214 151.51,-214 157.51,-214 163.51,-220 163.51,-226 163.51,-226 163.51,-280 163.51,-280 163.51,-286 157.51,-292 151.51,-292\"/>\n",
       "<text text-anchor=\"start\" x=\"77.36\" y=\"-277.8\" font-family=\"Helvetica,sans-Serif\" font-size=\"14.00\">X</text>\n",
       "<text text-anchor=\"start\" x=\"86.7\" y=\"-277.8\" font-family=\"Helvetica,sans-Serif\" baseline-shift=\"sub\" font-size=\"14.00\">5</text>\n",
       "<text text-anchor=\"start\" x=\"94.48\" y=\"-277.8\" font-family=\"Helvetica,sans-Serif\" font-size=\"14.00\"> ≤ 3.298</text>\n",
       "<text text-anchor=\"start\" x=\"74.78\" y=\"-263.8\" font-family=\"Helvetica,sans-Serif\" font-size=\"14.00\">gini = 0.044</text>\n",
       "<text text-anchor=\"start\" x=\"69.34\" y=\"-249.8\" font-family=\"Helvetica,sans-Serif\" font-size=\"14.00\">samples = 44</text>\n",
       "<text text-anchor=\"start\" x=\"67\" y=\"-235.8\" font-family=\"Helvetica,sans-Serif\" font-size=\"14.00\">value = [1, 43]</text>\n",
       "<text text-anchor=\"start\" x=\"73.36\" y=\"-221.8\" font-family=\"Helvetica,sans-Serif\" font-size=\"14.00\">class = YES</text>\n",
       "</g>\n",
       "<!-- 4&#45;&gt;5 -->\n",
       "<g id=\"edge5\" class=\"edge\">\n",
       "<title>4&#45;&gt;5</title>\n",
       "<path fill=\"none\" stroke=\"black\" d=\"M188.23,-327.77C178.63,-318.58 168.29,-308.68 158.39,-299.2\"/>\n",
       "<polygon fill=\"black\" stroke=\"black\" points=\"160.57,-296.45 150.93,-292.06 155.73,-301.5 160.57,-296.45\"/>\n",
       "</g>\n",
       "<!-- 10 -->\n",
       "<g id=\"node11\" class=\"node\">\n",
       "<title>10</title>\n",
       "<path fill=\"#e58139\" stroke=\"black\" d=\"M265.23,-285C265.23,-285 193.11,-285 193.11,-285 187.11,-285 181.11,-279 181.11,-273 181.11,-273 181.11,-233 181.11,-233 181.11,-227 187.11,-221 193.11,-221 193.11,-221 265.23,-221 265.23,-221 271.23,-221 277.23,-227 277.23,-233 277.23,-233 277.23,-273 277.23,-273 277.23,-279 271.23,-285 265.23,-285\"/>\n",
       "<text text-anchor=\"start\" x=\"200.57\" y=\"-269.8\" font-family=\"Helvetica,sans-Serif\" font-size=\"14.00\">gini = 0.0</text>\n",
       "<text text-anchor=\"start\" x=\"191.23\" y=\"-255.8\" font-family=\"Helvetica,sans-Serif\" font-size=\"14.00\">samples = 2</text>\n",
       "<text text-anchor=\"start\" x=\"188.89\" y=\"-241.8\" font-family=\"Helvetica,sans-Serif\" font-size=\"14.00\">value = [2, 0]</text>\n",
       "<text text-anchor=\"start\" x=\"194.74\" y=\"-227.8\" font-family=\"Helvetica,sans-Serif\" font-size=\"14.00\">class = NO</text>\n",
       "</g>\n",
       "<!-- 4&#45;&gt;10 -->\n",
       "<g id=\"edge10\" class=\"edge\">\n",
       "<title>4&#45;&gt;10</title>\n",
       "<path fill=\"none\" stroke=\"black\" d=\"M228.51,-327.77C228.61,-317.31 228.71,-305.94 228.8,-295.32\"/>\n",
       "<polygon fill=\"black\" stroke=\"black\" points=\"232.3,-295.04 228.89,-285.01 225.3,-294.98 232.3,-295.04\"/>\n",
       "</g>\n",
       "<!-- 6 -->\n",
       "<g id=\"node7\" class=\"node\">\n",
       "<title>6</title>\n",
       "<path fill=\"#399de5\" stroke=\"black\" d=\"M92.51,-171C92.51,-171 11.83,-171 11.83,-171 5.83,-171 -0.17,-165 -0.17,-159 -0.17,-159 -0.17,-119 -0.17,-119 -0.17,-113 5.83,-107 11.83,-107 11.83,-107 92.51,-107 92.51,-107 98.51,-107 104.51,-113 104.51,-119 104.51,-119 104.51,-159 104.51,-159 104.51,-165 98.51,-171 92.51,-171\"/>\n",
       "<text text-anchor=\"start\" x=\"23.57\" y=\"-155.8\" font-family=\"Helvetica,sans-Serif\" font-size=\"14.00\">gini = 0.0</text>\n",
       "<text text-anchor=\"start\" x=\"10.34\" y=\"-141.8\" font-family=\"Helvetica,sans-Serif\" font-size=\"14.00\">samples = 41</text>\n",
       "<text text-anchor=\"start\" x=\"8\" y=\"-127.8\" font-family=\"Helvetica,sans-Serif\" font-size=\"14.00\">value = [0, 41]</text>\n",
       "<text text-anchor=\"start\" x=\"14.36\" y=\"-113.8\" font-family=\"Helvetica,sans-Serif\" font-size=\"14.00\">class = YES</text>\n",
       "</g>\n",
       "<!-- 5&#45;&gt;6 -->\n",
       "<g id=\"edge6\" class=\"edge\">\n",
       "<title>5&#45;&gt;6</title>\n",
       "<path fill=\"none\" stroke=\"black\" d=\"M91.03,-213.77C85.29,-202.88 79.03,-190.99 73.24,-179.99\"/>\n",
       "<polygon fill=\"black\" stroke=\"black\" points=\"76.26,-178.23 68.51,-171.01 70.07,-181.49 76.26,-178.23\"/>\n",
       "</g>\n",
       "<!-- 7 -->\n",
       "<g id=\"node8\" class=\"node\">\n",
       "<title>7</title>\n",
       "<path fill=\"#9ccef2\" stroke=\"black\" d=\"M206.23,-178C206.23,-178 134.11,-178 134.11,-178 128.11,-178 122.11,-172 122.11,-166 122.11,-166 122.11,-112 122.11,-112 122.11,-106 128.11,-100 134.11,-100 134.11,-100 206.23,-100 206.23,-100 212.23,-100 218.23,-106 218.23,-112 218.23,-112 218.23,-166 218.23,-166 218.23,-172 212.23,-178 206.23,-178\"/>\n",
       "<text text-anchor=\"start\" x=\"140.25\" y=\"-163.8\" font-family=\"Helvetica,sans-Serif\" font-size=\"14.00\">X</text>\n",
       "<text text-anchor=\"start\" x=\"149.59\" y=\"-163.8\" font-family=\"Helvetica,sans-Serif\" baseline-shift=\"sub\" font-size=\"14.00\">0</text>\n",
       "<text text-anchor=\"start\" x=\"157.38\" y=\"-163.8\" font-family=\"Helvetica,sans-Serif\" font-size=\"14.00\"> ≤ 26.5</text>\n",
       "<text text-anchor=\"start\" x=\"133.78\" y=\"-149.8\" font-family=\"Helvetica,sans-Serif\" font-size=\"14.00\">gini = 0.444</text>\n",
       "<text text-anchor=\"start\" x=\"132.23\" y=\"-135.8\" font-family=\"Helvetica,sans-Serif\" font-size=\"14.00\">samples = 3</text>\n",
       "<text text-anchor=\"start\" x=\"129.89\" y=\"-121.8\" font-family=\"Helvetica,sans-Serif\" font-size=\"14.00\">value = [1, 2]</text>\n",
       "<text text-anchor=\"start\" x=\"132.36\" y=\"-107.8\" font-family=\"Helvetica,sans-Serif\" font-size=\"14.00\">class = YES</text>\n",
       "</g>\n",
       "<!-- 5&#45;&gt;7 -->\n",
       "<g id=\"edge7\" class=\"edge\">\n",
       "<title>5&#45;&gt;7</title>\n",
       "<path fill=\"none\" stroke=\"black\" d=\"M131.31,-213.77C135.82,-205.21 140.65,-196.03 145.33,-187.16\"/>\n",
       "<polygon fill=\"black\" stroke=\"black\" points=\"148.56,-188.54 150.12,-178.06 142.36,-185.27 148.56,-188.54\"/>\n",
       "</g>\n",
       "<!-- 8 -->\n",
       "<g id=\"node9\" class=\"node\">\n",
       "<title>8</title>\n",
       "<path fill=\"#399de5\" stroke=\"black\" d=\"M149.23,-64C149.23,-64 77.11,-64 77.11,-64 71.11,-64 65.11,-58 65.11,-52 65.11,-52 65.11,-12 65.11,-12 65.11,-6 71.11,0 77.11,0 77.11,0 149.23,0 149.23,0 155.23,0 161.23,-6 161.23,-12 161.23,-12 161.23,-52 161.23,-52 161.23,-58 155.23,-64 149.23,-64\"/>\n",
       "<text text-anchor=\"start\" x=\"84.57\" y=\"-48.8\" font-family=\"Helvetica,sans-Serif\" font-size=\"14.00\">gini = 0.0</text>\n",
       "<text text-anchor=\"start\" x=\"75.23\" y=\"-34.8\" font-family=\"Helvetica,sans-Serif\" font-size=\"14.00\">samples = 2</text>\n",
       "<text text-anchor=\"start\" x=\"72.89\" y=\"-20.8\" font-family=\"Helvetica,sans-Serif\" font-size=\"14.00\">value = [0, 2]</text>\n",
       "<text text-anchor=\"start\" x=\"75.36\" y=\"-6.8\" font-family=\"Helvetica,sans-Serif\" font-size=\"14.00\">class = YES</text>\n",
       "</g>\n",
       "<!-- 7&#45;&gt;8 -->\n",
       "<g id=\"edge8\" class=\"edge\">\n",
       "<title>7&#45;&gt;8</title>\n",
       "<path fill=\"none\" stroke=\"black\" d=\"M149.43,-99.8C144.71,-91.09 139.67,-81.82 134.91,-73.04\"/>\n",
       "<polygon fill=\"black\" stroke=\"black\" points=\"137.91,-71.24 130.06,-64.12 131.76,-74.58 137.91,-71.24\"/>\n",
       "</g>\n",
       "<!-- 9 -->\n",
       "<g id=\"node10\" class=\"node\">\n",
       "<title>9</title>\n",
       "<path fill=\"#e58139\" stroke=\"black\" d=\"M264.23,-64C264.23,-64 192.11,-64 192.11,-64 186.11,-64 180.11,-58 180.11,-52 180.11,-52 180.11,-12 180.11,-12 180.11,-6 186.11,0 192.11,0 192.11,0 264.23,0 264.23,0 270.23,0 276.23,-6 276.23,-12 276.23,-12 276.23,-52 276.23,-52 276.23,-58 270.23,-64 264.23,-64\"/>\n",
       "<text text-anchor=\"start\" x=\"199.57\" y=\"-48.8\" font-family=\"Helvetica,sans-Serif\" font-size=\"14.00\">gini = 0.0</text>\n",
       "<text text-anchor=\"start\" x=\"190.23\" y=\"-34.8\" font-family=\"Helvetica,sans-Serif\" font-size=\"14.00\">samples = 1</text>\n",
       "<text text-anchor=\"start\" x=\"187.89\" y=\"-20.8\" font-family=\"Helvetica,sans-Serif\" font-size=\"14.00\">value = [1, 0]</text>\n",
       "<text text-anchor=\"start\" x=\"193.74\" y=\"-6.8\" font-family=\"Helvetica,sans-Serif\" font-size=\"14.00\">class = NO</text>\n",
       "</g>\n",
       "<!-- 7&#45;&gt;9 -->\n",
       "<g id=\"edge9\" class=\"edge\">\n",
       "<title>7&#45;&gt;9</title>\n",
       "<path fill=\"none\" stroke=\"black\" d=\"M191.27,-99.8C196.08,-91.09 201.2,-81.82 206.05,-73.04\"/>\n",
       "<polygon fill=\"black\" stroke=\"black\" points=\"209.21,-74.56 210.98,-64.12 203.08,-71.18 209.21,-74.56\"/>\n",
       "</g>\n",
       "<!-- 12 -->\n",
       "<g id=\"node13\" class=\"node\">\n",
       "<title>12</title>\n",
       "<path fill=\"#f2c09c\" stroke=\"black\" d=\"M386.23,-406C386.23,-406 314.11,-406 314.11,-406 308.11,-406 302.11,-400 302.11,-394 302.11,-394 302.11,-340 302.11,-340 302.11,-334 308.11,-328 314.11,-328 314.11,-328 386.23,-328 386.23,-328 392.23,-328 398.23,-334 398.23,-340 398.23,-340 398.23,-394 398.23,-394 398.23,-400 392.23,-406 386.23,-406\"/>\n",
       "<text text-anchor=\"start\" x=\"316.36\" y=\"-391.8\" font-family=\"Helvetica,sans-Serif\" font-size=\"14.00\">X</text>\n",
       "<text text-anchor=\"start\" x=\"325.7\" y=\"-391.8\" font-family=\"Helvetica,sans-Serif\" baseline-shift=\"sub\" font-size=\"14.00\">5</text>\n",
       "<text text-anchor=\"start\" x=\"333.48\" y=\"-391.8\" font-family=\"Helvetica,sans-Serif\" font-size=\"14.00\"> ≤ 3.913</text>\n",
       "<text text-anchor=\"start\" x=\"313.78\" y=\"-377.8\" font-family=\"Helvetica,sans-Serif\" font-size=\"14.00\">gini = 0.444</text>\n",
       "<text text-anchor=\"start\" x=\"312.23\" y=\"-363.8\" font-family=\"Helvetica,sans-Serif\" font-size=\"14.00\">samples = 3</text>\n",
       "<text text-anchor=\"start\" x=\"309.89\" y=\"-349.8\" font-family=\"Helvetica,sans-Serif\" font-size=\"14.00\">value = [2, 1]</text>\n",
       "<text text-anchor=\"start\" x=\"315.74\" y=\"-335.8\" font-family=\"Helvetica,sans-Serif\" font-size=\"14.00\">class = NO</text>\n",
       "</g>\n",
       "<!-- 11&#45;&gt;12 -->\n",
       "<g id=\"edge12\" class=\"edge\">\n",
       "<title>11&#45;&gt;12</title>\n",
       "<path fill=\"none\" stroke=\"black\" d=\"M350.83,-441.77C350.76,-433.57 350.68,-424.8 350.6,-416.28\"/>\n",
       "<polygon fill=\"black\" stroke=\"black\" points=\"354.1,-416.03 350.51,-406.06 347.1,-416.09 354.1,-416.03\"/>\n",
       "</g>\n",
       "<!-- 15 -->\n",
       "<g id=\"node16\" class=\"node\">\n",
       "<title>15</title>\n",
       "<path fill=\"#e58139\" stroke=\"black\" d=\"M508.51,-399C508.51,-399 427.83,-399 427.83,-399 421.83,-399 415.83,-393 415.83,-387 415.83,-387 415.83,-347 415.83,-347 415.83,-341 421.83,-335 427.83,-335 427.83,-335 508.51,-335 508.51,-335 514.51,-335 520.51,-341 520.51,-347 520.51,-347 520.51,-387 520.51,-387 520.51,-393 514.51,-399 508.51,-399\"/>\n",
       "<text text-anchor=\"start\" x=\"439.57\" y=\"-383.8\" font-family=\"Helvetica,sans-Serif\" font-size=\"14.00\">gini = 0.0</text>\n",
       "<text text-anchor=\"start\" x=\"426.34\" y=\"-369.8\" font-family=\"Helvetica,sans-Serif\" font-size=\"14.00\">samples = 95</text>\n",
       "<text text-anchor=\"start\" x=\"424\" y=\"-355.8\" font-family=\"Helvetica,sans-Serif\" font-size=\"14.00\">value = [95, 0]</text>\n",
       "<text text-anchor=\"start\" x=\"433.74\" y=\"-341.8\" font-family=\"Helvetica,sans-Serif\" font-size=\"14.00\">class = NO</text>\n",
       "</g>\n",
       "<!-- 11&#45;&gt;15 -->\n",
       "<g id=\"edge15\" class=\"edge\">\n",
       "<title>11&#45;&gt;15</title>\n",
       "<path fill=\"none\" stroke=\"black\" d=\"M391.11,-441.77C403.17,-430.22 416.4,-417.55 428.45,-406.02\"/>\n",
       "<polygon fill=\"black\" stroke=\"black\" points=\"430.97,-408.45 435.78,-399.01 426.13,-403.4 430.97,-408.45\"/>\n",
       "</g>\n",
       "<!-- 13 -->\n",
       "<g id=\"node14\" class=\"node\">\n",
       "<title>13</title>\n",
       "<path fill=\"#e58139\" stroke=\"black\" d=\"M385.23,-285C385.23,-285 313.11,-285 313.11,-285 307.11,-285 301.11,-279 301.11,-273 301.11,-273 301.11,-233 301.11,-233 301.11,-227 307.11,-221 313.11,-221 313.11,-221 385.23,-221 385.23,-221 391.23,-221 397.23,-227 397.23,-233 397.23,-233 397.23,-273 397.23,-273 397.23,-279 391.23,-285 385.23,-285\"/>\n",
       "<text text-anchor=\"start\" x=\"320.57\" y=\"-269.8\" font-family=\"Helvetica,sans-Serif\" font-size=\"14.00\">gini = 0.0</text>\n",
       "<text text-anchor=\"start\" x=\"311.23\" y=\"-255.8\" font-family=\"Helvetica,sans-Serif\" font-size=\"14.00\">samples = 2</text>\n",
       "<text text-anchor=\"start\" x=\"308.89\" y=\"-241.8\" font-family=\"Helvetica,sans-Serif\" font-size=\"14.00\">value = [2, 0]</text>\n",
       "<text text-anchor=\"start\" x=\"314.74\" y=\"-227.8\" font-family=\"Helvetica,sans-Serif\" font-size=\"14.00\">class = NO</text>\n",
       "</g>\n",
       "<!-- 12&#45;&gt;13 -->\n",
       "<g id=\"edge13\" class=\"edge\">\n",
       "<title>12&#45;&gt;13</title>\n",
       "<path fill=\"none\" stroke=\"black\" d=\"M349.83,-327.77C349.74,-317.31 349.63,-305.94 349.54,-295.32\"/>\n",
       "<polygon fill=\"black\" stroke=\"black\" points=\"353.04,-294.98 349.45,-285.01 346.04,-295.04 353.04,-294.98\"/>\n",
       "</g>\n",
       "<!-- 14 -->\n",
       "<g id=\"node15\" class=\"node\">\n",
       "<title>14</title>\n",
       "<path fill=\"#399de5\" stroke=\"black\" d=\"M500.23,-285C500.23,-285 428.11,-285 428.11,-285 422.11,-285 416.11,-279 416.11,-273 416.11,-273 416.11,-233 416.11,-233 416.11,-227 422.11,-221 428.11,-221 428.11,-221 500.23,-221 500.23,-221 506.23,-221 512.23,-227 512.23,-233 512.23,-233 512.23,-273 512.23,-273 512.23,-279 506.23,-285 500.23,-285\"/>\n",
       "<text text-anchor=\"start\" x=\"435.57\" y=\"-269.8\" font-family=\"Helvetica,sans-Serif\" font-size=\"14.00\">gini = 0.0</text>\n",
       "<text text-anchor=\"start\" x=\"426.23\" y=\"-255.8\" font-family=\"Helvetica,sans-Serif\" font-size=\"14.00\">samples = 1</text>\n",
       "<text text-anchor=\"start\" x=\"423.89\" y=\"-241.8\" font-family=\"Helvetica,sans-Serif\" font-size=\"14.00\">value = [0, 1]</text>\n",
       "<text text-anchor=\"start\" x=\"426.36\" y=\"-227.8\" font-family=\"Helvetica,sans-Serif\" font-size=\"14.00\">class = YES</text>\n",
       "</g>\n",
       "<!-- 12&#45;&gt;14 -->\n",
       "<g id=\"edge14\" class=\"edge\">\n",
       "<title>12&#45;&gt;14</title>\n",
       "<path fill=\"none\" stroke=\"black\" d=\"M389.08,-327.77C400.84,-316.22 413.73,-303.55 425.47,-292.02\"/>\n",
       "<polygon fill=\"black\" stroke=\"black\" points=\"427.93,-294.51 432.61,-285.01 423.02,-289.52 427.93,-294.51\"/>\n",
       "</g>\n",
       "<!-- 17 -->\n",
       "<g id=\"node18\" class=\"node\">\n",
       "<title>17</title>\n",
       "<path fill=\"#399de5\" stroke=\"black\" d=\"M527.3,-513C527.3,-513 439.04,-513 439.04,-513 433.04,-513 427.04,-507 427.04,-501 427.04,-501 427.04,-461 427.04,-461 427.04,-455 433.04,-449 439.04,-449 439.04,-449 527.3,-449 527.3,-449 533.3,-449 539.3,-455 539.3,-461 539.3,-461 539.3,-501 539.3,-501 539.3,-507 533.3,-513 527.3,-513\"/>\n",
       "<text text-anchor=\"start\" x=\"454.57\" y=\"-497.8\" font-family=\"Helvetica,sans-Serif\" font-size=\"14.00\">gini = 0.0</text>\n",
       "<text text-anchor=\"start\" x=\"437.45\" y=\"-483.8\" font-family=\"Helvetica,sans-Serif\" font-size=\"14.00\">samples = 158</text>\n",
       "<text text-anchor=\"start\" x=\"435.11\" y=\"-469.8\" font-family=\"Helvetica,sans-Serif\" font-size=\"14.00\">value = [0, 158]</text>\n",
       "<text text-anchor=\"start\" x=\"445.36\" y=\"-455.8\" font-family=\"Helvetica,sans-Serif\" font-size=\"14.00\">class = YES</text>\n",
       "</g>\n",
       "<!-- 16&#45;&gt;17 -->\n",
       "<g id=\"edge17\" class=\"edge\">\n",
       "<title>16&#45;&gt;17</title>\n",
       "<path fill=\"none\" stroke=\"black\" d=\"M485.15,-555.77C484.87,-545.31 484.56,-533.94 484.28,-523.32\"/>\n",
       "<polygon fill=\"black\" stroke=\"black\" points=\"487.77,-522.91 484,-513.01 480.77,-523.1 487.77,-522.91\"/>\n",
       "</g>\n",
       "<!-- 18 -->\n",
       "<g id=\"node19\" class=\"node\">\n",
       "<title>18</title>\n",
       "<path fill=\"#f6fbfe\" stroke=\"black\" d=\"M657.3,-520C657.3,-520 569.04,-520 569.04,-520 563.04,-520 557.04,-514 557.04,-508 557.04,-508 557.04,-454 557.04,-454 557.04,-448 563.04,-442 569.04,-442 569.04,-442 657.3,-442 657.3,-442 663.3,-442 669.3,-448 669.3,-454 669.3,-454 669.3,-508 669.3,-508 669.3,-514 663.3,-520 657.3,-520\"/>\n",
       "<text text-anchor=\"start\" x=\"579.36\" y=\"-505.8\" font-family=\"Helvetica,sans-Serif\" font-size=\"14.00\">X</text>\n",
       "<text text-anchor=\"start\" x=\"588.7\" y=\"-505.8\" font-family=\"Helvetica,sans-Serif\" baseline-shift=\"sub\" font-size=\"14.00\">3</text>\n",
       "<text text-anchor=\"start\" x=\"596.48\" y=\"-505.8\" font-family=\"Helvetica,sans-Serif\" font-size=\"14.00\"> ≤ 140.5</text>\n",
       "<text text-anchor=\"start\" x=\"584.57\" y=\"-491.8\" font-family=\"Helvetica,sans-Serif\" font-size=\"14.00\">gini = 0.5</text>\n",
       "<text text-anchor=\"start\" x=\"571.34\" y=\"-477.8\" font-family=\"Helvetica,sans-Serif\" font-size=\"14.00\">samples = 45</text>\n",
       "<text text-anchor=\"start\" x=\"565.11\" y=\"-463.8\" font-family=\"Helvetica,sans-Serif\" font-size=\"14.00\">value = [22, 23]</text>\n",
       "<text text-anchor=\"start\" x=\"575.36\" y=\"-449.8\" font-family=\"Helvetica,sans-Serif\" font-size=\"14.00\">class = YES</text>\n",
       "</g>\n",
       "<!-- 16&#45;&gt;18 -->\n",
       "<g id=\"edge18\" class=\"edge\">\n",
       "<title>16&#45;&gt;18</title>\n",
       "<path fill=\"none\" stroke=\"black\" d=\"M529.52,-555.77C540.05,-546.49 551.39,-536.48 562.23,-526.92\"/>\n",
       "<polygon fill=\"black\" stroke=\"black\" points=\"564.83,-529.3 570.01,-520.06 560.2,-524.05 564.83,-529.3\"/>\n",
       "</g>\n",
       "<!-- 19 -->\n",
       "<g id=\"node20\" class=\"node\">\n",
       "<title>19</title>\n",
       "<path fill=\"#e58139\" stroke=\"black\" d=\"M642.51,-399C642.51,-399 561.83,-399 561.83,-399 555.83,-399 549.83,-393 549.83,-387 549.83,-387 549.83,-347 549.83,-347 549.83,-341 555.83,-335 561.83,-335 561.83,-335 642.51,-335 642.51,-335 648.51,-335 654.51,-341 654.51,-347 654.51,-347 654.51,-387 654.51,-387 654.51,-393 648.51,-399 642.51,-399\"/>\n",
       "<text text-anchor=\"start\" x=\"573.57\" y=\"-383.8\" font-family=\"Helvetica,sans-Serif\" font-size=\"14.00\">gini = 0.0</text>\n",
       "<text text-anchor=\"start\" x=\"560.34\" y=\"-369.8\" font-family=\"Helvetica,sans-Serif\" font-size=\"14.00\">samples = 22</text>\n",
       "<text text-anchor=\"start\" x=\"558\" y=\"-355.8\" font-family=\"Helvetica,sans-Serif\" font-size=\"14.00\">value = [22, 0]</text>\n",
       "<text text-anchor=\"start\" x=\"567.74\" y=\"-341.8\" font-family=\"Helvetica,sans-Serif\" font-size=\"14.00\">class = NO</text>\n",
       "</g>\n",
       "<!-- 18&#45;&gt;19 -->\n",
       "<g id=\"edge19\" class=\"edge\">\n",
       "<title>18&#45;&gt;19</title>\n",
       "<path fill=\"none\" stroke=\"black\" d=\"M609.42,-441.77C608.38,-431.2 607.25,-419.7 606.2,-408.98\"/>\n",
       "<polygon fill=\"black\" stroke=\"black\" points=\"609.68,-408.62 605.22,-399.01 602.71,-409.3 609.68,-408.62\"/>\n",
       "</g>\n",
       "<!-- 20 -->\n",
       "<g id=\"node21\" class=\"node\">\n",
       "<title>20</title>\n",
       "<path fill=\"#399de5\" stroke=\"black\" d=\"M764.51,-399C764.51,-399 683.83,-399 683.83,-399 677.83,-399 671.83,-393 671.83,-387 671.83,-387 671.83,-347 671.83,-347 671.83,-341 677.83,-335 683.83,-335 683.83,-335 764.51,-335 764.51,-335 770.51,-335 776.51,-341 776.51,-347 776.51,-347 776.51,-387 776.51,-387 776.51,-393 770.51,-399 764.51,-399\"/>\n",
       "<text text-anchor=\"start\" x=\"695.57\" y=\"-383.8\" font-family=\"Helvetica,sans-Serif\" font-size=\"14.00\">gini = 0.0</text>\n",
       "<text text-anchor=\"start\" x=\"682.34\" y=\"-369.8\" font-family=\"Helvetica,sans-Serif\" font-size=\"14.00\">samples = 23</text>\n",
       "<text text-anchor=\"start\" x=\"680\" y=\"-355.8\" font-family=\"Helvetica,sans-Serif\" font-size=\"14.00\">value = [0, 23]</text>\n",
       "<text text-anchor=\"start\" x=\"686.36\" y=\"-341.8\" font-family=\"Helvetica,sans-Serif\" font-size=\"14.00\">class = YES</text>\n",
       "</g>\n",
       "<!-- 18&#45;&gt;20 -->\n",
       "<g id=\"edge20\" class=\"edge\">\n",
       "<title>18&#45;&gt;20</title>\n",
       "<path fill=\"none\" stroke=\"black\" d=\"M651.06,-441.77C662.39,-430.33 674.82,-417.79 686.16,-406.35\"/>\n",
       "<polygon fill=\"black\" stroke=\"black\" points=\"688.88,-408.58 693.44,-399.01 683.91,-403.65 688.88,-408.58\"/>\n",
       "</g>\n",
       "</g>\n",
       "</svg>\n"
      ],
      "text/plain": [
       "<graphviz.files.Source at 0x7fe0326d5290>"
      ]
     },
     "execution_count": 72,
     "metadata": {},
     "output_type": "execute_result"
    }
   ],
   "source": [
    "# Now we want to visualize the tree\n",
    "import graphviz \n",
    "\n",
    "# We can do so with export_graphviz\n",
    "dot_data = tree.export_graphviz(entr_model, out_file=None)\n",
    "graph = graphviz.Source(dot_data)\n",
    "graph.render('coffee')\n",
    "\n",
    "# Alternatively for class_names use entr_model.classes_\n",
    "dot_data = tree.export_graphviz(entr_model, out_file=None, \n",
    "                        \n",
    "                      class_names=entr_model.classes_,  \n",
    "                      filled=True, rounded=True,  \n",
    "                      special_characters=True)  \n",
    "graph = graphviz.Source(dot_data)  \n",
    "graph "
   ]
  },
  {
   "cell_type": "markdown",
   "metadata": {
    "colab_type": "text",
    "id": "dFbii4IADuWg"
   },
   "source": [
    "## Model 1: Entropy model - no max_depth: Interpretation and evaluation"
   ]
  },
  {
   "cell_type": "code",
   "execution_count": 83,
   "metadata": {
    "colab": {},
    "colab_type": "code",
    "id": "XRL0klK4DuWh"
   },
   "outputs": [
    {
     "name": "stdout",
     "output_type": "stream",
     "text": [
      "Model Entropy - no max depth\n",
      "Accuracy: 0.9831932773109243\n",
      "Balanced accuracy: 0.9813946216385241\n",
      "Precision score for \"Yes\" 0.9871794871794872\n",
      "Precision score for \"No\" 0.975609756097561\n",
      "Recall score for \"Yes\" 0.9871794871794872\n",
      "Recall score for \"No\" 0.975609756097561\n"
     ]
    }
   ],
   "source": [
    "# Run this block for model evaluation metrics \n",
    "print(\"Model Entropy - no max depth\")\n",
    "print(\"Accuracy:\", metrics.accuracy_score(y_test,y_pred))\n",
    "print(\"Balanced accuracy:\", metrics.balanced_accuracy_score(y_test,y_pred))\n",
    "print('Precision score for \"Yes\"' , metrics.precision_score(y_test,y_pred, pos_label = \"YES\"))\n",
    "print('Precision score for \"No\"' , metrics.precision_score(y_test,y_pred, pos_label = \"NO\"))\n",
    "print('Recall score for \"Yes\"' , metrics.recall_score(y_test,y_pred, pos_label = \"YES\"))\n",
    "print('Recall score for \"No\"' , metrics.recall_score(y_test,y_pred, pos_label = \"NO\"))"
   ]
  },
  {
   "cell_type": "markdown",
   "metadata": {
    "colab_type": "text",
    "id": "icGOPFQ_DuWj"
   },
   "source": [
    "What can you infer from these results? Write your conclusions here: \n",
    "That the model is almost perfect and marginally better at predicting Yes vs No"
   ]
  },
  {
   "cell_type": "markdown",
   "metadata": {
    "colab_type": "text",
    "id": "MHipdpfxDuWk"
   },
   "source": [
    "## Model 2: Gini impurity model - no max_depth\n",
    "\n",
    "Gini impurity, like entropy, is a measure of how well a given feature (and threshold) splits the data into categories.\n",
    "\n",
    "Their equations are similar, but Gini impurity doesn't require logarithmic functions, which can be computationally expensive. "
   ]
  },
  {
   "cell_type": "code",
   "execution_count": 96,
   "metadata": {
    "colab": {},
    "colab_type": "code",
    "id": "FyBljeIpDuWl"
   },
   "outputs": [
    {
     "data": {
      "text/plain": [
       "DecisionTreeClassifier(random_state=2323)"
      ]
     },
     "execution_count": 96,
     "metadata": {},
     "output_type": "execute_result"
    }
   ],
   "source": [
    "# Make a variable called gini_model, and assign it exactly what you assigned entr_model with above, but with the\n",
    "# criterion changed to 'gini'\n",
    "gini_model = tree.DecisionTreeClassifier(criterion='gini', random_state = 2323)\n",
    "# Call fit() on the gini_model as you did with the entr_model\n",
    "gini_model.fit(X_train, y_train)\n",
    "\n",
    "# Call predict() on the gini_model as you did with the entr_model \n",
    "y_pred2 = pd.Series(gini_model.predict(X_test))\n",
    "\n",
    "# Check out gini_model\n",
    "gini_model"
   ]
  },
  {
   "cell_type": "code",
   "execution_count": 97,
   "metadata": {
    "colab": {},
    "colab_type": "code",
    "id": "d20SMUmgDuWo"
   },
   "outputs": [
    {
     "data": {
      "image/svg+xml": [
       "<?xml version=\"1.0\" encoding=\"UTF-8\" standalone=\"no\"?>\n",
       "<!DOCTYPE svg PUBLIC \"-//W3C//DTD SVG 1.1//EN\"\n",
       " \"http://www.w3.org/Graphics/SVG/1.1/DTD/svg11.dtd\">\n",
       "<!-- Generated by graphviz version 2.42.3 (20191010.1750)\n",
       " -->\n",
       "<!-- Title: Tree Pages: 1 -->\n",
       "<svg width=\"784pt\" height=\"756pt\"\n",
       " viewBox=\"0.00 0.00 784.34 756.00\" xmlns=\"http://www.w3.org/2000/svg\" xmlns:xlink=\"http://www.w3.org/1999/xlink\">\n",
       "<g id=\"graph0\" class=\"graph\" transform=\"scale(1 1) rotate(0) translate(4 752)\">\n",
       "<title>Tree</title>\n",
       "<polygon fill=\"white\" stroke=\"transparent\" points=\"-4,4 -4,-752 780.34,-752 780.34,4 -4,4\"/>\n",
       "<!-- 0 -->\n",
       "<g id=\"node1\" class=\"node\">\n",
       "<title>0</title>\n",
       "<path fill=\"#abd6f4\" stroke=\"black\" d=\"M468.87,-748C468.87,-748 365.47,-748 365.47,-748 359.47,-748 353.47,-742 353.47,-736 353.47,-736 353.47,-682 353.47,-682 353.47,-676 359.47,-670 365.47,-670 365.47,-670 468.87,-670 468.87,-670 474.87,-670 480.87,-676 480.87,-682 480.87,-682 480.87,-736 480.87,-736 480.87,-742 474.87,-748 468.87,-748\"/>\n",
       "<text text-anchor=\"start\" x=\"383.36\" y=\"-733.8\" font-family=\"Helvetica,sans-Serif\" font-size=\"14.00\">X</text>\n",
       "<text text-anchor=\"start\" x=\"392.7\" y=\"-733.8\" font-family=\"Helvetica,sans-Serif\" baseline-shift=\"sub\" font-size=\"14.00\">3</text>\n",
       "<text text-anchor=\"start\" x=\"400.48\" y=\"-733.8\" font-family=\"Helvetica,sans-Serif\" font-size=\"14.00\"> ≤ 100.5</text>\n",
       "<text text-anchor=\"start\" x=\"380.78\" y=\"-719.8\" font-family=\"Helvetica,sans-Serif\" font-size=\"14.00\">gini = 0.464</text>\n",
       "<text text-anchor=\"start\" x=\"371.45\" y=\"-705.8\" font-family=\"Helvetica,sans-Serif\" font-size=\"14.00\">samples = 355</text>\n",
       "<text text-anchor=\"start\" x=\"361.32\" y=\"-691.8\" font-family=\"Helvetica,sans-Serif\" font-size=\"14.00\">value = [130, 225]</text>\n",
       "<text text-anchor=\"start\" x=\"379.36\" y=\"-677.8\" font-family=\"Helvetica,sans-Serif\" font-size=\"14.00\">class = YES</text>\n",
       "</g>\n",
       "<!-- 1 -->\n",
       "<g id=\"node2\" class=\"node\">\n",
       "<title>1</title>\n",
       "<path fill=\"#f0b48a\" stroke=\"black\" d=\"M396.08,-634C396.08,-634 300.26,-634 300.26,-634 294.26,-634 288.26,-628 288.26,-622 288.26,-622 288.26,-568 288.26,-568 288.26,-562 294.26,-556 300.26,-556 300.26,-556 396.08,-556 396.08,-556 402.08,-556 408.08,-562 408.08,-568 408.08,-568 408.08,-622 408.08,-622 408.08,-628 402.08,-634 396.08,-634\"/>\n",
       "<text text-anchor=\"start\" x=\"314.36\" y=\"-619.8\" font-family=\"Helvetica,sans-Serif\" font-size=\"14.00\">X</text>\n",
       "<text text-anchor=\"start\" x=\"323.7\" y=\"-619.8\" font-family=\"Helvetica,sans-Serif\" baseline-shift=\"sub\" font-size=\"14.00\">5</text>\n",
       "<text text-anchor=\"start\" x=\"331.48\" y=\"-619.8\" font-family=\"Helvetica,sans-Serif\" font-size=\"14.00\"> ≤ 3.754</text>\n",
       "<text text-anchor=\"start\" x=\"312.3\" y=\"-605.8\" font-family=\"Helvetica,sans-Serif\" font-size=\"14.00\">gini = 0.411</text>\n",
       "<text text-anchor=\"start\" x=\"302.45\" y=\"-591.8\" font-family=\"Helvetica,sans-Serif\" font-size=\"14.00\">samples = 152</text>\n",
       "<text text-anchor=\"start\" x=\"296.21\" y=\"-577.8\" font-family=\"Helvetica,sans-Serif\" font-size=\"14.00\">value = [108, 44]</text>\n",
       "<text text-anchor=\"start\" x=\"313.74\" y=\"-563.8\" font-family=\"Helvetica,sans-Serif\" font-size=\"14.00\">class = NO</text>\n",
       "</g>\n",
       "<!-- 0&#45;&gt;1 -->\n",
       "<g id=\"edge1\" class=\"edge\">\n",
       "<title>0&#45;&gt;1</title>\n",
       "<path fill=\"none\" stroke=\"black\" d=\"M393.62,-669.77C388.23,-661.03 382.45,-651.64 376.88,-642.6\"/>\n",
       "<polygon fill=\"black\" stroke=\"black\" points=\"379.84,-640.74 371.62,-634.06 373.88,-644.41 379.84,-640.74\"/>\n",
       "<text text-anchor=\"middle\" x=\"365.84\" y=\"-654.18\" font-family=\"Helvetica,sans-Serif\" font-size=\"14.00\">True</text>\n",
       "</g>\n",
       "<!-- 16 -->\n",
       "<g id=\"node17\" class=\"node\">\n",
       "<title>16</title>\n",
       "<path fill=\"#51a9e8\" stroke=\"black\" d=\"M534.08,-634C534.08,-634 438.26,-634 438.26,-634 432.26,-634 426.26,-628 426.26,-622 426.26,-622 426.26,-568 426.26,-568 426.26,-562 432.26,-556 438.26,-556 438.26,-556 534.08,-556 534.08,-556 540.08,-556 546.08,-562 546.08,-568 546.08,-568 546.08,-622 546.08,-622 546.08,-628 540.08,-634 534.08,-634\"/>\n",
       "<text text-anchor=\"start\" x=\"452.36\" y=\"-619.8\" font-family=\"Helvetica,sans-Serif\" font-size=\"14.00\">X</text>\n",
       "<text text-anchor=\"start\" x=\"461.7\" y=\"-619.8\" font-family=\"Helvetica,sans-Serif\" baseline-shift=\"sub\" font-size=\"14.00\">5</text>\n",
       "<text text-anchor=\"start\" x=\"469.48\" y=\"-619.8\" font-family=\"Helvetica,sans-Serif\" font-size=\"14.00\"> ≤ 8.047</text>\n",
       "<text text-anchor=\"start\" x=\"449.78\" y=\"-605.8\" font-family=\"Helvetica,sans-Serif\" font-size=\"14.00\">gini = 0.193</text>\n",
       "<text text-anchor=\"start\" x=\"440.45\" y=\"-591.8\" font-family=\"Helvetica,sans-Serif\" font-size=\"14.00\">samples = 203</text>\n",
       "<text text-anchor=\"start\" x=\"434.21\" y=\"-577.8\" font-family=\"Helvetica,sans-Serif\" font-size=\"14.00\">value = [22, 181]</text>\n",
       "<text text-anchor=\"start\" x=\"448.36\" y=\"-563.8\" font-family=\"Helvetica,sans-Serif\" font-size=\"14.00\">class = YES</text>\n",
       "</g>\n",
       "<!-- 0&#45;&gt;16 -->\n",
       "<g id=\"edge16\" class=\"edge\">\n",
       "<title>0&#45;&gt;16</title>\n",
       "<path fill=\"none\" stroke=\"black\" d=\"M440.72,-669.77C446.11,-661.03 451.89,-651.64 457.46,-642.6\"/>\n",
       "<polygon fill=\"black\" stroke=\"black\" points=\"460.46,-644.41 462.72,-634.06 454.5,-640.74 460.46,-644.41\"/>\n",
       "<text text-anchor=\"middle\" x=\"468.5\" y=\"-654.18\" font-family=\"Helvetica,sans-Serif\" font-size=\"14.00\">False</text>\n",
       "</g>\n",
       "<!-- 2 -->\n",
       "<g id=\"node3\" class=\"node\">\n",
       "<title>2</title>\n",
       "<path fill=\"#6cb6ec\" stroke=\"black\" d=\"M268.77,-520C268.77,-520 181.58,-520 181.58,-520 175.58,-520 169.58,-514 169.58,-508 169.58,-508 169.58,-454 169.58,-454 169.58,-448 175.58,-442 181.58,-442 181.58,-442 268.77,-442 268.77,-442 274.77,-442 280.77,-448 280.77,-454 280.77,-454 280.77,-508 280.77,-508 280.77,-514 274.77,-520 268.77,-520\"/>\n",
       "<text text-anchor=\"start\" x=\"195.25\" y=\"-505.8\" font-family=\"Helvetica,sans-Serif\" font-size=\"14.00\">X</text>\n",
       "<text text-anchor=\"start\" x=\"204.59\" y=\"-505.8\" font-family=\"Helvetica,sans-Serif\" baseline-shift=\"sub\" font-size=\"14.00\">3</text>\n",
       "<text text-anchor=\"start\" x=\"212.38\" y=\"-505.8\" font-family=\"Helvetica,sans-Serif\" font-size=\"14.00\"> ≤ 24.5</text>\n",
       "<text text-anchor=\"start\" x=\"188.78\" y=\"-491.8\" font-family=\"Helvetica,sans-Serif\" font-size=\"14.00\">gini = 0.324</text>\n",
       "<text text-anchor=\"start\" x=\"183.34\" y=\"-477.8\" font-family=\"Helvetica,sans-Serif\" font-size=\"14.00\">samples = 54</text>\n",
       "<text text-anchor=\"start\" x=\"177.62\" y=\"-463.8\" font-family=\"Helvetica,sans-Serif\" font-size=\"14.00\">value = [11, 43]</text>\n",
       "<text text-anchor=\"start\" x=\"187.36\" y=\"-449.8\" font-family=\"Helvetica,sans-Serif\" font-size=\"14.00\">class = YES</text>\n",
       "</g>\n",
       "<!-- 1&#45;&gt;2 -->\n",
       "<g id=\"edge2\" class=\"edge\">\n",
       "<title>1&#45;&gt;2</title>\n",
       "<path fill=\"none\" stroke=\"black\" d=\"M306.18,-555.77C295.99,-546.49 285,-536.48 274.51,-526.92\"/>\n",
       "<polygon fill=\"black\" stroke=\"black\" points=\"276.72,-524.2 266.97,-520.06 272,-529.38 276.72,-524.2\"/>\n",
       "</g>\n",
       "<!-- 11 -->\n",
       "<g id=\"node12\" class=\"node\">\n",
       "<title>11</title>\n",
       "<path fill=\"#e5823b\" stroke=\"black\" d=\"M391.51,-520C391.51,-520 310.83,-520 310.83,-520 304.83,-520 298.83,-514 298.83,-508 298.83,-508 298.83,-454 298.83,-454 298.83,-448 304.83,-442 310.83,-442 310.83,-442 391.51,-442 391.51,-442 397.51,-442 403.51,-448 403.51,-454 403.51,-454 403.51,-508 403.51,-508 403.51,-514 397.51,-520 391.51,-520\"/>\n",
       "<text text-anchor=\"start\" x=\"325.15\" y=\"-505.8\" font-family=\"Helvetica,sans-Serif\" font-size=\"14.00\">X</text>\n",
       "<text text-anchor=\"start\" x=\"334.48\" y=\"-505.8\" font-family=\"Helvetica,sans-Serif\" baseline-shift=\"sub\" font-size=\"14.00\">5</text>\n",
       "<text text-anchor=\"start\" x=\"342.27\" y=\"-505.8\" font-family=\"Helvetica,sans-Serif\" font-size=\"14.00\"> ≤ 4.0</text>\n",
       "<text text-anchor=\"start\" x=\"318.67\" y=\"-491.8\" font-family=\"Helvetica,sans-Serif\" font-size=\"14.00\">gini = 0.02</text>\n",
       "<text text-anchor=\"start\" x=\"309.34\" y=\"-477.8\" font-family=\"Helvetica,sans-Serif\" font-size=\"14.00\">samples = 98</text>\n",
       "<text text-anchor=\"start\" x=\"307\" y=\"-463.8\" font-family=\"Helvetica,sans-Serif\" font-size=\"14.00\">value = [97, 1]</text>\n",
       "<text text-anchor=\"start\" x=\"316.74\" y=\"-449.8\" font-family=\"Helvetica,sans-Serif\" font-size=\"14.00\">class = NO</text>\n",
       "</g>\n",
       "<!-- 1&#45;&gt;11 -->\n",
       "<g id=\"edge11\" class=\"edge\">\n",
       "<title>1&#45;&gt;11</title>\n",
       "<path fill=\"none\" stroke=\"black\" d=\"M349.19,-555.77C349.41,-547.57 349.65,-538.8 349.88,-530.28\"/>\n",
       "<polygon fill=\"black\" stroke=\"black\" points=\"353.38,-530.15 350.15,-520.06 346.38,-529.96 353.38,-530.15\"/>\n",
       "</g>\n",
       "<!-- 3 -->\n",
       "<g id=\"node4\" class=\"node\">\n",
       "<title>3</title>\n",
       "<path fill=\"#e58139\" stroke=\"black\" d=\"M146.23,-399C146.23,-399 74.11,-399 74.11,-399 68.11,-399 62.11,-393 62.11,-387 62.11,-387 62.11,-347 62.11,-347 62.11,-341 68.11,-335 74.11,-335 74.11,-335 146.23,-335 146.23,-335 152.23,-335 158.23,-341 158.23,-347 158.23,-347 158.23,-387 158.23,-387 158.23,-393 152.23,-399 146.23,-399\"/>\n",
       "<text text-anchor=\"start\" x=\"81.57\" y=\"-383.8\" font-family=\"Helvetica,sans-Serif\" font-size=\"14.00\">gini = 0.0</text>\n",
       "<text text-anchor=\"start\" x=\"72.23\" y=\"-369.8\" font-family=\"Helvetica,sans-Serif\" font-size=\"14.00\">samples = 8</text>\n",
       "<text text-anchor=\"start\" x=\"69.89\" y=\"-355.8\" font-family=\"Helvetica,sans-Serif\" font-size=\"14.00\">value = [8, 0]</text>\n",
       "<text text-anchor=\"start\" x=\"75.74\" y=\"-341.8\" font-family=\"Helvetica,sans-Serif\" font-size=\"14.00\">class = NO</text>\n",
       "</g>\n",
       "<!-- 2&#45;&gt;3 -->\n",
       "<g id=\"edge3\" class=\"edge\">\n",
       "<title>2&#45;&gt;3</title>\n",
       "<path fill=\"none\" stroke=\"black\" d=\"M185.92,-441.77C174.06,-430.22 161.05,-417.55 149.21,-406.02\"/>\n",
       "<polygon fill=\"black\" stroke=\"black\" points=\"151.62,-403.48 142.01,-399.01 146.73,-408.49 151.62,-403.48\"/>\n",
       "</g>\n",
       "<!-- 4 -->\n",
       "<g id=\"node5\" class=\"node\">\n",
       "<title>4</title>\n",
       "<path fill=\"#47a4e7\" stroke=\"black\" d=\"M268.51,-406C268.51,-406 187.83,-406 187.83,-406 181.83,-406 175.83,-400 175.83,-394 175.83,-394 175.83,-340 175.83,-340 175.83,-334 181.83,-328 187.83,-328 187.83,-328 268.51,-328 268.51,-328 274.51,-328 280.51,-334 280.51,-340 280.51,-340 280.51,-394 280.51,-394 280.51,-400 274.51,-406 268.51,-406\"/>\n",
       "<text text-anchor=\"start\" x=\"198.25\" y=\"-391.8\" font-family=\"Helvetica,sans-Serif\" font-size=\"14.00\">X</text>\n",
       "<text text-anchor=\"start\" x=\"207.59\" y=\"-391.8\" font-family=\"Helvetica,sans-Serif\" baseline-shift=\"sub\" font-size=\"14.00\">0</text>\n",
       "<text text-anchor=\"start\" x=\"215.38\" y=\"-391.8\" font-family=\"Helvetica,sans-Serif\" font-size=\"14.00\"> ≤ 57.5</text>\n",
       "<text text-anchor=\"start\" x=\"191.78\" y=\"-377.8\" font-family=\"Helvetica,sans-Serif\" font-size=\"14.00\">gini = 0.122</text>\n",
       "<text text-anchor=\"start\" x=\"186.34\" y=\"-363.8\" font-family=\"Helvetica,sans-Serif\" font-size=\"14.00\">samples = 46</text>\n",
       "<text text-anchor=\"start\" x=\"184\" y=\"-349.8\" font-family=\"Helvetica,sans-Serif\" font-size=\"14.00\">value = [3, 43]</text>\n",
       "<text text-anchor=\"start\" x=\"190.36\" y=\"-335.8\" font-family=\"Helvetica,sans-Serif\" font-size=\"14.00\">class = YES</text>\n",
       "</g>\n",
       "<!-- 2&#45;&gt;4 -->\n",
       "<g id=\"edge4\" class=\"edge\">\n",
       "<title>2&#45;&gt;4</title>\n",
       "<path fill=\"none\" stroke=\"black\" d=\"M226.19,-441.77C226.41,-433.57 226.65,-424.8 226.88,-416.28\"/>\n",
       "<polygon fill=\"black\" stroke=\"black\" points=\"230.38,-416.15 227.15,-406.06 223.38,-415.96 230.38,-416.15\"/>\n",
       "</g>\n",
       "<!-- 5 -->\n",
       "<g id=\"node6\" class=\"node\">\n",
       "<title>5</title>\n",
       "<path fill=\"#3e9fe6\" stroke=\"black\" d=\"M151.51,-292C151.51,-292 70.83,-292 70.83,-292 64.83,-292 58.83,-286 58.83,-280 58.83,-280 58.83,-226 58.83,-226 58.83,-220 64.83,-214 70.83,-214 70.83,-214 151.51,-214 151.51,-214 157.51,-214 163.51,-220 163.51,-226 163.51,-226 163.51,-280 163.51,-280 163.51,-286 157.51,-292 151.51,-292\"/>\n",
       "<text text-anchor=\"start\" x=\"77.36\" y=\"-277.8\" font-family=\"Helvetica,sans-Serif\" font-size=\"14.00\">X</text>\n",
       "<text text-anchor=\"start\" x=\"86.7\" y=\"-277.8\" font-family=\"Helvetica,sans-Serif\" baseline-shift=\"sub\" font-size=\"14.00\">5</text>\n",
       "<text text-anchor=\"start\" x=\"94.48\" y=\"-277.8\" font-family=\"Helvetica,sans-Serif\" font-size=\"14.00\"> ≤ 3.298</text>\n",
       "<text text-anchor=\"start\" x=\"74.78\" y=\"-263.8\" font-family=\"Helvetica,sans-Serif\" font-size=\"14.00\">gini = 0.044</text>\n",
       "<text text-anchor=\"start\" x=\"69.34\" y=\"-249.8\" font-family=\"Helvetica,sans-Serif\" font-size=\"14.00\">samples = 44</text>\n",
       "<text text-anchor=\"start\" x=\"67\" y=\"-235.8\" font-family=\"Helvetica,sans-Serif\" font-size=\"14.00\">value = [1, 43]</text>\n",
       "<text text-anchor=\"start\" x=\"73.36\" y=\"-221.8\" font-family=\"Helvetica,sans-Serif\" font-size=\"14.00\">class = YES</text>\n",
       "</g>\n",
       "<!-- 4&#45;&gt;5 -->\n",
       "<g id=\"edge5\" class=\"edge\">\n",
       "<title>4&#45;&gt;5</title>\n",
       "<path fill=\"none\" stroke=\"black\" d=\"M188.23,-327.77C178.63,-318.58 168.29,-308.68 158.39,-299.2\"/>\n",
       "<polygon fill=\"black\" stroke=\"black\" points=\"160.57,-296.45 150.93,-292.06 155.73,-301.5 160.57,-296.45\"/>\n",
       "</g>\n",
       "<!-- 10 -->\n",
       "<g id=\"node11\" class=\"node\">\n",
       "<title>10</title>\n",
       "<path fill=\"#e58139\" stroke=\"black\" d=\"M265.23,-285C265.23,-285 193.11,-285 193.11,-285 187.11,-285 181.11,-279 181.11,-273 181.11,-273 181.11,-233 181.11,-233 181.11,-227 187.11,-221 193.11,-221 193.11,-221 265.23,-221 265.23,-221 271.23,-221 277.23,-227 277.23,-233 277.23,-233 277.23,-273 277.23,-273 277.23,-279 271.23,-285 265.23,-285\"/>\n",
       "<text text-anchor=\"start\" x=\"200.57\" y=\"-269.8\" font-family=\"Helvetica,sans-Serif\" font-size=\"14.00\">gini = 0.0</text>\n",
       "<text text-anchor=\"start\" x=\"191.23\" y=\"-255.8\" font-family=\"Helvetica,sans-Serif\" font-size=\"14.00\">samples = 2</text>\n",
       "<text text-anchor=\"start\" x=\"188.89\" y=\"-241.8\" font-family=\"Helvetica,sans-Serif\" font-size=\"14.00\">value = [2, 0]</text>\n",
       "<text text-anchor=\"start\" x=\"194.74\" y=\"-227.8\" font-family=\"Helvetica,sans-Serif\" font-size=\"14.00\">class = NO</text>\n",
       "</g>\n",
       "<!-- 4&#45;&gt;10 -->\n",
       "<g id=\"edge10\" class=\"edge\">\n",
       "<title>4&#45;&gt;10</title>\n",
       "<path fill=\"none\" stroke=\"black\" d=\"M228.51,-327.77C228.61,-317.31 228.71,-305.94 228.8,-295.32\"/>\n",
       "<polygon fill=\"black\" stroke=\"black\" points=\"232.3,-295.04 228.89,-285.01 225.3,-294.98 232.3,-295.04\"/>\n",
       "</g>\n",
       "<!-- 6 -->\n",
       "<g id=\"node7\" class=\"node\">\n",
       "<title>6</title>\n",
       "<path fill=\"#399de5\" stroke=\"black\" d=\"M92.51,-171C92.51,-171 11.83,-171 11.83,-171 5.83,-171 -0.17,-165 -0.17,-159 -0.17,-159 -0.17,-119 -0.17,-119 -0.17,-113 5.83,-107 11.83,-107 11.83,-107 92.51,-107 92.51,-107 98.51,-107 104.51,-113 104.51,-119 104.51,-119 104.51,-159 104.51,-159 104.51,-165 98.51,-171 92.51,-171\"/>\n",
       "<text text-anchor=\"start\" x=\"23.57\" y=\"-155.8\" font-family=\"Helvetica,sans-Serif\" font-size=\"14.00\">gini = 0.0</text>\n",
       "<text text-anchor=\"start\" x=\"10.34\" y=\"-141.8\" font-family=\"Helvetica,sans-Serif\" font-size=\"14.00\">samples = 41</text>\n",
       "<text text-anchor=\"start\" x=\"8\" y=\"-127.8\" font-family=\"Helvetica,sans-Serif\" font-size=\"14.00\">value = [0, 41]</text>\n",
       "<text text-anchor=\"start\" x=\"14.36\" y=\"-113.8\" font-family=\"Helvetica,sans-Serif\" font-size=\"14.00\">class = YES</text>\n",
       "</g>\n",
       "<!-- 5&#45;&gt;6 -->\n",
       "<g id=\"edge6\" class=\"edge\">\n",
       "<title>5&#45;&gt;6</title>\n",
       "<path fill=\"none\" stroke=\"black\" d=\"M91.03,-213.77C85.29,-202.88 79.03,-190.99 73.24,-179.99\"/>\n",
       "<polygon fill=\"black\" stroke=\"black\" points=\"76.26,-178.23 68.51,-171.01 70.07,-181.49 76.26,-178.23\"/>\n",
       "</g>\n",
       "<!-- 7 -->\n",
       "<g id=\"node8\" class=\"node\">\n",
       "<title>7</title>\n",
       "<path fill=\"#9ccef2\" stroke=\"black\" d=\"M206.23,-178C206.23,-178 134.11,-178 134.11,-178 128.11,-178 122.11,-172 122.11,-166 122.11,-166 122.11,-112 122.11,-112 122.11,-106 128.11,-100 134.11,-100 134.11,-100 206.23,-100 206.23,-100 212.23,-100 218.23,-106 218.23,-112 218.23,-112 218.23,-166 218.23,-166 218.23,-172 212.23,-178 206.23,-178\"/>\n",
       "<text text-anchor=\"start\" x=\"140.25\" y=\"-163.8\" font-family=\"Helvetica,sans-Serif\" font-size=\"14.00\">X</text>\n",
       "<text text-anchor=\"start\" x=\"149.59\" y=\"-163.8\" font-family=\"Helvetica,sans-Serif\" baseline-shift=\"sub\" font-size=\"14.00\">0</text>\n",
       "<text text-anchor=\"start\" x=\"157.38\" y=\"-163.8\" font-family=\"Helvetica,sans-Serif\" font-size=\"14.00\"> ≤ 26.5</text>\n",
       "<text text-anchor=\"start\" x=\"133.78\" y=\"-149.8\" font-family=\"Helvetica,sans-Serif\" font-size=\"14.00\">gini = 0.444</text>\n",
       "<text text-anchor=\"start\" x=\"132.23\" y=\"-135.8\" font-family=\"Helvetica,sans-Serif\" font-size=\"14.00\">samples = 3</text>\n",
       "<text text-anchor=\"start\" x=\"129.89\" y=\"-121.8\" font-family=\"Helvetica,sans-Serif\" font-size=\"14.00\">value = [1, 2]</text>\n",
       "<text text-anchor=\"start\" x=\"132.36\" y=\"-107.8\" font-family=\"Helvetica,sans-Serif\" font-size=\"14.00\">class = YES</text>\n",
       "</g>\n",
       "<!-- 5&#45;&gt;7 -->\n",
       "<g id=\"edge7\" class=\"edge\">\n",
       "<title>5&#45;&gt;7</title>\n",
       "<path fill=\"none\" stroke=\"black\" d=\"M131.31,-213.77C135.82,-205.21 140.65,-196.03 145.33,-187.16\"/>\n",
       "<polygon fill=\"black\" stroke=\"black\" points=\"148.56,-188.54 150.12,-178.06 142.36,-185.27 148.56,-188.54\"/>\n",
       "</g>\n",
       "<!-- 8 -->\n",
       "<g id=\"node9\" class=\"node\">\n",
       "<title>8</title>\n",
       "<path fill=\"#399de5\" stroke=\"black\" d=\"M149.23,-64C149.23,-64 77.11,-64 77.11,-64 71.11,-64 65.11,-58 65.11,-52 65.11,-52 65.11,-12 65.11,-12 65.11,-6 71.11,0 77.11,0 77.11,0 149.23,0 149.23,0 155.23,0 161.23,-6 161.23,-12 161.23,-12 161.23,-52 161.23,-52 161.23,-58 155.23,-64 149.23,-64\"/>\n",
       "<text text-anchor=\"start\" x=\"84.57\" y=\"-48.8\" font-family=\"Helvetica,sans-Serif\" font-size=\"14.00\">gini = 0.0</text>\n",
       "<text text-anchor=\"start\" x=\"75.23\" y=\"-34.8\" font-family=\"Helvetica,sans-Serif\" font-size=\"14.00\">samples = 2</text>\n",
       "<text text-anchor=\"start\" x=\"72.89\" y=\"-20.8\" font-family=\"Helvetica,sans-Serif\" font-size=\"14.00\">value = [0, 2]</text>\n",
       "<text text-anchor=\"start\" x=\"75.36\" y=\"-6.8\" font-family=\"Helvetica,sans-Serif\" font-size=\"14.00\">class = YES</text>\n",
       "</g>\n",
       "<!-- 7&#45;&gt;8 -->\n",
       "<g id=\"edge8\" class=\"edge\">\n",
       "<title>7&#45;&gt;8</title>\n",
       "<path fill=\"none\" stroke=\"black\" d=\"M149.43,-99.8C144.71,-91.09 139.67,-81.82 134.91,-73.04\"/>\n",
       "<polygon fill=\"black\" stroke=\"black\" points=\"137.91,-71.24 130.06,-64.12 131.76,-74.58 137.91,-71.24\"/>\n",
       "</g>\n",
       "<!-- 9 -->\n",
       "<g id=\"node10\" class=\"node\">\n",
       "<title>9</title>\n",
       "<path fill=\"#e58139\" stroke=\"black\" d=\"M264.23,-64C264.23,-64 192.11,-64 192.11,-64 186.11,-64 180.11,-58 180.11,-52 180.11,-52 180.11,-12 180.11,-12 180.11,-6 186.11,0 192.11,0 192.11,0 264.23,0 264.23,0 270.23,0 276.23,-6 276.23,-12 276.23,-12 276.23,-52 276.23,-52 276.23,-58 270.23,-64 264.23,-64\"/>\n",
       "<text text-anchor=\"start\" x=\"199.57\" y=\"-48.8\" font-family=\"Helvetica,sans-Serif\" font-size=\"14.00\">gini = 0.0</text>\n",
       "<text text-anchor=\"start\" x=\"190.23\" y=\"-34.8\" font-family=\"Helvetica,sans-Serif\" font-size=\"14.00\">samples = 1</text>\n",
       "<text text-anchor=\"start\" x=\"187.89\" y=\"-20.8\" font-family=\"Helvetica,sans-Serif\" font-size=\"14.00\">value = [1, 0]</text>\n",
       "<text text-anchor=\"start\" x=\"193.74\" y=\"-6.8\" font-family=\"Helvetica,sans-Serif\" font-size=\"14.00\">class = NO</text>\n",
       "</g>\n",
       "<!-- 7&#45;&gt;9 -->\n",
       "<g id=\"edge9\" class=\"edge\">\n",
       "<title>7&#45;&gt;9</title>\n",
       "<path fill=\"none\" stroke=\"black\" d=\"M191.27,-99.8C196.08,-91.09 201.2,-81.82 206.05,-73.04\"/>\n",
       "<polygon fill=\"black\" stroke=\"black\" points=\"209.21,-74.56 210.98,-64.12 203.08,-71.18 209.21,-74.56\"/>\n",
       "</g>\n",
       "<!-- 12 -->\n",
       "<g id=\"node13\" class=\"node\">\n",
       "<title>12</title>\n",
       "<path fill=\"#f2c09c\" stroke=\"black\" d=\"M386.23,-406C386.23,-406 314.11,-406 314.11,-406 308.11,-406 302.11,-400 302.11,-394 302.11,-394 302.11,-340 302.11,-340 302.11,-334 308.11,-328 314.11,-328 314.11,-328 386.23,-328 386.23,-328 392.23,-328 398.23,-334 398.23,-340 398.23,-340 398.23,-394 398.23,-394 398.23,-400 392.23,-406 386.23,-406\"/>\n",
       "<text text-anchor=\"start\" x=\"320.25\" y=\"-391.8\" font-family=\"Helvetica,sans-Serif\" font-size=\"14.00\">X</text>\n",
       "<text text-anchor=\"start\" x=\"329.59\" y=\"-391.8\" font-family=\"Helvetica,sans-Serif\" baseline-shift=\"sub\" font-size=\"14.00\">0</text>\n",
       "<text text-anchor=\"start\" x=\"337.38\" y=\"-391.8\" font-family=\"Helvetica,sans-Serif\" font-size=\"14.00\"> ≤ 37.5</text>\n",
       "<text text-anchor=\"start\" x=\"313.78\" y=\"-377.8\" font-family=\"Helvetica,sans-Serif\" font-size=\"14.00\">gini = 0.444</text>\n",
       "<text text-anchor=\"start\" x=\"312.23\" y=\"-363.8\" font-family=\"Helvetica,sans-Serif\" font-size=\"14.00\">samples = 3</text>\n",
       "<text text-anchor=\"start\" x=\"309.89\" y=\"-349.8\" font-family=\"Helvetica,sans-Serif\" font-size=\"14.00\">value = [2, 1]</text>\n",
       "<text text-anchor=\"start\" x=\"315.74\" y=\"-335.8\" font-family=\"Helvetica,sans-Serif\" font-size=\"14.00\">class = NO</text>\n",
       "</g>\n",
       "<!-- 11&#45;&gt;12 -->\n",
       "<g id=\"edge12\" class=\"edge\">\n",
       "<title>11&#45;&gt;12</title>\n",
       "<path fill=\"none\" stroke=\"black\" d=\"M350.83,-441.77C350.76,-433.57 350.68,-424.8 350.6,-416.28\"/>\n",
       "<polygon fill=\"black\" stroke=\"black\" points=\"354.1,-416.03 350.51,-406.06 347.1,-416.09 354.1,-416.03\"/>\n",
       "</g>\n",
       "<!-- 15 -->\n",
       "<g id=\"node16\" class=\"node\">\n",
       "<title>15</title>\n",
       "<path fill=\"#e58139\" stroke=\"black\" d=\"M508.51,-399C508.51,-399 427.83,-399 427.83,-399 421.83,-399 415.83,-393 415.83,-387 415.83,-387 415.83,-347 415.83,-347 415.83,-341 421.83,-335 427.83,-335 427.83,-335 508.51,-335 508.51,-335 514.51,-335 520.51,-341 520.51,-347 520.51,-347 520.51,-387 520.51,-387 520.51,-393 514.51,-399 508.51,-399\"/>\n",
       "<text text-anchor=\"start\" x=\"439.57\" y=\"-383.8\" font-family=\"Helvetica,sans-Serif\" font-size=\"14.00\">gini = 0.0</text>\n",
       "<text text-anchor=\"start\" x=\"426.34\" y=\"-369.8\" font-family=\"Helvetica,sans-Serif\" font-size=\"14.00\">samples = 95</text>\n",
       "<text text-anchor=\"start\" x=\"424\" y=\"-355.8\" font-family=\"Helvetica,sans-Serif\" font-size=\"14.00\">value = [95, 0]</text>\n",
       "<text text-anchor=\"start\" x=\"433.74\" y=\"-341.8\" font-family=\"Helvetica,sans-Serif\" font-size=\"14.00\">class = NO</text>\n",
       "</g>\n",
       "<!-- 11&#45;&gt;15 -->\n",
       "<g id=\"edge15\" class=\"edge\">\n",
       "<title>11&#45;&gt;15</title>\n",
       "<path fill=\"none\" stroke=\"black\" d=\"M391.11,-441.77C403.17,-430.22 416.4,-417.55 428.45,-406.02\"/>\n",
       "<polygon fill=\"black\" stroke=\"black\" points=\"430.97,-408.45 435.78,-399.01 426.13,-403.4 430.97,-408.45\"/>\n",
       "</g>\n",
       "<!-- 13 -->\n",
       "<g id=\"node14\" class=\"node\">\n",
       "<title>13</title>\n",
       "<path fill=\"#399de5\" stroke=\"black\" d=\"M385.23,-285C385.23,-285 313.11,-285 313.11,-285 307.11,-285 301.11,-279 301.11,-273 301.11,-273 301.11,-233 301.11,-233 301.11,-227 307.11,-221 313.11,-221 313.11,-221 385.23,-221 385.23,-221 391.23,-221 397.23,-227 397.23,-233 397.23,-233 397.23,-273 397.23,-273 397.23,-279 391.23,-285 385.23,-285\"/>\n",
       "<text text-anchor=\"start\" x=\"320.57\" y=\"-269.8\" font-family=\"Helvetica,sans-Serif\" font-size=\"14.00\">gini = 0.0</text>\n",
       "<text text-anchor=\"start\" x=\"311.23\" y=\"-255.8\" font-family=\"Helvetica,sans-Serif\" font-size=\"14.00\">samples = 1</text>\n",
       "<text text-anchor=\"start\" x=\"308.89\" y=\"-241.8\" font-family=\"Helvetica,sans-Serif\" font-size=\"14.00\">value = [0, 1]</text>\n",
       "<text text-anchor=\"start\" x=\"311.36\" y=\"-227.8\" font-family=\"Helvetica,sans-Serif\" font-size=\"14.00\">class = YES</text>\n",
       "</g>\n",
       "<!-- 12&#45;&gt;13 -->\n",
       "<g id=\"edge13\" class=\"edge\">\n",
       "<title>12&#45;&gt;13</title>\n",
       "<path fill=\"none\" stroke=\"black\" d=\"M349.83,-327.77C349.74,-317.31 349.63,-305.94 349.54,-295.32\"/>\n",
       "<polygon fill=\"black\" stroke=\"black\" points=\"353.04,-294.98 349.45,-285.01 346.04,-295.04 353.04,-294.98\"/>\n",
       "</g>\n",
       "<!-- 14 -->\n",
       "<g id=\"node15\" class=\"node\">\n",
       "<title>14</title>\n",
       "<path fill=\"#e58139\" stroke=\"black\" d=\"M500.23,-285C500.23,-285 428.11,-285 428.11,-285 422.11,-285 416.11,-279 416.11,-273 416.11,-273 416.11,-233 416.11,-233 416.11,-227 422.11,-221 428.11,-221 428.11,-221 500.23,-221 500.23,-221 506.23,-221 512.23,-227 512.23,-233 512.23,-233 512.23,-273 512.23,-273 512.23,-279 506.23,-285 500.23,-285\"/>\n",
       "<text text-anchor=\"start\" x=\"435.57\" y=\"-269.8\" font-family=\"Helvetica,sans-Serif\" font-size=\"14.00\">gini = 0.0</text>\n",
       "<text text-anchor=\"start\" x=\"426.23\" y=\"-255.8\" font-family=\"Helvetica,sans-Serif\" font-size=\"14.00\">samples = 2</text>\n",
       "<text text-anchor=\"start\" x=\"423.89\" y=\"-241.8\" font-family=\"Helvetica,sans-Serif\" font-size=\"14.00\">value = [2, 0]</text>\n",
       "<text text-anchor=\"start\" x=\"429.74\" y=\"-227.8\" font-family=\"Helvetica,sans-Serif\" font-size=\"14.00\">class = NO</text>\n",
       "</g>\n",
       "<!-- 12&#45;&gt;14 -->\n",
       "<g id=\"edge14\" class=\"edge\">\n",
       "<title>12&#45;&gt;14</title>\n",
       "<path fill=\"none\" stroke=\"black\" d=\"M389.08,-327.77C400.84,-316.22 413.73,-303.55 425.47,-292.02\"/>\n",
       "<polygon fill=\"black\" stroke=\"black\" points=\"427.93,-294.51 432.61,-285.01 423.02,-289.52 427.93,-294.51\"/>\n",
       "</g>\n",
       "<!-- 17 -->\n",
       "<g id=\"node18\" class=\"node\">\n",
       "<title>17</title>\n",
       "<path fill=\"#399de5\" stroke=\"black\" d=\"M527.3,-513C527.3,-513 439.04,-513 439.04,-513 433.04,-513 427.04,-507 427.04,-501 427.04,-501 427.04,-461 427.04,-461 427.04,-455 433.04,-449 439.04,-449 439.04,-449 527.3,-449 527.3,-449 533.3,-449 539.3,-455 539.3,-461 539.3,-461 539.3,-501 539.3,-501 539.3,-507 533.3,-513 527.3,-513\"/>\n",
       "<text text-anchor=\"start\" x=\"454.57\" y=\"-497.8\" font-family=\"Helvetica,sans-Serif\" font-size=\"14.00\">gini = 0.0</text>\n",
       "<text text-anchor=\"start\" x=\"437.45\" y=\"-483.8\" font-family=\"Helvetica,sans-Serif\" font-size=\"14.00\">samples = 158</text>\n",
       "<text text-anchor=\"start\" x=\"435.11\" y=\"-469.8\" font-family=\"Helvetica,sans-Serif\" font-size=\"14.00\">value = [0, 158]</text>\n",
       "<text text-anchor=\"start\" x=\"445.36\" y=\"-455.8\" font-family=\"Helvetica,sans-Serif\" font-size=\"14.00\">class = YES</text>\n",
       "</g>\n",
       "<!-- 16&#45;&gt;17 -->\n",
       "<g id=\"edge17\" class=\"edge\">\n",
       "<title>16&#45;&gt;17</title>\n",
       "<path fill=\"none\" stroke=\"black\" d=\"M485.15,-555.77C484.87,-545.31 484.56,-533.94 484.28,-523.32\"/>\n",
       "<polygon fill=\"black\" stroke=\"black\" points=\"487.77,-522.91 484,-513.01 480.77,-523.1 487.77,-522.91\"/>\n",
       "</g>\n",
       "<!-- 18 -->\n",
       "<g id=\"node19\" class=\"node\">\n",
       "<title>18</title>\n",
       "<path fill=\"#f6fbfe\" stroke=\"black\" d=\"M657.3,-520C657.3,-520 569.04,-520 569.04,-520 563.04,-520 557.04,-514 557.04,-508 557.04,-508 557.04,-454 557.04,-454 557.04,-448 563.04,-442 569.04,-442 569.04,-442 657.3,-442 657.3,-442 663.3,-442 669.3,-448 669.3,-454 669.3,-454 669.3,-508 669.3,-508 669.3,-514 663.3,-520 657.3,-520\"/>\n",
       "<text text-anchor=\"start\" x=\"579.36\" y=\"-505.8\" font-family=\"Helvetica,sans-Serif\" font-size=\"14.00\">X</text>\n",
       "<text text-anchor=\"start\" x=\"588.7\" y=\"-505.8\" font-family=\"Helvetica,sans-Serif\" baseline-shift=\"sub\" font-size=\"14.00\">3</text>\n",
       "<text text-anchor=\"start\" x=\"596.48\" y=\"-505.8\" font-family=\"Helvetica,sans-Serif\" font-size=\"14.00\"> ≤ 140.5</text>\n",
       "<text text-anchor=\"start\" x=\"584.57\" y=\"-491.8\" font-family=\"Helvetica,sans-Serif\" font-size=\"14.00\">gini = 0.5</text>\n",
       "<text text-anchor=\"start\" x=\"571.34\" y=\"-477.8\" font-family=\"Helvetica,sans-Serif\" font-size=\"14.00\">samples = 45</text>\n",
       "<text text-anchor=\"start\" x=\"565.11\" y=\"-463.8\" font-family=\"Helvetica,sans-Serif\" font-size=\"14.00\">value = [22, 23]</text>\n",
       "<text text-anchor=\"start\" x=\"575.36\" y=\"-449.8\" font-family=\"Helvetica,sans-Serif\" font-size=\"14.00\">class = YES</text>\n",
       "</g>\n",
       "<!-- 16&#45;&gt;18 -->\n",
       "<g id=\"edge18\" class=\"edge\">\n",
       "<title>16&#45;&gt;18</title>\n",
       "<path fill=\"none\" stroke=\"black\" d=\"M529.52,-555.77C540.05,-546.49 551.39,-536.48 562.23,-526.92\"/>\n",
       "<polygon fill=\"black\" stroke=\"black\" points=\"564.83,-529.3 570.01,-520.06 560.2,-524.05 564.83,-529.3\"/>\n",
       "</g>\n",
       "<!-- 19 -->\n",
       "<g id=\"node20\" class=\"node\">\n",
       "<title>19</title>\n",
       "<path fill=\"#e58139\" stroke=\"black\" d=\"M642.51,-399C642.51,-399 561.83,-399 561.83,-399 555.83,-399 549.83,-393 549.83,-387 549.83,-387 549.83,-347 549.83,-347 549.83,-341 555.83,-335 561.83,-335 561.83,-335 642.51,-335 642.51,-335 648.51,-335 654.51,-341 654.51,-347 654.51,-347 654.51,-387 654.51,-387 654.51,-393 648.51,-399 642.51,-399\"/>\n",
       "<text text-anchor=\"start\" x=\"573.57\" y=\"-383.8\" font-family=\"Helvetica,sans-Serif\" font-size=\"14.00\">gini = 0.0</text>\n",
       "<text text-anchor=\"start\" x=\"560.34\" y=\"-369.8\" font-family=\"Helvetica,sans-Serif\" font-size=\"14.00\">samples = 22</text>\n",
       "<text text-anchor=\"start\" x=\"558\" y=\"-355.8\" font-family=\"Helvetica,sans-Serif\" font-size=\"14.00\">value = [22, 0]</text>\n",
       "<text text-anchor=\"start\" x=\"567.74\" y=\"-341.8\" font-family=\"Helvetica,sans-Serif\" font-size=\"14.00\">class = NO</text>\n",
       "</g>\n",
       "<!-- 18&#45;&gt;19 -->\n",
       "<g id=\"edge19\" class=\"edge\">\n",
       "<title>18&#45;&gt;19</title>\n",
       "<path fill=\"none\" stroke=\"black\" d=\"M609.42,-441.77C608.38,-431.2 607.25,-419.7 606.2,-408.98\"/>\n",
       "<polygon fill=\"black\" stroke=\"black\" points=\"609.68,-408.62 605.22,-399.01 602.71,-409.3 609.68,-408.62\"/>\n",
       "</g>\n",
       "<!-- 20 -->\n",
       "<g id=\"node21\" class=\"node\">\n",
       "<title>20</title>\n",
       "<path fill=\"#399de5\" stroke=\"black\" d=\"M764.51,-399C764.51,-399 683.83,-399 683.83,-399 677.83,-399 671.83,-393 671.83,-387 671.83,-387 671.83,-347 671.83,-347 671.83,-341 677.83,-335 683.83,-335 683.83,-335 764.51,-335 764.51,-335 770.51,-335 776.51,-341 776.51,-347 776.51,-347 776.51,-387 776.51,-387 776.51,-393 770.51,-399 764.51,-399\"/>\n",
       "<text text-anchor=\"start\" x=\"695.57\" y=\"-383.8\" font-family=\"Helvetica,sans-Serif\" font-size=\"14.00\">gini = 0.0</text>\n",
       "<text text-anchor=\"start\" x=\"682.34\" y=\"-369.8\" font-family=\"Helvetica,sans-Serif\" font-size=\"14.00\">samples = 23</text>\n",
       "<text text-anchor=\"start\" x=\"680\" y=\"-355.8\" font-family=\"Helvetica,sans-Serif\" font-size=\"14.00\">value = [0, 23]</text>\n",
       "<text text-anchor=\"start\" x=\"686.36\" y=\"-341.8\" font-family=\"Helvetica,sans-Serif\" font-size=\"14.00\">class = YES</text>\n",
       "</g>\n",
       "<!-- 18&#45;&gt;20 -->\n",
       "<g id=\"edge20\" class=\"edge\">\n",
       "<title>18&#45;&gt;20</title>\n",
       "<path fill=\"none\" stroke=\"black\" d=\"M651.06,-441.77C662.39,-430.33 674.82,-417.79 686.16,-406.35\"/>\n",
       "<polygon fill=\"black\" stroke=\"black\" points=\"688.88,-408.58 693.44,-399.01 683.91,-403.65 688.88,-408.58\"/>\n",
       "</g>\n",
       "</g>\n",
       "</svg>\n"
      ],
      "text/plain": [
       "<graphviz.files.Source at 0x7fe032905410>"
      ]
     },
     "execution_count": 97,
     "metadata": {},
     "output_type": "execute_result"
    }
   ],
   "source": [
    "# As before, but make the model name gini_model\n",
    "dot_data = tree.export_graphviz(gini_model, out_file=None)\n",
    "graph = graphviz.Source(dot_data)\n",
    "graph.render('gini-coffee')\n",
    "\n",
    "# Alternatively for class_names use gini_model.classes_\n",
    "dot_data = tree.export_graphviz(gini_model, out_file=None, \n",
    "                        \n",
    "                      class_names=gini_model.classes_,  \n",
    "                      filled=True, rounded=True,  \n",
    "                      special_characters=True)  \n",
    "graph = graphviz.Source(dot_data)  \n",
    "graph "
   ]
  },
  {
   "cell_type": "code",
   "execution_count": 85,
   "metadata": {
    "colab": {},
    "colab_type": "code",
    "id": "T0RadBy0DuWp"
   },
   "outputs": [
    {
     "name": "stdout",
     "output_type": "stream",
     "text": [
      "Model Gini impurity model\n",
      "Accuracy: 0.9831932773109243\n",
      "Balanced accuracy: 0.9813946216385241\n",
      "Precision score 0.9871794871794872\n",
      "Recall score 0.975609756097561\n"
     ]
    }
   ],
   "source": [
    "# Run this block for model evaluation\n",
    "print(\"Model Gini impurity model\")\n",
    "print(\"Accuracy:\", metrics.accuracy_score(y_test,y_pred2))\n",
    "print(\"Balanced accuracy:\", metrics.balanced_accuracy_score(y_test,y_pred2))\n",
    "print('Precision score' , metrics.precision_score(y_test,y_pred2, pos_label = \"YES\"))\n",
    "print('Recall score' , metrics.recall_score(y_test,y_pred2, pos_label = \"NO\"))"
   ]
  },
  {
   "cell_type": "markdown",
   "metadata": {
    "colab_type": "text",
    "id": "LR5LkC_yDuWs"
   },
   "source": [
    "How do the results here compare to the previous model? Write your judgments here: \n",
    "\n",
    "No change"
   ]
  },
  {
   "cell_type": "markdown",
   "metadata": {
    "colab_type": "text",
    "id": "3PctBjTADuWs"
   },
   "source": [
    "## Model 3: Entropy model - max depth 3\n",
    "We're going to try to limit the depth of our decision tree, using entropy first.  \n",
    "\n",
    "As you know, we need to strike a balance with tree depth. \n",
    "\n",
    "Insufficiently deep, and we're not giving the tree the opportunity to spot the right patterns in the training data.\n",
    "\n",
    "Excessively deep, and we're probably going to make a tree that overfits to the training data, at the cost of very high error on the (hitherto unseen) test data. \n",
    "\n",
    "Sophisticated data scientists use methods like random search with cross-validation to systematically find a good depth for their tree. We'll start with picking 3, and see how that goes. "
   ]
  },
  {
   "cell_type": "code",
   "execution_count": 92,
   "metadata": {
    "colab": {},
    "colab_type": "code",
    "id": "cMiPjWClDuWt"
   },
   "outputs": [
    {
     "data": {
      "text/plain": [
       "DecisionTreeClassifier(max_depth=3, random_state=76)"
      ]
     },
     "execution_count": 92,
     "metadata": {},
     "output_type": "execute_result"
    }
   ],
   "source": [
    "# Made a model as before, but call it entr_model2, and make the max_depth parameter equal to 3. \n",
    "# Execute the fitting, predicting, and Series operations as before\n",
    "entr_model2 = tree.DecisionTreeClassifier(max_depth=3, random_state = 76)\n",
    "\n",
    "# Call fit() on entr_model\n",
    "entr_model2.fit(X_train, y_train)\n",
    "\n",
    "# Call predict() on entr_model with X_test passed to it, and assign the result to a variable y_pred \n",
    "y_pred = entr_model2.predict(X_test)\n",
    "\n",
    "# Call Series on our y_pred variable with the following: pd.Series(y_pred)\n",
    "y_pred = pd.Series(y_pred)\n",
    "\n",
    "# Check out entr_model\n",
    "entr_model2"
   ]
  },
  {
   "cell_type": "code",
   "execution_count": 90,
   "metadata": {
    "colab": {},
    "colab_type": "code",
    "id": "IRuw72VMDuWv"
   },
   "outputs": [
    {
     "data": {
      "image/svg+xml": [
       "<?xml version=\"1.0\" encoding=\"UTF-8\" standalone=\"no\"?>\n",
       "<!DOCTYPE svg PUBLIC \"-//W3C//DTD SVG 1.1//EN\"\n",
       " \"http://www.w3.org/Graphics/SVG/1.1/DTD/svg11.dtd\">\n",
       "<!-- Generated by graphviz version 2.42.3 (20191010.1750)\n",
       " -->\n",
       "<!-- Title: Tree Pages: 1 -->\n",
       "<svg width=\"722pt\" height=\"414pt\"\n",
       " viewBox=\"0.00 0.00 722.45 414.00\" xmlns=\"http://www.w3.org/2000/svg\" xmlns:xlink=\"http://www.w3.org/1999/xlink\">\n",
       "<g id=\"graph0\" class=\"graph\" transform=\"scale(1 1) rotate(0) translate(4 410)\">\n",
       "<title>Tree</title>\n",
       "<polygon fill=\"white\" stroke=\"transparent\" points=\"-4,4 -4,-410 718.45,-410 718.45,4 -4,4\"/>\n",
       "<!-- 0 -->\n",
       "<g id=\"node1\" class=\"node\">\n",
       "<title>0</title>\n",
       "<path fill=\"#abd6f4\" stroke=\"black\" d=\"M407.98,-406C407.98,-406 304.58,-406 304.58,-406 298.58,-406 292.58,-400 292.58,-394 292.58,-394 292.58,-340 292.58,-340 292.58,-334 298.58,-328 304.58,-328 304.58,-328 407.98,-328 407.98,-328 413.98,-328 419.98,-334 419.98,-340 419.98,-340 419.98,-394 419.98,-394 419.98,-400 413.98,-406 407.98,-406\"/>\n",
       "<text text-anchor=\"start\" x=\"322.47\" y=\"-391.8\" font-family=\"Helvetica,sans-Serif\" font-size=\"14.00\">X</text>\n",
       "<text text-anchor=\"start\" x=\"331.8\" y=\"-391.8\" font-family=\"Helvetica,sans-Serif\" baseline-shift=\"sub\" font-size=\"14.00\">3</text>\n",
       "<text text-anchor=\"start\" x=\"339.59\" y=\"-391.8\" font-family=\"Helvetica,sans-Serif\" font-size=\"14.00\"> ≤ 100.5</text>\n",
       "<text text-anchor=\"start\" x=\"319.89\" y=\"-377.8\" font-family=\"Helvetica,sans-Serif\" font-size=\"14.00\">gini = 0.464</text>\n",
       "<text text-anchor=\"start\" x=\"310.56\" y=\"-363.8\" font-family=\"Helvetica,sans-Serif\" font-size=\"14.00\">samples = 355</text>\n",
       "<text text-anchor=\"start\" x=\"300.43\" y=\"-349.8\" font-family=\"Helvetica,sans-Serif\" font-size=\"14.00\">value = [130, 225]</text>\n",
       "<text text-anchor=\"start\" x=\"318.47\" y=\"-335.8\" font-family=\"Helvetica,sans-Serif\" font-size=\"14.00\">class = YES</text>\n",
       "</g>\n",
       "<!-- 1 -->\n",
       "<g id=\"node2\" class=\"node\">\n",
       "<title>1</title>\n",
       "<path fill=\"#f0b48a\" stroke=\"black\" d=\"M335.19,-292C335.19,-292 239.36,-292 239.36,-292 233.36,-292 227.36,-286 227.36,-280 227.36,-280 227.36,-226 227.36,-226 227.36,-220 233.36,-214 239.36,-214 239.36,-214 335.19,-214 335.19,-214 341.19,-214 347.19,-220 347.19,-226 347.19,-226 347.19,-280 347.19,-280 347.19,-286 341.19,-292 335.19,-292\"/>\n",
       "<text text-anchor=\"start\" x=\"253.47\" y=\"-277.8\" font-family=\"Helvetica,sans-Serif\" font-size=\"14.00\">X</text>\n",
       "<text text-anchor=\"start\" x=\"262.8\" y=\"-277.8\" font-family=\"Helvetica,sans-Serif\" baseline-shift=\"sub\" font-size=\"14.00\">5</text>\n",
       "<text text-anchor=\"start\" x=\"270.59\" y=\"-277.8\" font-family=\"Helvetica,sans-Serif\" font-size=\"14.00\"> ≤ 3.754</text>\n",
       "<text text-anchor=\"start\" x=\"251.4\" y=\"-263.8\" font-family=\"Helvetica,sans-Serif\" font-size=\"14.00\">gini = 0.411</text>\n",
       "<text text-anchor=\"start\" x=\"241.56\" y=\"-249.8\" font-family=\"Helvetica,sans-Serif\" font-size=\"14.00\">samples = 152</text>\n",
       "<text text-anchor=\"start\" x=\"235.32\" y=\"-235.8\" font-family=\"Helvetica,sans-Serif\" font-size=\"14.00\">value = [108, 44]</text>\n",
       "<text text-anchor=\"start\" x=\"252.85\" y=\"-221.8\" font-family=\"Helvetica,sans-Serif\" font-size=\"14.00\">class = NO</text>\n",
       "</g>\n",
       "<!-- 0&#45;&gt;1 -->\n",
       "<g id=\"edge1\" class=\"edge\">\n",
       "<title>0&#45;&gt;1</title>\n",
       "<path fill=\"none\" stroke=\"black\" d=\"M332.72,-327.77C327.34,-319.03 321.56,-309.64 315.98,-300.6\"/>\n",
       "<polygon fill=\"black\" stroke=\"black\" points=\"318.95,-298.74 310.72,-292.06 312.99,-302.41 318.95,-298.74\"/>\n",
       "<text text-anchor=\"middle\" x=\"304.95\" y=\"-312.18\" font-family=\"Helvetica,sans-Serif\" font-size=\"14.00\">True</text>\n",
       "</g>\n",
       "<!-- 8 -->\n",
       "<g id=\"node9\" class=\"node\">\n",
       "<title>8</title>\n",
       "<path fill=\"#51a9e8\" stroke=\"black\" d=\"M473.19,-292C473.19,-292 377.36,-292 377.36,-292 371.36,-292 365.36,-286 365.36,-280 365.36,-280 365.36,-226 365.36,-226 365.36,-220 371.36,-214 377.36,-214 377.36,-214 473.19,-214 473.19,-214 479.19,-214 485.19,-220 485.19,-226 485.19,-226 485.19,-280 485.19,-280 485.19,-286 479.19,-292 473.19,-292\"/>\n",
       "<text text-anchor=\"start\" x=\"391.47\" y=\"-277.8\" font-family=\"Helvetica,sans-Serif\" font-size=\"14.00\">X</text>\n",
       "<text text-anchor=\"start\" x=\"400.8\" y=\"-277.8\" font-family=\"Helvetica,sans-Serif\" baseline-shift=\"sub\" font-size=\"14.00\">5</text>\n",
       "<text text-anchor=\"start\" x=\"408.59\" y=\"-277.8\" font-family=\"Helvetica,sans-Serif\" font-size=\"14.00\"> ≤ 8.047</text>\n",
       "<text text-anchor=\"start\" x=\"388.89\" y=\"-263.8\" font-family=\"Helvetica,sans-Serif\" font-size=\"14.00\">gini = 0.193</text>\n",
       "<text text-anchor=\"start\" x=\"379.56\" y=\"-249.8\" font-family=\"Helvetica,sans-Serif\" font-size=\"14.00\">samples = 203</text>\n",
       "<text text-anchor=\"start\" x=\"373.32\" y=\"-235.8\" font-family=\"Helvetica,sans-Serif\" font-size=\"14.00\">value = [22, 181]</text>\n",
       "<text text-anchor=\"start\" x=\"387.47\" y=\"-221.8\" font-family=\"Helvetica,sans-Serif\" font-size=\"14.00\">class = YES</text>\n",
       "</g>\n",
       "<!-- 0&#45;&gt;8 -->\n",
       "<g id=\"edge8\" class=\"edge\">\n",
       "<title>0&#45;&gt;8</title>\n",
       "<path fill=\"none\" stroke=\"black\" d=\"M379.83,-327.77C385.21,-319.03 391,-309.64 396.57,-300.6\"/>\n",
       "<polygon fill=\"black\" stroke=\"black\" points=\"399.57,-302.41 401.83,-292.06 393.61,-298.74 399.57,-302.41\"/>\n",
       "<text text-anchor=\"middle\" x=\"407.61\" y=\"-312.18\" font-family=\"Helvetica,sans-Serif\" font-size=\"14.00\">False</text>\n",
       "</g>\n",
       "<!-- 2 -->\n",
       "<g id=\"node3\" class=\"node\">\n",
       "<title>2</title>\n",
       "<path fill=\"#6cb6ec\" stroke=\"black\" d=\"M207.87,-178C207.87,-178 120.68,-178 120.68,-178 114.68,-178 108.68,-172 108.68,-166 108.68,-166 108.68,-112 108.68,-112 108.68,-106 114.68,-100 120.68,-100 120.68,-100 207.87,-100 207.87,-100 213.87,-100 219.87,-106 219.87,-112 219.87,-112 219.87,-166 219.87,-166 219.87,-172 213.87,-178 207.87,-178\"/>\n",
       "<text text-anchor=\"start\" x=\"134.36\" y=\"-163.8\" font-family=\"Helvetica,sans-Serif\" font-size=\"14.00\">X</text>\n",
       "<text text-anchor=\"start\" x=\"143.7\" y=\"-163.8\" font-family=\"Helvetica,sans-Serif\" baseline-shift=\"sub\" font-size=\"14.00\">3</text>\n",
       "<text text-anchor=\"start\" x=\"151.48\" y=\"-163.8\" font-family=\"Helvetica,sans-Serif\" font-size=\"14.00\"> ≤ 24.5</text>\n",
       "<text text-anchor=\"start\" x=\"127.89\" y=\"-149.8\" font-family=\"Helvetica,sans-Serif\" font-size=\"14.00\">gini = 0.324</text>\n",
       "<text text-anchor=\"start\" x=\"122.45\" y=\"-135.8\" font-family=\"Helvetica,sans-Serif\" font-size=\"14.00\">samples = 54</text>\n",
       "<text text-anchor=\"start\" x=\"116.73\" y=\"-121.8\" font-family=\"Helvetica,sans-Serif\" font-size=\"14.00\">value = [11, 43]</text>\n",
       "<text text-anchor=\"start\" x=\"126.47\" y=\"-107.8\" font-family=\"Helvetica,sans-Serif\" font-size=\"14.00\">class = YES</text>\n",
       "</g>\n",
       "<!-- 1&#45;&gt;2 -->\n",
       "<g id=\"edge2\" class=\"edge\">\n",
       "<title>1&#45;&gt;2</title>\n",
       "<path fill=\"none\" stroke=\"black\" d=\"M245.29,-213.77C235.1,-204.49 224.11,-194.48 213.61,-184.92\"/>\n",
       "<polygon fill=\"black\" stroke=\"black\" points=\"215.82,-182.2 206.07,-178.06 211.11,-187.38 215.82,-182.2\"/>\n",
       "</g>\n",
       "<!-- 5 -->\n",
       "<g id=\"node6\" class=\"node\">\n",
       "<title>5</title>\n",
       "<path fill=\"#e5823b\" stroke=\"black\" d=\"M330.62,-178C330.62,-178 249.94,-178 249.94,-178 243.94,-178 237.94,-172 237.94,-166 237.94,-166 237.94,-112 237.94,-112 237.94,-106 243.94,-100 249.94,-100 249.94,-100 330.62,-100 330.62,-100 336.62,-100 342.62,-106 342.62,-112 342.62,-112 342.62,-166 342.62,-166 342.62,-172 336.62,-178 330.62,-178\"/>\n",
       "<text text-anchor=\"start\" x=\"264.25\" y=\"-163.8\" font-family=\"Helvetica,sans-Serif\" font-size=\"14.00\">X</text>\n",
       "<text text-anchor=\"start\" x=\"273.59\" y=\"-163.8\" font-family=\"Helvetica,sans-Serif\" baseline-shift=\"sub\" font-size=\"14.00\">5</text>\n",
       "<text text-anchor=\"start\" x=\"281.38\" y=\"-163.8\" font-family=\"Helvetica,sans-Serif\" font-size=\"14.00\"> ≤ 4.0</text>\n",
       "<text text-anchor=\"start\" x=\"257.78\" y=\"-149.8\" font-family=\"Helvetica,sans-Serif\" font-size=\"14.00\">gini = 0.02</text>\n",
       "<text text-anchor=\"start\" x=\"248.45\" y=\"-135.8\" font-family=\"Helvetica,sans-Serif\" font-size=\"14.00\">samples = 98</text>\n",
       "<text text-anchor=\"start\" x=\"246.11\" y=\"-121.8\" font-family=\"Helvetica,sans-Serif\" font-size=\"14.00\">value = [97, 1]</text>\n",
       "<text text-anchor=\"start\" x=\"255.85\" y=\"-107.8\" font-family=\"Helvetica,sans-Serif\" font-size=\"14.00\">class = NO</text>\n",
       "</g>\n",
       "<!-- 1&#45;&gt;5 -->\n",
       "<g id=\"edge5\" class=\"edge\">\n",
       "<title>1&#45;&gt;5</title>\n",
       "<path fill=\"none\" stroke=\"black\" d=\"M288.3,-213.77C288.52,-205.57 288.76,-196.8 288.98,-188.28\"/>\n",
       "<polygon fill=\"black\" stroke=\"black\" points=\"292.49,-188.15 289.26,-178.06 285.49,-187.96 292.49,-188.15\"/>\n",
       "</g>\n",
       "<!-- 3 -->\n",
       "<g id=\"node4\" class=\"node\">\n",
       "<title>3</title>\n",
       "<path fill=\"#e58139\" stroke=\"black\" d=\"M84.33,-64C84.33,-64 12.22,-64 12.22,-64 6.22,-64 0.22,-58 0.22,-52 0.22,-52 0.22,-12 0.22,-12 0.22,-6 6.22,0 12.22,0 12.22,0 84.33,0 84.33,0 90.33,0 96.33,-6 96.33,-12 96.33,-12 96.33,-52 96.33,-52 96.33,-58 90.33,-64 84.33,-64\"/>\n",
       "<text text-anchor=\"start\" x=\"19.67\" y=\"-48.8\" font-family=\"Helvetica,sans-Serif\" font-size=\"14.00\">gini = 0.0</text>\n",
       "<text text-anchor=\"start\" x=\"10.34\" y=\"-34.8\" font-family=\"Helvetica,sans-Serif\" font-size=\"14.00\">samples = 8</text>\n",
       "<text text-anchor=\"start\" x=\"8\" y=\"-20.8\" font-family=\"Helvetica,sans-Serif\" font-size=\"14.00\">value = [8, 0]</text>\n",
       "<text text-anchor=\"start\" x=\"13.85\" y=\"-6.8\" font-family=\"Helvetica,sans-Serif\" font-size=\"14.00\">class = NO</text>\n",
       "</g>\n",
       "<!-- 2&#45;&gt;3 -->\n",
       "<g id=\"edge3\" class=\"edge\">\n",
       "<title>2&#45;&gt;3</title>\n",
       "<path fill=\"none\" stroke=\"black\" d=\"M122.07,-99.8C111.65,-90.36 100.48,-80.25 90.08,-70.84\"/>\n",
       "<polygon fill=\"black\" stroke=\"black\" points=\"92.42,-68.23 82.65,-64.12 87.72,-73.42 92.42,-68.23\"/>\n",
       "</g>\n",
       "<!-- 4 -->\n",
       "<g id=\"node5\" class=\"node\">\n",
       "<title>4</title>\n",
       "<path fill=\"#47a4e7\" stroke=\"black\" d=\"M206.62,-64C206.62,-64 125.94,-64 125.94,-64 119.94,-64 113.94,-58 113.94,-52 113.94,-52 113.94,-12 113.94,-12 113.94,-6 119.94,0 125.94,0 125.94,0 206.62,0 206.62,0 212.62,0 218.62,-6 218.62,-12 218.62,-12 218.62,-52 218.62,-52 218.62,-58 212.62,-64 206.62,-64\"/>\n",
       "<text text-anchor=\"start\" x=\"129.89\" y=\"-48.8\" font-family=\"Helvetica,sans-Serif\" font-size=\"14.00\">gini = 0.122</text>\n",
       "<text text-anchor=\"start\" x=\"124.45\" y=\"-34.8\" font-family=\"Helvetica,sans-Serif\" font-size=\"14.00\">samples = 46</text>\n",
       "<text text-anchor=\"start\" x=\"122.11\" y=\"-20.8\" font-family=\"Helvetica,sans-Serif\" font-size=\"14.00\">value = [3, 43]</text>\n",
       "<text text-anchor=\"start\" x=\"128.47\" y=\"-6.8\" font-family=\"Helvetica,sans-Serif\" font-size=\"14.00\">class = YES</text>\n",
       "</g>\n",
       "<!-- 2&#45;&gt;4 -->\n",
       "<g id=\"edge4\" class=\"edge\">\n",
       "<title>2&#45;&gt;4</title>\n",
       "<path fill=\"none\" stroke=\"black\" d=\"M165.01,-99.8C165.16,-91.46 165.33,-82.6 165.49,-74.15\"/>\n",
       "<polygon fill=\"black\" stroke=\"black\" points=\"168.99,-74.18 165.68,-64.12 161.99,-74.05 168.99,-74.18\"/>\n",
       "</g>\n",
       "<!-- 6 -->\n",
       "<g id=\"node7\" class=\"node\">\n",
       "<title>6</title>\n",
       "<path fill=\"#f2c09c\" stroke=\"black\" d=\"M324.33,-64C324.33,-64 252.22,-64 252.22,-64 246.22,-64 240.22,-58 240.22,-52 240.22,-52 240.22,-12 240.22,-12 240.22,-6 246.22,0 252.22,0 252.22,0 324.33,0 324.33,0 330.33,0 336.33,-6 336.33,-12 336.33,-12 336.33,-52 336.33,-52 336.33,-58 330.33,-64 324.33,-64\"/>\n",
       "<text text-anchor=\"start\" x=\"251.89\" y=\"-48.8\" font-family=\"Helvetica,sans-Serif\" font-size=\"14.00\">gini = 0.444</text>\n",
       "<text text-anchor=\"start\" x=\"250.34\" y=\"-34.8\" font-family=\"Helvetica,sans-Serif\" font-size=\"14.00\">samples = 3</text>\n",
       "<text text-anchor=\"start\" x=\"248\" y=\"-20.8\" font-family=\"Helvetica,sans-Serif\" font-size=\"14.00\">value = [2, 1]</text>\n",
       "<text text-anchor=\"start\" x=\"253.85\" y=\"-6.8\" font-family=\"Helvetica,sans-Serif\" font-size=\"14.00\">class = NO</text>\n",
       "</g>\n",
       "<!-- 5&#45;&gt;6 -->\n",
       "<g id=\"edge6\" class=\"edge\">\n",
       "<title>5&#45;&gt;6</title>\n",
       "<path fill=\"none\" stroke=\"black\" d=\"M289.55,-99.8C289.39,-91.46 289.22,-82.6 289.06,-74.15\"/>\n",
       "<polygon fill=\"black\" stroke=\"black\" points=\"292.56,-74.05 288.87,-64.12 285.56,-74.18 292.56,-74.05\"/>\n",
       "</g>\n",
       "<!-- 7 -->\n",
       "<g id=\"node8\" class=\"node\">\n",
       "<title>7</title>\n",
       "<path fill=\"#e58139\" stroke=\"black\" d=\"M446.62,-64C446.62,-64 365.94,-64 365.94,-64 359.94,-64 353.94,-58 353.94,-52 353.94,-52 353.94,-12 353.94,-12 353.94,-6 359.94,0 365.94,0 365.94,0 446.62,0 446.62,0 452.62,0 458.62,-6 458.62,-12 458.62,-12 458.62,-52 458.62,-52 458.62,-58 452.62,-64 446.62,-64\"/>\n",
       "<text text-anchor=\"start\" x=\"377.67\" y=\"-48.8\" font-family=\"Helvetica,sans-Serif\" font-size=\"14.00\">gini = 0.0</text>\n",
       "<text text-anchor=\"start\" x=\"364.45\" y=\"-34.8\" font-family=\"Helvetica,sans-Serif\" font-size=\"14.00\">samples = 95</text>\n",
       "<text text-anchor=\"start\" x=\"362.11\" y=\"-20.8\" font-family=\"Helvetica,sans-Serif\" font-size=\"14.00\">value = [95, 0]</text>\n",
       "<text text-anchor=\"start\" x=\"371.85\" y=\"-6.8\" font-family=\"Helvetica,sans-Serif\" font-size=\"14.00\">class = NO</text>\n",
       "</g>\n",
       "<!-- 5&#45;&gt;7 -->\n",
       "<g id=\"edge7\" class=\"edge\">\n",
       "<title>5&#45;&gt;7</title>\n",
       "<path fill=\"none\" stroke=\"black\" d=\"M332.48,-99.8C342.91,-90.36 354.07,-80.25 364.48,-70.84\"/>\n",
       "<polygon fill=\"black\" stroke=\"black\" points=\"366.84,-73.42 371.9,-64.12 362.14,-68.23 366.84,-73.42\"/>\n",
       "</g>\n",
       "<!-- 9 -->\n",
       "<g id=\"node10\" class=\"node\">\n",
       "<title>9</title>\n",
       "<path fill=\"#399de5\" stroke=\"black\" d=\"M466.4,-171C466.4,-171 378.15,-171 378.15,-171 372.15,-171 366.15,-165 366.15,-159 366.15,-159 366.15,-119 366.15,-119 366.15,-113 372.15,-107 378.15,-107 378.15,-107 466.4,-107 466.4,-107 472.4,-107 478.4,-113 478.4,-119 478.4,-119 478.4,-159 478.4,-159 478.4,-165 472.4,-171 466.4,-171\"/>\n",
       "<text text-anchor=\"start\" x=\"393.67\" y=\"-155.8\" font-family=\"Helvetica,sans-Serif\" font-size=\"14.00\">gini = 0.0</text>\n",
       "<text text-anchor=\"start\" x=\"376.56\" y=\"-141.8\" font-family=\"Helvetica,sans-Serif\" font-size=\"14.00\">samples = 158</text>\n",
       "<text text-anchor=\"start\" x=\"374.21\" y=\"-127.8\" font-family=\"Helvetica,sans-Serif\" font-size=\"14.00\">value = [0, 158]</text>\n",
       "<text text-anchor=\"start\" x=\"384.47\" y=\"-113.8\" font-family=\"Helvetica,sans-Serif\" font-size=\"14.00\">class = YES</text>\n",
       "</g>\n",
       "<!-- 8&#45;&gt;9 -->\n",
       "<g id=\"edge9\" class=\"edge\">\n",
       "<title>8&#45;&gt;9</title>\n",
       "<path fill=\"none\" stroke=\"black\" d=\"M424.25,-213.77C423.97,-203.31 423.67,-191.94 423.38,-181.32\"/>\n",
       "<polygon fill=\"black\" stroke=\"black\" points=\"426.87,-180.91 423.11,-171.01 419.88,-181.1 426.87,-180.91\"/>\n",
       "</g>\n",
       "<!-- 10 -->\n",
       "<g id=\"node11\" class=\"node\">\n",
       "<title>10</title>\n",
       "<path fill=\"#f6fbfe\" stroke=\"black\" d=\"M596.4,-178C596.4,-178 508.15,-178 508.15,-178 502.15,-178 496.15,-172 496.15,-166 496.15,-166 496.15,-112 496.15,-112 496.15,-106 502.15,-100 508.15,-100 508.15,-100 596.4,-100 596.4,-100 602.4,-100 608.4,-106 608.4,-112 608.4,-112 608.4,-166 608.4,-166 608.4,-172 602.4,-178 596.4,-178\"/>\n",
       "<text text-anchor=\"start\" x=\"518.47\" y=\"-163.8\" font-family=\"Helvetica,sans-Serif\" font-size=\"14.00\">X</text>\n",
       "<text text-anchor=\"start\" x=\"527.8\" y=\"-163.8\" font-family=\"Helvetica,sans-Serif\" baseline-shift=\"sub\" font-size=\"14.00\">3</text>\n",
       "<text text-anchor=\"start\" x=\"535.59\" y=\"-163.8\" font-family=\"Helvetica,sans-Serif\" font-size=\"14.00\"> ≤ 140.5</text>\n",
       "<text text-anchor=\"start\" x=\"523.67\" y=\"-149.8\" font-family=\"Helvetica,sans-Serif\" font-size=\"14.00\">gini = 0.5</text>\n",
       "<text text-anchor=\"start\" x=\"510.45\" y=\"-135.8\" font-family=\"Helvetica,sans-Serif\" font-size=\"14.00\">samples = 45</text>\n",
       "<text text-anchor=\"start\" x=\"504.21\" y=\"-121.8\" font-family=\"Helvetica,sans-Serif\" font-size=\"14.00\">value = [22, 23]</text>\n",
       "<text text-anchor=\"start\" x=\"514.47\" y=\"-107.8\" font-family=\"Helvetica,sans-Serif\" font-size=\"14.00\">class = YES</text>\n",
       "</g>\n",
       "<!-- 8&#45;&gt;10 -->\n",
       "<g id=\"edge10\" class=\"edge\">\n",
       "<title>8&#45;&gt;10</title>\n",
       "<path fill=\"none\" stroke=\"black\" d=\"M468.63,-213.77C479.15,-204.49 490.5,-194.48 501.34,-184.92\"/>\n",
       "<polygon fill=\"black\" stroke=\"black\" points=\"503.94,-187.3 509.12,-178.06 499.31,-182.05 503.94,-187.3\"/>\n",
       "</g>\n",
       "<!-- 11 -->\n",
       "<g id=\"node12\" class=\"node\">\n",
       "<title>11</title>\n",
       "<path fill=\"#e58139\" stroke=\"black\" d=\"M580.62,-64C580.62,-64 499.94,-64 499.94,-64 493.94,-64 487.94,-58 487.94,-52 487.94,-52 487.94,-12 487.94,-12 487.94,-6 493.94,0 499.94,0 499.94,0 580.62,0 580.62,0 586.62,0 592.62,-6 592.62,-12 592.62,-12 592.62,-52 592.62,-52 592.62,-58 586.62,-64 580.62,-64\"/>\n",
       "<text text-anchor=\"start\" x=\"511.67\" y=\"-48.8\" font-family=\"Helvetica,sans-Serif\" font-size=\"14.00\">gini = 0.0</text>\n",
       "<text text-anchor=\"start\" x=\"498.45\" y=\"-34.8\" font-family=\"Helvetica,sans-Serif\" font-size=\"14.00\">samples = 22</text>\n",
       "<text text-anchor=\"start\" x=\"496.11\" y=\"-20.8\" font-family=\"Helvetica,sans-Serif\" font-size=\"14.00\">value = [22, 0]</text>\n",
       "<text text-anchor=\"start\" x=\"505.85\" y=\"-6.8\" font-family=\"Helvetica,sans-Serif\" font-size=\"14.00\">class = NO</text>\n",
       "</g>\n",
       "<!-- 10&#45;&gt;11 -->\n",
       "<g id=\"edge11\" class=\"edge\">\n",
       "<title>10&#45;&gt;11</title>\n",
       "<path fill=\"none\" stroke=\"black\" d=\"M547.91,-99.8C546.96,-91.46 545.95,-82.6 544.98,-74.15\"/>\n",
       "<polygon fill=\"black\" stroke=\"black\" points=\"548.45,-73.66 543.83,-64.12 541.49,-74.45 548.45,-73.66\"/>\n",
       "</g>\n",
       "<!-- 12 -->\n",
       "<g id=\"node13\" class=\"node\">\n",
       "<title>12</title>\n",
       "<path fill=\"#399de5\" stroke=\"black\" d=\"M702.62,-64C702.62,-64 621.94,-64 621.94,-64 615.94,-64 609.94,-58 609.94,-52 609.94,-52 609.94,-12 609.94,-12 609.94,-6 615.94,0 621.94,0 621.94,0 702.62,0 702.62,0 708.62,0 714.62,-6 714.62,-12 714.62,-12 714.62,-52 714.62,-52 714.62,-58 708.62,-64 702.62,-64\"/>\n",
       "<text text-anchor=\"start\" x=\"633.67\" y=\"-48.8\" font-family=\"Helvetica,sans-Serif\" font-size=\"14.00\">gini = 0.0</text>\n",
       "<text text-anchor=\"start\" x=\"620.45\" y=\"-34.8\" font-family=\"Helvetica,sans-Serif\" font-size=\"14.00\">samples = 23</text>\n",
       "<text text-anchor=\"start\" x=\"618.11\" y=\"-20.8\" font-family=\"Helvetica,sans-Serif\" font-size=\"14.00\">value = [0, 23]</text>\n",
       "<text text-anchor=\"start\" x=\"624.47\" y=\"-6.8\" font-family=\"Helvetica,sans-Serif\" font-size=\"14.00\">class = YES</text>\n",
       "</g>\n",
       "<!-- 10&#45;&gt;12 -->\n",
       "<g id=\"edge12\" class=\"edge\">\n",
       "<title>10&#45;&gt;12</title>\n",
       "<path fill=\"none\" stroke=\"black\" d=\"M592.3,-99.8C602.09,-90.45 612.57,-80.45 622.35,-71.11\"/>\n",
       "<polygon fill=\"black\" stroke=\"black\" points=\"624.86,-73.55 629.68,-64.12 620.03,-68.49 624.86,-73.55\"/>\n",
       "</g>\n",
       "</g>\n",
       "</svg>\n"
      ],
      "text/plain": [
       "<graphviz.files.Source at 0x7fe04a06ff10>"
      ]
     },
     "execution_count": 90,
     "metadata": {},
     "output_type": "execute_result"
    }
   ],
   "source": [
    "# As before, we need to visualize the tree to grasp its nature\n",
    "dot_data = tree.export_graphviz(entr_model2, out_file=None)\n",
    "graph = graphviz.Source(dot_data)\n",
    "graph.render('coffee2')\n",
    "\n",
    "# Alternatively for class_names use entr_model2.classes_\n",
    "dot_data = tree.export_graphviz(entr_model2, out_file=None, \n",
    "                        \n",
    "                      class_names=entr_model2.classes_,  \n",
    "                      filled=True, rounded=True,  \n",
    "                      special_characters=True)  \n",
    "graph = graphviz.Source(dot_data)  \n",
    "graph "
   ]
  },
  {
   "cell_type": "code",
   "execution_count": 93,
   "metadata": {
    "colab": {},
    "colab_type": "code",
    "id": "29f4vmmMDuWy"
   },
   "outputs": [
    {
     "name": "stdout",
     "output_type": "stream",
     "text": [
      "Model Entropy model max depth 3\n",
      "Accuracy: 0.9747899159663865\n",
      "Balanced accuracy: 0.9691994996873046\n",
      "Precision score for \"Yes\" 0.9746835443037974\n",
      "Recall score for \"No\" 0.9512195121951219\n"
     ]
    }
   ],
   "source": [
    "# Run this block for model evaluation \n",
    "print(\"Model Entropy model max depth 3\")\n",
    "print(\"Accuracy:\", metrics.accuracy_score(y_test,y_pred))\n",
    "print(\"Balanced accuracy:\", metrics.balanced_accuracy_score(y_test,y_pred))\n",
    "print('Precision score for \"Yes\"' , metrics.precision_score(y_test,y_pred, pos_label = \"YES\"))\n",
    "print('Recall score for \"No\"' , metrics.recall_score(y_test,y_pred, pos_label = \"NO\"))"
   ]
  },
  {
   "cell_type": "markdown",
   "metadata": {
    "colab_type": "text",
    "id": "AG7S2YgUDuW4"
   },
   "source": [
    "So our accuracy decreased, but is this certainly an inferior tree to the max depth original tree we did with Model 1? Write your conclusions here: \n",
    "\n",
    "No, the data sizes are not huge and these score differences are small so we cannot say for certainty that this model is definitely inferior"
   ]
  },
  {
   "cell_type": "markdown",
   "metadata": {
    "colab_type": "text",
    "id": "FZTl4W3wDuW4"
   },
   "source": [
    "## Model 4: Gini impurity  model - max depth 3\n",
    "We're now going to try the same with the Gini impurity model. "
   ]
  },
  {
   "cell_type": "code",
   "execution_count": 98,
   "metadata": {
    "colab": {},
    "colab_type": "code",
    "id": "FJK1bkG3DuW5"
   },
   "outputs": [
    {
     "data": {
      "text/plain": [
       "DecisionTreeClassifier(max_depth=3, random_state=1234)"
      ]
     },
     "execution_count": 98,
     "metadata": {},
     "output_type": "execute_result"
    }
   ],
   "source": [
    "# As before, make a variable, but call it gini_model2, and ensure the max_depth parameter is set to 3\n",
    "gini_model2 = tree.DecisionTreeClassifier(criterion ='gini', random_state = 1234, max_depth  = 3 )\n",
    "\n",
    "# Do the fit, predict, and series transformations as before. \n",
    "gini_model2.fit(X_train, y_train)\n",
    "\n",
    "# Call predict() on the gini_model as you did with the entr_model \n",
    "y_pred = pd.Series(gini_model2.predict(X_test))\n",
    "\n",
    "# Check out gini_model\n",
    "gini_model2"
   ]
  },
  {
   "cell_type": "code",
   "execution_count": 99,
   "metadata": {
    "colab": {},
    "colab_type": "code",
    "id": "_UIWhKZBDuW7"
   },
   "outputs": [
    {
     "data": {
      "image/svg+xml": [
       "<?xml version=\"1.0\" encoding=\"UTF-8\" standalone=\"no\"?>\n",
       "<!DOCTYPE svg PUBLIC \"-//W3C//DTD SVG 1.1//EN\"\n",
       " \"http://www.w3.org/Graphics/SVG/1.1/DTD/svg11.dtd\">\n",
       "<!-- Generated by graphviz version 2.42.3 (20191010.1750)\n",
       " -->\n",
       "<!-- Title: Tree Pages: 1 -->\n",
       "<svg width=\"722pt\" height=\"414pt\"\n",
       " viewBox=\"0.00 0.00 722.45 414.00\" xmlns=\"http://www.w3.org/2000/svg\" xmlns:xlink=\"http://www.w3.org/1999/xlink\">\n",
       "<g id=\"graph0\" class=\"graph\" transform=\"scale(1 1) rotate(0) translate(4 410)\">\n",
       "<title>Tree</title>\n",
       "<polygon fill=\"white\" stroke=\"transparent\" points=\"-4,4 -4,-410 718.45,-410 718.45,4 -4,4\"/>\n",
       "<!-- 0 -->\n",
       "<g id=\"node1\" class=\"node\">\n",
       "<title>0</title>\n",
       "<path fill=\"#abd6f4\" stroke=\"black\" d=\"M407.98,-406C407.98,-406 304.58,-406 304.58,-406 298.58,-406 292.58,-400 292.58,-394 292.58,-394 292.58,-340 292.58,-340 292.58,-334 298.58,-328 304.58,-328 304.58,-328 407.98,-328 407.98,-328 413.98,-328 419.98,-334 419.98,-340 419.98,-340 419.98,-394 419.98,-394 419.98,-400 413.98,-406 407.98,-406\"/>\n",
       "<text text-anchor=\"start\" x=\"322.47\" y=\"-391.8\" font-family=\"Helvetica,sans-Serif\" font-size=\"14.00\">X</text>\n",
       "<text text-anchor=\"start\" x=\"331.8\" y=\"-391.8\" font-family=\"Helvetica,sans-Serif\" baseline-shift=\"sub\" font-size=\"14.00\">3</text>\n",
       "<text text-anchor=\"start\" x=\"339.59\" y=\"-391.8\" font-family=\"Helvetica,sans-Serif\" font-size=\"14.00\"> ≤ 100.5</text>\n",
       "<text text-anchor=\"start\" x=\"319.89\" y=\"-377.8\" font-family=\"Helvetica,sans-Serif\" font-size=\"14.00\">gini = 0.464</text>\n",
       "<text text-anchor=\"start\" x=\"310.56\" y=\"-363.8\" font-family=\"Helvetica,sans-Serif\" font-size=\"14.00\">samples = 355</text>\n",
       "<text text-anchor=\"start\" x=\"300.43\" y=\"-349.8\" font-family=\"Helvetica,sans-Serif\" font-size=\"14.00\">value = [130, 225]</text>\n",
       "<text text-anchor=\"start\" x=\"318.47\" y=\"-335.8\" font-family=\"Helvetica,sans-Serif\" font-size=\"14.00\">class = YES</text>\n",
       "</g>\n",
       "<!-- 1 -->\n",
       "<g id=\"node2\" class=\"node\">\n",
       "<title>1</title>\n",
       "<path fill=\"#f0b48a\" stroke=\"black\" d=\"M335.19,-292C335.19,-292 239.36,-292 239.36,-292 233.36,-292 227.36,-286 227.36,-280 227.36,-280 227.36,-226 227.36,-226 227.36,-220 233.36,-214 239.36,-214 239.36,-214 335.19,-214 335.19,-214 341.19,-214 347.19,-220 347.19,-226 347.19,-226 347.19,-280 347.19,-280 347.19,-286 341.19,-292 335.19,-292\"/>\n",
       "<text text-anchor=\"start\" x=\"253.47\" y=\"-277.8\" font-family=\"Helvetica,sans-Serif\" font-size=\"14.00\">X</text>\n",
       "<text text-anchor=\"start\" x=\"262.8\" y=\"-277.8\" font-family=\"Helvetica,sans-Serif\" baseline-shift=\"sub\" font-size=\"14.00\">5</text>\n",
       "<text text-anchor=\"start\" x=\"270.59\" y=\"-277.8\" font-family=\"Helvetica,sans-Serif\" font-size=\"14.00\"> ≤ 3.754</text>\n",
       "<text text-anchor=\"start\" x=\"251.4\" y=\"-263.8\" font-family=\"Helvetica,sans-Serif\" font-size=\"14.00\">gini = 0.411</text>\n",
       "<text text-anchor=\"start\" x=\"241.56\" y=\"-249.8\" font-family=\"Helvetica,sans-Serif\" font-size=\"14.00\">samples = 152</text>\n",
       "<text text-anchor=\"start\" x=\"235.32\" y=\"-235.8\" font-family=\"Helvetica,sans-Serif\" font-size=\"14.00\">value = [108, 44]</text>\n",
       "<text text-anchor=\"start\" x=\"252.85\" y=\"-221.8\" font-family=\"Helvetica,sans-Serif\" font-size=\"14.00\">class = NO</text>\n",
       "</g>\n",
       "<!-- 0&#45;&gt;1 -->\n",
       "<g id=\"edge1\" class=\"edge\">\n",
       "<title>0&#45;&gt;1</title>\n",
       "<path fill=\"none\" stroke=\"black\" d=\"M332.72,-327.77C327.34,-319.03 321.56,-309.64 315.98,-300.6\"/>\n",
       "<polygon fill=\"black\" stroke=\"black\" points=\"318.95,-298.74 310.72,-292.06 312.99,-302.41 318.95,-298.74\"/>\n",
       "<text text-anchor=\"middle\" x=\"304.95\" y=\"-312.18\" font-family=\"Helvetica,sans-Serif\" font-size=\"14.00\">True</text>\n",
       "</g>\n",
       "<!-- 8 -->\n",
       "<g id=\"node9\" class=\"node\">\n",
       "<title>8</title>\n",
       "<path fill=\"#51a9e8\" stroke=\"black\" d=\"M473.19,-292C473.19,-292 377.36,-292 377.36,-292 371.36,-292 365.36,-286 365.36,-280 365.36,-280 365.36,-226 365.36,-226 365.36,-220 371.36,-214 377.36,-214 377.36,-214 473.19,-214 473.19,-214 479.19,-214 485.19,-220 485.19,-226 485.19,-226 485.19,-280 485.19,-280 485.19,-286 479.19,-292 473.19,-292\"/>\n",
       "<text text-anchor=\"start\" x=\"391.47\" y=\"-277.8\" font-family=\"Helvetica,sans-Serif\" font-size=\"14.00\">X</text>\n",
       "<text text-anchor=\"start\" x=\"400.8\" y=\"-277.8\" font-family=\"Helvetica,sans-Serif\" baseline-shift=\"sub\" font-size=\"14.00\">5</text>\n",
       "<text text-anchor=\"start\" x=\"408.59\" y=\"-277.8\" font-family=\"Helvetica,sans-Serif\" font-size=\"14.00\"> ≤ 8.047</text>\n",
       "<text text-anchor=\"start\" x=\"388.89\" y=\"-263.8\" font-family=\"Helvetica,sans-Serif\" font-size=\"14.00\">gini = 0.193</text>\n",
       "<text text-anchor=\"start\" x=\"379.56\" y=\"-249.8\" font-family=\"Helvetica,sans-Serif\" font-size=\"14.00\">samples = 203</text>\n",
       "<text text-anchor=\"start\" x=\"373.32\" y=\"-235.8\" font-family=\"Helvetica,sans-Serif\" font-size=\"14.00\">value = [22, 181]</text>\n",
       "<text text-anchor=\"start\" x=\"387.47\" y=\"-221.8\" font-family=\"Helvetica,sans-Serif\" font-size=\"14.00\">class = YES</text>\n",
       "</g>\n",
       "<!-- 0&#45;&gt;8 -->\n",
       "<g id=\"edge8\" class=\"edge\">\n",
       "<title>0&#45;&gt;8</title>\n",
       "<path fill=\"none\" stroke=\"black\" d=\"M379.83,-327.77C385.21,-319.03 391,-309.64 396.57,-300.6\"/>\n",
       "<polygon fill=\"black\" stroke=\"black\" points=\"399.57,-302.41 401.83,-292.06 393.61,-298.74 399.57,-302.41\"/>\n",
       "<text text-anchor=\"middle\" x=\"407.61\" y=\"-312.18\" font-family=\"Helvetica,sans-Serif\" font-size=\"14.00\">False</text>\n",
       "</g>\n",
       "<!-- 2 -->\n",
       "<g id=\"node3\" class=\"node\">\n",
       "<title>2</title>\n",
       "<path fill=\"#6cb6ec\" stroke=\"black\" d=\"M207.87,-178C207.87,-178 120.68,-178 120.68,-178 114.68,-178 108.68,-172 108.68,-166 108.68,-166 108.68,-112 108.68,-112 108.68,-106 114.68,-100 120.68,-100 120.68,-100 207.87,-100 207.87,-100 213.87,-100 219.87,-106 219.87,-112 219.87,-112 219.87,-166 219.87,-166 219.87,-172 213.87,-178 207.87,-178\"/>\n",
       "<text text-anchor=\"start\" x=\"134.36\" y=\"-163.8\" font-family=\"Helvetica,sans-Serif\" font-size=\"14.00\">X</text>\n",
       "<text text-anchor=\"start\" x=\"143.7\" y=\"-163.8\" font-family=\"Helvetica,sans-Serif\" baseline-shift=\"sub\" font-size=\"14.00\">3</text>\n",
       "<text text-anchor=\"start\" x=\"151.48\" y=\"-163.8\" font-family=\"Helvetica,sans-Serif\" font-size=\"14.00\"> ≤ 24.5</text>\n",
       "<text text-anchor=\"start\" x=\"127.89\" y=\"-149.8\" font-family=\"Helvetica,sans-Serif\" font-size=\"14.00\">gini = 0.324</text>\n",
       "<text text-anchor=\"start\" x=\"122.45\" y=\"-135.8\" font-family=\"Helvetica,sans-Serif\" font-size=\"14.00\">samples = 54</text>\n",
       "<text text-anchor=\"start\" x=\"116.73\" y=\"-121.8\" font-family=\"Helvetica,sans-Serif\" font-size=\"14.00\">value = [11, 43]</text>\n",
       "<text text-anchor=\"start\" x=\"126.47\" y=\"-107.8\" font-family=\"Helvetica,sans-Serif\" font-size=\"14.00\">class = YES</text>\n",
       "</g>\n",
       "<!-- 1&#45;&gt;2 -->\n",
       "<g id=\"edge2\" class=\"edge\">\n",
       "<title>1&#45;&gt;2</title>\n",
       "<path fill=\"none\" stroke=\"black\" d=\"M245.29,-213.77C235.1,-204.49 224.11,-194.48 213.61,-184.92\"/>\n",
       "<polygon fill=\"black\" stroke=\"black\" points=\"215.82,-182.2 206.07,-178.06 211.11,-187.38 215.82,-182.2\"/>\n",
       "</g>\n",
       "<!-- 5 -->\n",
       "<g id=\"node6\" class=\"node\">\n",
       "<title>5</title>\n",
       "<path fill=\"#e5823b\" stroke=\"black\" d=\"M330.62,-178C330.62,-178 249.94,-178 249.94,-178 243.94,-178 237.94,-172 237.94,-166 237.94,-166 237.94,-112 237.94,-112 237.94,-106 243.94,-100 249.94,-100 249.94,-100 330.62,-100 330.62,-100 336.62,-100 342.62,-106 342.62,-112 342.62,-112 342.62,-166 342.62,-166 342.62,-172 336.62,-178 330.62,-178\"/>\n",
       "<text text-anchor=\"start\" x=\"264.25\" y=\"-163.8\" font-family=\"Helvetica,sans-Serif\" font-size=\"14.00\">X</text>\n",
       "<text text-anchor=\"start\" x=\"273.59\" y=\"-163.8\" font-family=\"Helvetica,sans-Serif\" baseline-shift=\"sub\" font-size=\"14.00\">5</text>\n",
       "<text text-anchor=\"start\" x=\"281.38\" y=\"-163.8\" font-family=\"Helvetica,sans-Serif\" font-size=\"14.00\"> ≤ 4.0</text>\n",
       "<text text-anchor=\"start\" x=\"257.78\" y=\"-149.8\" font-family=\"Helvetica,sans-Serif\" font-size=\"14.00\">gini = 0.02</text>\n",
       "<text text-anchor=\"start\" x=\"248.45\" y=\"-135.8\" font-family=\"Helvetica,sans-Serif\" font-size=\"14.00\">samples = 98</text>\n",
       "<text text-anchor=\"start\" x=\"246.11\" y=\"-121.8\" font-family=\"Helvetica,sans-Serif\" font-size=\"14.00\">value = [97, 1]</text>\n",
       "<text text-anchor=\"start\" x=\"255.85\" y=\"-107.8\" font-family=\"Helvetica,sans-Serif\" font-size=\"14.00\">class = NO</text>\n",
       "</g>\n",
       "<!-- 1&#45;&gt;5 -->\n",
       "<g id=\"edge5\" class=\"edge\">\n",
       "<title>1&#45;&gt;5</title>\n",
       "<path fill=\"none\" stroke=\"black\" d=\"M288.3,-213.77C288.52,-205.57 288.76,-196.8 288.98,-188.28\"/>\n",
       "<polygon fill=\"black\" stroke=\"black\" points=\"292.49,-188.15 289.26,-178.06 285.49,-187.96 292.49,-188.15\"/>\n",
       "</g>\n",
       "<!-- 3 -->\n",
       "<g id=\"node4\" class=\"node\">\n",
       "<title>3</title>\n",
       "<path fill=\"#e58139\" stroke=\"black\" d=\"M84.33,-64C84.33,-64 12.22,-64 12.22,-64 6.22,-64 0.22,-58 0.22,-52 0.22,-52 0.22,-12 0.22,-12 0.22,-6 6.22,0 12.22,0 12.22,0 84.33,0 84.33,0 90.33,0 96.33,-6 96.33,-12 96.33,-12 96.33,-52 96.33,-52 96.33,-58 90.33,-64 84.33,-64\"/>\n",
       "<text text-anchor=\"start\" x=\"19.67\" y=\"-48.8\" font-family=\"Helvetica,sans-Serif\" font-size=\"14.00\">gini = 0.0</text>\n",
       "<text text-anchor=\"start\" x=\"10.34\" y=\"-34.8\" font-family=\"Helvetica,sans-Serif\" font-size=\"14.00\">samples = 8</text>\n",
       "<text text-anchor=\"start\" x=\"8\" y=\"-20.8\" font-family=\"Helvetica,sans-Serif\" font-size=\"14.00\">value = [8, 0]</text>\n",
       "<text text-anchor=\"start\" x=\"13.85\" y=\"-6.8\" font-family=\"Helvetica,sans-Serif\" font-size=\"14.00\">class = NO</text>\n",
       "</g>\n",
       "<!-- 2&#45;&gt;3 -->\n",
       "<g id=\"edge3\" class=\"edge\">\n",
       "<title>2&#45;&gt;3</title>\n",
       "<path fill=\"none\" stroke=\"black\" d=\"M122.07,-99.8C111.65,-90.36 100.48,-80.25 90.08,-70.84\"/>\n",
       "<polygon fill=\"black\" stroke=\"black\" points=\"92.42,-68.23 82.65,-64.12 87.72,-73.42 92.42,-68.23\"/>\n",
       "</g>\n",
       "<!-- 4 -->\n",
       "<g id=\"node5\" class=\"node\">\n",
       "<title>4</title>\n",
       "<path fill=\"#47a4e7\" stroke=\"black\" d=\"M206.62,-64C206.62,-64 125.94,-64 125.94,-64 119.94,-64 113.94,-58 113.94,-52 113.94,-52 113.94,-12 113.94,-12 113.94,-6 119.94,0 125.94,0 125.94,0 206.62,0 206.62,0 212.62,0 218.62,-6 218.62,-12 218.62,-12 218.62,-52 218.62,-52 218.62,-58 212.62,-64 206.62,-64\"/>\n",
       "<text text-anchor=\"start\" x=\"129.89\" y=\"-48.8\" font-family=\"Helvetica,sans-Serif\" font-size=\"14.00\">gini = 0.122</text>\n",
       "<text text-anchor=\"start\" x=\"124.45\" y=\"-34.8\" font-family=\"Helvetica,sans-Serif\" font-size=\"14.00\">samples = 46</text>\n",
       "<text text-anchor=\"start\" x=\"122.11\" y=\"-20.8\" font-family=\"Helvetica,sans-Serif\" font-size=\"14.00\">value = [3, 43]</text>\n",
       "<text text-anchor=\"start\" x=\"128.47\" y=\"-6.8\" font-family=\"Helvetica,sans-Serif\" font-size=\"14.00\">class = YES</text>\n",
       "</g>\n",
       "<!-- 2&#45;&gt;4 -->\n",
       "<g id=\"edge4\" class=\"edge\">\n",
       "<title>2&#45;&gt;4</title>\n",
       "<path fill=\"none\" stroke=\"black\" d=\"M165.01,-99.8C165.16,-91.46 165.33,-82.6 165.49,-74.15\"/>\n",
       "<polygon fill=\"black\" stroke=\"black\" points=\"168.99,-74.18 165.68,-64.12 161.99,-74.05 168.99,-74.18\"/>\n",
       "</g>\n",
       "<!-- 6 -->\n",
       "<g id=\"node7\" class=\"node\">\n",
       "<title>6</title>\n",
       "<path fill=\"#f2c09c\" stroke=\"black\" d=\"M324.33,-64C324.33,-64 252.22,-64 252.22,-64 246.22,-64 240.22,-58 240.22,-52 240.22,-52 240.22,-12 240.22,-12 240.22,-6 246.22,0 252.22,0 252.22,0 324.33,0 324.33,0 330.33,0 336.33,-6 336.33,-12 336.33,-12 336.33,-52 336.33,-52 336.33,-58 330.33,-64 324.33,-64\"/>\n",
       "<text text-anchor=\"start\" x=\"251.89\" y=\"-48.8\" font-family=\"Helvetica,sans-Serif\" font-size=\"14.00\">gini = 0.444</text>\n",
       "<text text-anchor=\"start\" x=\"250.34\" y=\"-34.8\" font-family=\"Helvetica,sans-Serif\" font-size=\"14.00\">samples = 3</text>\n",
       "<text text-anchor=\"start\" x=\"248\" y=\"-20.8\" font-family=\"Helvetica,sans-Serif\" font-size=\"14.00\">value = [2, 1]</text>\n",
       "<text text-anchor=\"start\" x=\"253.85\" y=\"-6.8\" font-family=\"Helvetica,sans-Serif\" font-size=\"14.00\">class = NO</text>\n",
       "</g>\n",
       "<!-- 5&#45;&gt;6 -->\n",
       "<g id=\"edge6\" class=\"edge\">\n",
       "<title>5&#45;&gt;6</title>\n",
       "<path fill=\"none\" stroke=\"black\" d=\"M289.55,-99.8C289.39,-91.46 289.22,-82.6 289.06,-74.15\"/>\n",
       "<polygon fill=\"black\" stroke=\"black\" points=\"292.56,-74.05 288.87,-64.12 285.56,-74.18 292.56,-74.05\"/>\n",
       "</g>\n",
       "<!-- 7 -->\n",
       "<g id=\"node8\" class=\"node\">\n",
       "<title>7</title>\n",
       "<path fill=\"#e58139\" stroke=\"black\" d=\"M446.62,-64C446.62,-64 365.94,-64 365.94,-64 359.94,-64 353.94,-58 353.94,-52 353.94,-52 353.94,-12 353.94,-12 353.94,-6 359.94,0 365.94,0 365.94,0 446.62,0 446.62,0 452.62,0 458.62,-6 458.62,-12 458.62,-12 458.62,-52 458.62,-52 458.62,-58 452.62,-64 446.62,-64\"/>\n",
       "<text text-anchor=\"start\" x=\"377.67\" y=\"-48.8\" font-family=\"Helvetica,sans-Serif\" font-size=\"14.00\">gini = 0.0</text>\n",
       "<text text-anchor=\"start\" x=\"364.45\" y=\"-34.8\" font-family=\"Helvetica,sans-Serif\" font-size=\"14.00\">samples = 95</text>\n",
       "<text text-anchor=\"start\" x=\"362.11\" y=\"-20.8\" font-family=\"Helvetica,sans-Serif\" font-size=\"14.00\">value = [95, 0]</text>\n",
       "<text text-anchor=\"start\" x=\"371.85\" y=\"-6.8\" font-family=\"Helvetica,sans-Serif\" font-size=\"14.00\">class = NO</text>\n",
       "</g>\n",
       "<!-- 5&#45;&gt;7 -->\n",
       "<g id=\"edge7\" class=\"edge\">\n",
       "<title>5&#45;&gt;7</title>\n",
       "<path fill=\"none\" stroke=\"black\" d=\"M332.48,-99.8C342.91,-90.36 354.07,-80.25 364.48,-70.84\"/>\n",
       "<polygon fill=\"black\" stroke=\"black\" points=\"366.84,-73.42 371.9,-64.12 362.14,-68.23 366.84,-73.42\"/>\n",
       "</g>\n",
       "<!-- 9 -->\n",
       "<g id=\"node10\" class=\"node\">\n",
       "<title>9</title>\n",
       "<path fill=\"#399de5\" stroke=\"black\" d=\"M466.4,-171C466.4,-171 378.15,-171 378.15,-171 372.15,-171 366.15,-165 366.15,-159 366.15,-159 366.15,-119 366.15,-119 366.15,-113 372.15,-107 378.15,-107 378.15,-107 466.4,-107 466.4,-107 472.4,-107 478.4,-113 478.4,-119 478.4,-119 478.4,-159 478.4,-159 478.4,-165 472.4,-171 466.4,-171\"/>\n",
       "<text text-anchor=\"start\" x=\"393.67\" y=\"-155.8\" font-family=\"Helvetica,sans-Serif\" font-size=\"14.00\">gini = 0.0</text>\n",
       "<text text-anchor=\"start\" x=\"376.56\" y=\"-141.8\" font-family=\"Helvetica,sans-Serif\" font-size=\"14.00\">samples = 158</text>\n",
       "<text text-anchor=\"start\" x=\"374.21\" y=\"-127.8\" font-family=\"Helvetica,sans-Serif\" font-size=\"14.00\">value = [0, 158]</text>\n",
       "<text text-anchor=\"start\" x=\"384.47\" y=\"-113.8\" font-family=\"Helvetica,sans-Serif\" font-size=\"14.00\">class = YES</text>\n",
       "</g>\n",
       "<!-- 8&#45;&gt;9 -->\n",
       "<g id=\"edge9\" class=\"edge\">\n",
       "<title>8&#45;&gt;9</title>\n",
       "<path fill=\"none\" stroke=\"black\" d=\"M424.25,-213.77C423.97,-203.31 423.67,-191.94 423.38,-181.32\"/>\n",
       "<polygon fill=\"black\" stroke=\"black\" points=\"426.87,-180.91 423.11,-171.01 419.88,-181.1 426.87,-180.91\"/>\n",
       "</g>\n",
       "<!-- 10 -->\n",
       "<g id=\"node11\" class=\"node\">\n",
       "<title>10</title>\n",
       "<path fill=\"#f6fbfe\" stroke=\"black\" d=\"M596.4,-178C596.4,-178 508.15,-178 508.15,-178 502.15,-178 496.15,-172 496.15,-166 496.15,-166 496.15,-112 496.15,-112 496.15,-106 502.15,-100 508.15,-100 508.15,-100 596.4,-100 596.4,-100 602.4,-100 608.4,-106 608.4,-112 608.4,-112 608.4,-166 608.4,-166 608.4,-172 602.4,-178 596.4,-178\"/>\n",
       "<text text-anchor=\"start\" x=\"518.47\" y=\"-163.8\" font-family=\"Helvetica,sans-Serif\" font-size=\"14.00\">X</text>\n",
       "<text text-anchor=\"start\" x=\"527.8\" y=\"-163.8\" font-family=\"Helvetica,sans-Serif\" baseline-shift=\"sub\" font-size=\"14.00\">3</text>\n",
       "<text text-anchor=\"start\" x=\"535.59\" y=\"-163.8\" font-family=\"Helvetica,sans-Serif\" font-size=\"14.00\"> ≤ 140.5</text>\n",
       "<text text-anchor=\"start\" x=\"523.67\" y=\"-149.8\" font-family=\"Helvetica,sans-Serif\" font-size=\"14.00\">gini = 0.5</text>\n",
       "<text text-anchor=\"start\" x=\"510.45\" y=\"-135.8\" font-family=\"Helvetica,sans-Serif\" font-size=\"14.00\">samples = 45</text>\n",
       "<text text-anchor=\"start\" x=\"504.21\" y=\"-121.8\" font-family=\"Helvetica,sans-Serif\" font-size=\"14.00\">value = [22, 23]</text>\n",
       "<text text-anchor=\"start\" x=\"514.47\" y=\"-107.8\" font-family=\"Helvetica,sans-Serif\" font-size=\"14.00\">class = YES</text>\n",
       "</g>\n",
       "<!-- 8&#45;&gt;10 -->\n",
       "<g id=\"edge10\" class=\"edge\">\n",
       "<title>8&#45;&gt;10</title>\n",
       "<path fill=\"none\" stroke=\"black\" d=\"M468.63,-213.77C479.15,-204.49 490.5,-194.48 501.34,-184.92\"/>\n",
       "<polygon fill=\"black\" stroke=\"black\" points=\"503.94,-187.3 509.12,-178.06 499.31,-182.05 503.94,-187.3\"/>\n",
       "</g>\n",
       "<!-- 11 -->\n",
       "<g id=\"node12\" class=\"node\">\n",
       "<title>11</title>\n",
       "<path fill=\"#e58139\" stroke=\"black\" d=\"M580.62,-64C580.62,-64 499.94,-64 499.94,-64 493.94,-64 487.94,-58 487.94,-52 487.94,-52 487.94,-12 487.94,-12 487.94,-6 493.94,0 499.94,0 499.94,0 580.62,0 580.62,0 586.62,0 592.62,-6 592.62,-12 592.62,-12 592.62,-52 592.62,-52 592.62,-58 586.62,-64 580.62,-64\"/>\n",
       "<text text-anchor=\"start\" x=\"511.67\" y=\"-48.8\" font-family=\"Helvetica,sans-Serif\" font-size=\"14.00\">gini = 0.0</text>\n",
       "<text text-anchor=\"start\" x=\"498.45\" y=\"-34.8\" font-family=\"Helvetica,sans-Serif\" font-size=\"14.00\">samples = 22</text>\n",
       "<text text-anchor=\"start\" x=\"496.11\" y=\"-20.8\" font-family=\"Helvetica,sans-Serif\" font-size=\"14.00\">value = [22, 0]</text>\n",
       "<text text-anchor=\"start\" x=\"505.85\" y=\"-6.8\" font-family=\"Helvetica,sans-Serif\" font-size=\"14.00\">class = NO</text>\n",
       "</g>\n",
       "<!-- 10&#45;&gt;11 -->\n",
       "<g id=\"edge11\" class=\"edge\">\n",
       "<title>10&#45;&gt;11</title>\n",
       "<path fill=\"none\" stroke=\"black\" d=\"M547.91,-99.8C546.96,-91.46 545.95,-82.6 544.98,-74.15\"/>\n",
       "<polygon fill=\"black\" stroke=\"black\" points=\"548.45,-73.66 543.83,-64.12 541.49,-74.45 548.45,-73.66\"/>\n",
       "</g>\n",
       "<!-- 12 -->\n",
       "<g id=\"node13\" class=\"node\">\n",
       "<title>12</title>\n",
       "<path fill=\"#399de5\" stroke=\"black\" d=\"M702.62,-64C702.62,-64 621.94,-64 621.94,-64 615.94,-64 609.94,-58 609.94,-52 609.94,-52 609.94,-12 609.94,-12 609.94,-6 615.94,0 621.94,0 621.94,0 702.62,0 702.62,0 708.62,0 714.62,-6 714.62,-12 714.62,-12 714.62,-52 714.62,-52 714.62,-58 708.62,-64 702.62,-64\"/>\n",
       "<text text-anchor=\"start\" x=\"633.67\" y=\"-48.8\" font-family=\"Helvetica,sans-Serif\" font-size=\"14.00\">gini = 0.0</text>\n",
       "<text text-anchor=\"start\" x=\"620.45\" y=\"-34.8\" font-family=\"Helvetica,sans-Serif\" font-size=\"14.00\">samples = 23</text>\n",
       "<text text-anchor=\"start\" x=\"618.11\" y=\"-20.8\" font-family=\"Helvetica,sans-Serif\" font-size=\"14.00\">value = [0, 23]</text>\n",
       "<text text-anchor=\"start\" x=\"624.47\" y=\"-6.8\" font-family=\"Helvetica,sans-Serif\" font-size=\"14.00\">class = YES</text>\n",
       "</g>\n",
       "<!-- 10&#45;&gt;12 -->\n",
       "<g id=\"edge12\" class=\"edge\">\n",
       "<title>10&#45;&gt;12</title>\n",
       "<path fill=\"none\" stroke=\"black\" d=\"M592.3,-99.8C602.09,-90.45 612.57,-80.45 622.35,-71.11\"/>\n",
       "<polygon fill=\"black\" stroke=\"black\" points=\"624.86,-73.55 629.68,-64.12 620.03,-68.49 624.86,-73.55\"/>\n",
       "</g>\n",
       "</g>\n",
       "</svg>\n"
      ],
      "text/plain": [
       "<graphviz.files.Source at 0x7fe032a6a490>"
      ]
     },
     "execution_count": 99,
     "metadata": {},
     "output_type": "execute_result"
    }
   ],
   "source": [
    "dot_data = StringIO()\n",
    "tree.export_graphviz(gini_model2, out_file=dot_data)\n",
    "graph = pydotplus.graph_from_dot_data(dot_data.getvalue())\n",
    "Image(graph.create_png()) \n",
    "\n",
    "# Alternatively for class_names use gini_model2.classes_\n",
    "dot_data = tree.export_graphviz(gini_model2, out_file=None, \n",
    "                        \n",
    "                      class_names=gini_model2.classes_,  \n",
    "                      filled=True, rounded=True,  \n",
    "                      special_characters=True)  \n",
    "graph = graphviz.Source(dot_data)  \n",
    "graph "
   ]
  },
  {
   "cell_type": "code",
   "execution_count": 100,
   "metadata": {
    "colab": {},
    "colab_type": "code",
    "id": "R4t7e9-GDuW9"
   },
   "outputs": [
    {
     "name": "stdout",
     "output_type": "stream",
     "text": [
      "Gini impurity  model - max depth 3\n",
      "Accuracy: 0.9747899159663865\n",
      "Balanced accuracy: 0.9691994996873046\n",
      "Precision score 0.9746835443037974\n",
      "Recall score 0.9512195121951219\n"
     ]
    }
   ],
   "source": [
    "print(\"Gini impurity  model - max depth 3\")\n",
    "print(\"Accuracy:\", metrics.accuracy_score(y_test,y_pred))\n",
    "print(\"Balanced accuracy:\", metrics.balanced_accuracy_score(y_test,y_pred))\n",
    "print('Precision score' , metrics.precision_score(y_test,y_pred, pos_label = \"YES\"))\n",
    "print('Recall score' , metrics.recall_score(y_test,y_pred, pos_label = \"NO\"))"
   ]
  },
  {
   "cell_type": "markdown",
   "metadata": {
    "colab_type": "text",
    "id": "UzGThBXSDuW-"
   },
   "source": [
    "Now this is an elegant tree. Its accuracy might not be the highest, but it's still the best model we've produced so far. Why is that? Write your answer here: \n",
    "\n",
    "Lower compute cost, easily explainable due to simple visualisation"
   ]
  },
  {
   "cell_type": "markdown",
   "metadata": {
    "colab_type": "text",
    "id": "jS1niFlCDuW_"
   },
   "source": [
    "# 4. Evaluating and concluding\n",
    "## 4a. How many customers will buy Hidden Farm coffee? \n",
    "Let's first ascertain how many loyal customers claimed, in the survey, that they will purchase the Hidden Farm coffee. "
   ]
  },
  {
   "cell_type": "code",
   "execution_count": 101,
   "metadata": {
    "colab": {},
    "colab_type": "code",
    "id": "QPHXnHZvDuXC"
   },
   "outputs": [
    {
     "data": {
      "text/plain": [
       "YES    303\n",
       "NO     171\n",
       "Name: Decision, dtype: int64"
      ]
     },
     "execution_count": 101,
     "metadata": {},
     "output_type": "execute_result"
    }
   ],
   "source": [
    "# Call value_counts() on the 'Decision' column of the original coffeeData\n",
    "coffeeData.Decision.value_counts()"
   ]
  },
  {
   "cell_type": "markdown",
   "metadata": {
    "colab_type": "text",
    "id": "kw_5g_ZEDuXD"
   },
   "source": [
    "Let's now determine the number of people that, according to the model, will be willing to buy the Hidden Farm coffee. \n",
    "1. First we subset the Prediction dataset into `new_X` considering all the variables except `Decision` \n",
    "2. Use that dataset to predict a new variable called `potential_buyers`"
   ]
  },
  {
   "cell_type": "code",
   "execution_count": 102,
   "metadata": {
    "colab": {},
    "colab_type": "code",
    "id": "mwypR8ymDuXE"
   },
   "outputs": [],
   "source": [
    "# Feature selection\n",
    "# Make a variable called feature_cols, and assign it a list containing all the column names except 'Decision'\n",
    "feature_cols = [column for column in Prediction.columns if column != 'Decision']\n",
    "\n",
    "# Make a variable called new_X, and assign it the subset of Prediction, containing just the feature_cols \n",
    "new_X = Prediction[feature_cols]"
   ]
  },
  {
   "cell_type": "code",
   "execution_count": 119,
   "metadata": {
    "colab": {},
    "colab_type": "code",
    "id": "0ajvbeRSDuXG"
   },
   "outputs": [],
   "source": [
    "# Call get_dummies() on the Pandas object pd, with new_X plugged in, to one-hot encode all features in the training set\n",
    "new_X = pd.get_dummies(new_X)\n",
    "\n",
    "# Make a variable called potential_buyers, and assign it the result of calling predict() on a model of your choice; \n",
    "# don't forget to pass new_X to predict()\n",
    "potential_buyers = gini_model2.predict(new_X)"
   ]
  },
  {
   "cell_type": "code",
   "execution_count": 120,
   "metadata": {
    "colab": {},
    "colab_type": "code",
    "id": "-MO_KWT9DuXI"
   },
   "outputs": [
    {
     "data": {
      "text/plain": [
       "(array(['NO', 'YES'], dtype=object), array([ 45, 183]))"
      ]
     },
     "execution_count": 120,
     "metadata": {},
     "output_type": "execute_result"
    }
   ],
   "source": [
    "# Let's get the numbers of YES's and NO's in the potential buyers \n",
    "# Call unique() on np, and pass potential_buyers and return_counts=True \n",
    "np.unique(potential_buyers, return_counts=True)"
   ]
  },
  {
   "cell_type": "markdown",
   "metadata": {
    "colab_type": "text",
    "id": "3CB7HbiTDuXJ"
   },
   "source": [
    "The total number of potential buyers is 303 + 183 = 486"
   ]
  },
  {
   "cell_type": "code",
   "execution_count": 121,
   "metadata": {
    "colab": {},
    "colab_type": "code",
    "id": "9EGFQcTuDuXK"
   },
   "outputs": [
    {
     "data": {
      "text/plain": [
       "702"
      ]
     },
     "execution_count": 121,
     "metadata": {},
     "output_type": "execute_result"
    }
   ],
   "source": [
    "# Print the total number of surveyed people \n",
    "len(coffeeData)"
   ]
  },
  {
   "cell_type": "code",
   "execution_count": 140,
   "metadata": {
    "colab": {},
    "colab_type": "code",
    "id": "22_KRMX4DuXM"
   },
   "outputs": [
    {
     "data": {
      "text/plain": [
       "0.6923076923076923"
      ]
     },
     "execution_count": 140,
     "metadata": {},
     "output_type": "execute_result"
    }
   ],
   "source": [
    "# Let's calculate the proportion of buyers\n",
    "prop = 486/702\n",
    "prop"
   ]
  },
  {
   "cell_type": "code",
   "execution_count": 126,
   "metadata": {
    "colab": {},
    "colab_type": "code",
    "id": "xLMCDMpmDuXO"
   },
   "outputs": [
    {
     "name": "stdout",
     "output_type": "stream",
     "text": [
      "The Percentage of people who want to buy Hidden Farm Coffee, according to our model, is 69.23%\n"
     ]
    }
   ],
   "source": [
    "# Print the percentage of people who want to buy the Hidden Farm coffee, by our model \n",
    "print('The Percentage of people who want to buy Hidden Farm Coffee, according to our model, is {:.2f}%'.format(prop*100))"
   ]
  },
  {
   "cell_type": "markdown",
   "metadata": {
    "colab_type": "text",
    "id": "9bRDyi6rDuXQ"
   },
   "source": [
    "## 4b. Decision\n",
    "Remember how you thought at the start: if more than 70% of the interviewed customers are likely to buy the Hidden Farm coffee, you will strike the deal with the local Hidden Farm farmers and sell the coffee. Otherwise, you won't strike the deal and the Hidden Farm coffee will remain in legends only. Well now's crunch time. Are you going to go ahead with that idea? If so, you won't be striking the deal with the Chinese farmers. \n",
    "\n",
    "They're called `decision trees`, aren't they? So where's the decision? What should you do? (Cue existential cat emoji). \n",
    "\n",
    "Ultimately, though, we can't write an algorithm to actually *make the business decision* for us. This is because such decisions depend on our values, what risks we are willing to take, the stakes of our decisions, and how important it us for us to *know* that we will succeed. What are you going to do with the models you've made? Are you going to risk everything, strike the deal with the *Hidden Farm* farmers, and sell the coffee? \n",
    "\n",
    "The philosopher of language Jason Stanley once wrote that the number of doubts our evidence has to rule out in order for us to know a given proposition depends on our stakes: the higher our stakes, the more doubts our evidence has to rule out, and therefore the harder it is for us to know things. We can end up paralyzed in predicaments; sometimes, we can act to better our situation only if we already know certain things, which we can only if our stakes were lower and we'd *already* bettered our situation. \n",
    "\n",
    "Data science and machine learning can't solve such problems. But what it can do is help us make great use of our data to help *inform* our decisions."
   ]
  },
  {
   "cell_type": "markdown",
   "metadata": {
    "colab_type": "text",
    "id": "crWWrpdox8i-"
   },
   "source": [
    "## 5. Random Forest\n",
    "You might have noticed an important fact about decision trees. Each time we run a given decision tree algorithm to make a prediction (such as whether customers will buy the Hidden Farm coffee) we will actually get a slightly different result. This might seem weird, but it has a simple explanation: machine learning algorithms are by definition ***stochastic***, in that their output is at least partly determined by randomness. \n",
    "\n",
    "To account for this variability and ensure that we get the most accurate prediction, we might want to actually make lots of decision trees, and get a value that captures the center or average of the outputs of those trees. Luckily, there's a method for this, known as the ***Random Forest***. \n",
    "\n",
    "Essentially, Random Forest involves making lots of trees with similar properties, and then performing summary statistics on the outputs of those trees to reach that central value. Random forests are hugely powerful classifers, and they can improve predictive accuracy and control over-fitting. \n",
    "\n",
    "Why not try to inform your decision with random forest? You'll need to make use of the RandomForestClassifier function within the sklearn.ensemble module, found [here](https://scikit-learn.org/stable/modules/generated/sklearn.ensemble.RandomForestClassifier.html). "
   ]
  },
  {
   "cell_type": "markdown",
   "metadata": {
    "colab_type": "text",
    "id": "fI4fiVWq0IH9"
   },
   "source": [
    "### 5a. Import necessary modules"
   ]
  },
  {
   "cell_type": "code",
   "execution_count": 127,
   "metadata": {
    "colab": {},
    "colab_type": "code",
    "id": "vSRTnHnD0D-O"
   },
   "outputs": [],
   "source": [
    "from sklearn.ensemble import RandomForestClassifier\n",
    "from sklearn.datasets import make_classification"
   ]
  },
  {
   "cell_type": "markdown",
   "metadata": {
    "colab_type": "text",
    "id": "jKmFvvjb0WB9"
   },
   "source": [
    "### 5b. Model\n",
    "You'll use your X_train and y_train variables just as before.\n",
    "\n",
    "You'll then need to make a variable (call it firstRFModel) to store your new Random Forest model. You'll assign this variable the result of calling RandomForestClassifier().\n",
    "\n",
    "Then, just as before, you'll call fit() on that firstRFModel variable, and plug in X_train and y_train.\n",
    "\n",
    "Finally, you should make a variable called y_pred, and assign it the result of calling the predict() method on your new firstRFModel, with the X_test data passed to it. "
   ]
  },
  {
   "cell_type": "code",
   "execution_count": 138,
   "metadata": {
    "colab": {},
    "colab_type": "code",
    "id": "OQEeTiRG1aSm"
   },
   "outputs": [
    {
     "name": "stdout",
     "output_type": "stream",
     "text": [
      "RF Model - max depth 5\n",
      "Accuracy: 0.9831932773109243\n",
      "Balanced accuracy: 0.9813946216385241\n",
      "Precision score 0.9871794871794872\n",
      "Recall score 0.975609756097561\n"
     ]
    },
    {
     "data": {
      "text/plain": [
       "(array(['NO', 'YES'], dtype=object), array([ 42, 186]))"
      ]
     },
     "execution_count": 138,
     "metadata": {},
     "output_type": "execute_result"
    }
   ],
   "source": [
    "# Plug in appropriate max_depth and random_state parameters \n",
    "firstRFModel = RandomForestClassifier(max_depth = 5, random_state=5765)\n",
    "\n",
    "# Model and fit\n",
    "firstRFModel.fit(X_train, y_train)\n",
    "\n",
    "y_pred = pd.Series(firstRFModel.predict(X_test))\n",
    "\n",
    "print(\"RF Model - max depth 5\")\n",
    "print(\"Accuracy:\", metrics.accuracy_score(y_test,y_pred))\n",
    "print(\"Balanced accuracy:\", metrics.balanced_accuracy_score(y_test,y_pred))\n",
    "print('Precision score' , metrics.precision_score(y_test,y_pred, pos_label = \"YES\"))\n",
    "print('Recall score' , metrics.recall_score(y_test,y_pred, pos_label = \"NO\"))\n",
    "\n",
    "potential_buyers = firstRFModel.predict(new_X)\n",
    "\n",
    "np.unique(potential_buyers, return_counts=True)\n",
    "\n"
   ]
  },
  {
   "cell_type": "markdown",
   "metadata": {
    "colab_type": "text",
    "id": "sCIt6pyn1zpb"
   },
   "source": [
    "### 5c. Revise conclusion\n",
    "\n",
    "Has your conclusion changed? Or is the result of executing random forest the same as your best model reached by a single decision tree? \n",
    "\n",
    "No real change to conclusion - still on the decision boundary in terms of confidence"
   ]
  },
  {
   "cell_type": "code",
   "execution_count": null,
   "metadata": {},
   "outputs": [],
   "source": []
  }
 ],
 "metadata": {
  "colab": {
   "collapsed_sections": [],
   "name": "Springboard Decision Tree Specialty Coffee Case Study - Tier 3.ipynb",
   "provenance": []
  },
  "kernelspec": {
   "display_name": "Python 3",
   "language": "python",
   "name": "python3"
  },
  "language_info": {
   "codemirror_mode": {
    "name": "ipython",
    "version": 3
   },
   "file_extension": ".py",
   "mimetype": "text/x-python",
   "name": "python",
   "nbconvert_exporter": "python",
   "pygments_lexer": "ipython3",
   "version": "3.7.7"
  }
 },
 "nbformat": 4,
 "nbformat_minor": 1
}
